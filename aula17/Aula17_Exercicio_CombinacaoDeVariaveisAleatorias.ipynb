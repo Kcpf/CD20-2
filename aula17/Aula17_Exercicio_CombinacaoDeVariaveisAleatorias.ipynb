{
 "cells": [
  {
   "cell_type": "markdown",
   "metadata": {},
   "source": [
    "# Exercícios: Combinação linear de variáveis aleatórias e propriedades de esperança e variância\n",
    "___\n",
    "\n",
    "## Aula 17 - Exercícios"
   ]
  },
  {
   "cell_type": "markdown",
   "metadata": {},
   "source": [
    "<div id=\"indice\"></div>\n",
    "\n",
    "## Índice\n",
    "\n",
    "- [Exercício 1](#ex1)\n",
    "- [Exercício 2](#ex2)\n",
    "- [Exercício 3](#ex3)\n",
    "- [Exercício 4](#ex4)\n",
    "- [Exercício 5](#ex5)\n",
    "- [Exercício 6](#ex6)\n",
    "- [Respostas](#respostas)\n",
    "    - [Exercício 1a](#resposta1a)\n",
    "    - [Exercício 1b](#resposta1b)\n",
    "    - [Exercício 2a](#resposta2a)\n",
    "    - [Exercício 2b](#resposta2b)\n",
    "    - [Exercício 3](#resposta3)\n",
    "    - [Exercício 4](#resposta4)\n",
    "    - [Exercício 5](#resposta5)\n",
    "______"
   ]
  },
  {
   "cell_type": "code",
   "execution_count": 2,
   "metadata": {},
   "outputs": [],
   "source": [
    "from scipy import stats\n",
    "import pandas as pd\n",
    "import matplotlib.pyplot as plt"
   ]
  },
  {
   "cell_type": "markdown",
   "metadata": {},
   "source": [
    "<div id=\"ex1\"></div>\n",
    "\n",
    "### EXERCÍCIO 1\n",
    "\n",
    "Sejam $X \\sim Exp(\\mu=10)$ e $Y \\sim Exp(\\mu=20)$, duas variáveis aleatórias independentes.  \n",
    "\n",
    "Vamos definir a variável aleatória $Z$ como $Z = 2X + 3Y$\n",
    "\n",
    "Responda:\n",
    "\n",
    "<div id=\"ex1a\"></div>\n",
    "\n",
    "**a.** Qual deve ser $E(Z)$ e $Var(Z)$? Responda usando a teoria.\n",
    "\n",
    "<a href=\"#resposta1a\">Respostas</a>"
   ]
  },
  {
   "cell_type": "code",
   "execution_count": 16,
   "metadata": {},
   "outputs": [
    {
     "name": "stdout",
     "output_type": "stream",
     "text": [
      "80\n",
      "3999.9999999999995\n"
     ]
    }
   ],
   "source": [
    "lambda_X = 1/10\n",
    "lambda_Y = 1/20\n",
    "print(2*10 + 3*20)\n",
    "print((2**2)*(1/lambda_X**2) + (3**2)*(1/lambda_Y**2))"
   ]
  },
  {
   "cell_type": "markdown",
   "metadata": {},
   "source": [
    "<div id=\"ex1b\"></div>\n",
    "\n",
    "**b.** Verifique, através de simulação, o resultado anterior.  Não se esqueça de apresentar os valores de $E(Z)$ e $Var(Z)$ obtidos a partir dos dados e de plotar o histograma.\n",
    "\n",
    "<a href=\"#resposta1b\">Respostas</a>"
   ]
  },
  {
   "cell_type": "code",
   "execution_count": 17,
   "metadata": {},
   "outputs": [
    {
     "name": "stdout",
     "output_type": "stream",
     "text": [
      "82.21485391683349\n",
      "4349.080269190444\n"
     ]
    },
    {
     "data": {
      "image/png": "[encoded data removed]",
      "text/plain": [
       "<Figure size 432x288 with 1 Axes>"
      ]
     },
     "metadata": {
      "needs_background": "light"
     },
     "output_type": "display_data"
    }
   ],
   "source": [
    "n = 5000\n",
    "X = stats.expon.rvs(scale=10, size=n)\n",
    "Y = stats.expon.rvs(scale=20, size=n)\n",
    "Z = 2*X + 3*Y\n",
    "\n",
    "plt.hist(Z, bins=50, density=True)\n",
    "plt.plot()\n",
    "\n",
    "df = pd.DataFrame()\n",
    "df['Z'] = Z\n",
    "print(df.Z.mean())\n",
    "print(df.Z.var())"
   ]
  },
  {
   "cell_type": "markdown",
   "metadata": {},
   "source": [
    "___\n",
    "<div id=\"ex2\"></div>\n",
    "\n",
    "### EXERCÍCIO 2\n",
    "\n",
    "Dadas duas variáveis aleatórias normais $X$ e $Y$, não correlacionadas entre si, com médias de 100 e 150, e desvios padrão de 30 e 40, respectivamente:\n",
    "\n",
    "<div id=\"ex2a\"></div>\n",
    "\n",
    "**a** Quais seriam $E(X + Y)$ e $V(X + Y)$ conforme a teoria? Que formato teria a distribuição?\n",
    "\n",
    "<a href=\"#resposta2a\">Respostas</a>"
   ]
  },
  {
   "cell_type": "code",
   "execution_count": 19,
   "metadata": {},
   "outputs": [
    {
     "name": "stdout",
     "output_type": "stream",
     "text": [
      "250\n",
      "2500\n"
     ]
    }
   ],
   "source": [
    "print(100 + 150)\n",
    "print(30**2 + 40**2)"
   ]
  },
  {
   "cell_type": "markdown",
   "metadata": {},
   "source": [
    "<div id=\"ex2b\"></div>\n",
    "\n",
    "**b** Simule este resultado.\n",
    "\n",
    "<a href=\"#resposta2b\">Respostas</a>"
   ]
  },
  {
   "cell_type": "code",
   "execution_count": 23,
   "metadata": {},
   "outputs": [
    {
     "name": "stdout",
     "output_type": "stream",
     "text": [
      "250.17926243254706\n",
      "2495.904514872975\n"
     ]
    },
    {
     "data": {
      "image/png": "[encoded data removed]",
      "text/plain": [
       "<Figure size 432x288 with 1 Axes>"
      ]
     },
     "metadata": {
      "needs_background": "light"
     },
     "output_type": "display_data"
    }
   ],
   "source": [
    "n = 50000\n",
    "X = stats.norm.rvs(loc=100, scale=30, size=n)\n",
    "Y = stats.norm.rvs(loc= 150, scale=40, size=n)\n",
    "Z = X + Y\n",
    "\n",
    "plt.hist(Z, bins=50, density=True)\n",
    "plt.plot()\n",
    "\n",
    "df = pd.DataFrame()\n",
    "df['Z'] = Z\n",
    "print(df.Z.mean())\n",
    "print(df.Z.var())"
   ]
  },
  {
   "cell_type": "markdown",
   "metadata": {},
   "source": [
    "<div id=\"ex3\"></div>\n",
    "\n",
    "### EXERCÍCIO 3\n",
    "\n",
    "Os arquivos `var1.csv` e `var2.csv` contém amostras **correlacionadas** de duas variáveis aleatórias **não independentes** $X$ e $Y$.\n",
    "\n",
    "Dados:\n",
    "\n",
    "$\\mu_X = 20$\n",
    "\n",
    "$\\mu_Y = 25$\n",
    "\n",
    "$\\sigma_X^2 = 25$\n",
    "\n",
    "$\\sigma_Y^2 = 16$\n",
    "\n",
    "$Cov(X,Y) = 10$\n",
    "\n",
    "\n",
    "Faça:\n",
    "* Calcule a média e o desvio padrão de Z = X + Y usando a teoria\n",
    "* verifique nos dados se o resultado é coerente\n",
    "\n",
    "<a href=\"#resposta3\">Respostas</a>"
   ]
  },
  {
   "cell_type": "code",
   "execution_count": 37,
   "metadata": {},
   "outputs": [
    {
     "name": "stdout",
     "output_type": "stream",
     "text": [
      "45\n",
      "61\n",
      "45.051758138707584\n",
      "58.97928363410342\n"
     ]
    }
   ],
   "source": [
    "print(20 + 25)\n",
    "print(25 + 16 + 2*10)\n",
    "\n",
    "df_X = pd.read_csv(\"var1.csv\", names=[\"X\"])\n",
    "df_Y = pd.read_csv(\"var2.csv\", names=[\"Y\"])\n",
    "\n",
    "df_Z = pd.DataFrame()\n",
    "df_Z[\"Z\"] = df_X.X + df_Y.Y\n",
    "\n",
    "print(df_Z.Z.mean())\n",
    "print(df_Z.Z.var())\n"
   ]
  },
  {
   "cell_type": "markdown",
   "metadata": {},
   "source": [
    "___\n",
    "<div id=\"ex4\"></div>\n",
    "\n",
    "## Exercício 4\n",
    "\n",
    "Um processo industrial pode ser executado em duas etapas independentes. O tempo gasto em cada etapa segue uma distribuição com média de 5 horas e desvio-padrão de 10 horas. \n",
    "Um engenheiro resolveu modificar o processo de produção fazendo com que seja executado numa única fase, cujo tempo de execução é o dobro da primeira etapa do processo atual.\n",
    "Vale a pena adotar o processo proposto pelo engenheiro?\n",
    "\n",
    "<a href=\"#resposta4\">Respostas</a>"
   ]
  },
  {
   "cell_type": "code",
   "execution_count": 40,
   "metadata": {},
   "outputs": [
    {
     "name": "stdout",
     "output_type": "stream",
     "text": [
      "10\n",
      "200\n",
      "10\n",
      "400\n"
     ]
    }
   ],
   "source": [
    "mu = 5\n",
    "var = 100\n",
    "# 2 processos independentes\n",
    "print(mu + mu)\n",
    "print(var + var)\n",
    "\n",
    "# 1 processo\n",
    "print(2*mu)\n",
    "print(2**2*var)"
   ]
  },
  {
   "cell_type": "markdown",
   "metadata": {},
   "source": [
    "___\n",
    "\n",
    "<div id=\"ex5\"></div>\n",
    "\n",
    "### EXERCÍCIO 5 \n",
    "\n",
    "Uma pessoa irá comprar uma camisa e uma calça. Os dois produtos serão adquiridos numa mesma loja. O preço da camisa segue uma distribuição aproximadamente normal de média 45,00 reais e desvio-padrão 3,00 reais. O preço da calça segue uma distribuição aproximadamente normal de média 60,00 reais e desvio-padrão 5,00 reais. Sabe-se ainda que a correlação entre os preços da camisa e da calça é da ordem de 0,25 e que o gasto com a compra de uma camisa e uma calça seja modelado por uma distribuição normal.\n",
    "\n",
    "a) Uma pessoa possui apenas 95,00 reais para comprar a camisa e a calça, indo a um único estabelecimento escolhido ao acaso, qual é a probabilidade de conseguir comprar os dois produtos? Considere que o gasto total com a compra de uma calça e uma camisa também segue uma distribuição aproximadamente normal.\n",
    "\n",
    "b) Indo a um único estabelecimento, qual a probabilidade de se pagar mais caro na camisa do que na calça?\n",
    "\n",
    "<a href=\"#resposta5\">Respostas</a>"
   ]
  },
  {
   "cell_type": "code",
   "execution_count": 52,
   "metadata": {},
   "outputs": [
    {
     "name": "stdout",
     "output_type": "stream",
     "text": [
      "0.0602951032363964\n",
      "0.001784963611592305\n"
     ]
    }
   ],
   "source": [
    "mu_camisa = 45\n",
    "sigma_camisa = 3\n",
    "mu_calca = 60\n",
    "sigma_calca = 5\n",
    "corr = 0.25\n",
    "\n",
    "# A\n",
    "mu_compra = mu_camisa + mu_calca\n",
    "sigma_compra = (sigma_camisa**2 + sigma_calca**2 + 2*(corr*sigma_calca*sigma_camisa))**0.5\n",
    "\n",
    "print(stats.norm.cdf(95, loc=mu_compra, scale=sigma_compra))\n",
    "\n",
    "# B\n",
    "mu_compra = mu_camisa - mu_calca\n",
    "sigma_compra = (sigma_camisa**2 + sigma_calca**2 - 2*(corr*sigma_calca*sigma_camisa))**0.5\n",
    "\n",
    "print(1 - stats.norm.cdf(0, loc=mu_compra, scale=sigma_compra))"
   ]
  },
  {
   "cell_type": "markdown",
   "metadata": {},
   "source": [
    "___\n",
    "\n",
    "<div id=\"ex6\"></div>\n",
    "\n",
    "### EXERCÍCIO 6\n",
    "\n",
    "O preço de compra, em reais, de cada unidade da matéria-prima M1 não é fixo (único), pois pode variar de região para região brasileira. Neste caso, assuma que o preço de M1 pode ser modelado por uma distribuição normal com média 15 reais e desvio padrão 3 reais. \n",
    "\n",
    "a) Qual é o menor valor cobrado pela matéria-prima M1 referente aos 39% dos locais mais careiros?\n",
    "\n",
    "b) Um determinado produto, que será lançado no mercado, é composto por três unidades de mesmo valor da matéria-prima M1. Ainda, na fabricação desse produto, há um custo fixo de 30 reais por produto produzido. O valor comercializado de cada produto será definido para que se tenha um lucro de 35% sobre o valor da etiqueta. Encontre a esperança, variância e distribuição do valor comercializado de cada produto.\n"
   ]
  },
  {
   "cell_type": "code",
   "execution_count": 13,
   "metadata": {},
   "outputs": [
    {
     "name": "stdout",
     "output_type": "stream",
     "text": [
      "15.837957103342362\n",
      "115.38461538461537\n",
      "124.6153846153846\n"
     ]
    }
   ],
   "source": [
    "# A\n",
    "print(stats.norm.ppf(0.61, loc=15, scale=3))\n",
    "# B\n",
    "print((3*15 + 30)*(1/0.65))\n"
   ]
  },
  {
   "cell_type": "markdown",
   "metadata": {},
   "source": [
    "<div id=\"respostas\"></div>\n",
    "\n",
    "---\n",
    "# Respostas\n",
    "\n",
    "<a href=\"#indice\">Voltar para o índice</a>\n",
    "\n",
    "<div id=\"resposta1a\"></div>\n",
    "\n",
    "### Exercício 1a\n",
    "\n",
    "<a href=\"#ex1a\">Voltar para o Exercício 1a</a>\n",
    "\n",
    "$E(Z)=80$ e $Var(Z)=4000$\n",
    "\n",
    "<div id=\"resposta1b\"></div>\n",
    "\n",
    "### Exercício 1b\n",
    "\n",
    "<a href=\"#ex1b\">Voltar para o Exercício 1b</a>\n",
    "\n",
    "É esperado um histograma semelhante a esse:\n",
    "\n",
    "![](./ex1b.png)\n",
    "\n",
    "<div id=\"resposta2a\"></div>\n",
    "\n",
    "### Exercício 2a\n",
    "\n",
    "<a href=\"#ex2a\">Voltar para o Exercício 2a</a>\n",
    "\n",
    "$E(X+Y)=250$, $Var(X+Y)=2500$. Para o formato, considerar a \"Propriedade reprodutiva da normal\".\n",
    "\n",
    "<div id=\"resposta2b\"></div>\n",
    "\n",
    "### Exercício 2b\n",
    "\n",
    "<a href=\"#ex2b\">Voltar para o Exercício 2b</a>\n",
    "\n",
    "É esperado um histograma semelhante a esse:\n",
    "\n",
    "![](./ex2b.png)\n",
    "\n",
    "<div id=\"resposta3\"></div>\n",
    "\n",
    "### Exercício 3\n",
    "\n",
    "<a href=\"#ex3\">Voltar para o Exercício 3</a>\n",
    "\n",
    "$E(Z) = 45$\n",
    "\n",
    "$V(Z) = 61$\n",
    "\n",
    "#### A partir dos dados\n",
    "\n",
    "Médias: m(X) = 20.121265998974028, m(Y) = 24.93049213973364, m(Z) = 45.051758138707584\n",
    "\n",
    "Variâncias: v(X) = 22.19198031318174, v(Y) = 16.902487155078422, v(Z) = 58.97928363410342\n",
    "\n",
    "Covariância: cov(X,Y) = 9.94240808292163\n",
    "\n",
    "<div id=\"resposta4\"></div>\n",
    "\n",
    "### Exercício 4\n",
    "\n",
    "<a href=\"#ex4\">Voltar para o Exercício 4</a>\n",
    "\n",
    "Atual: E(T) = 10 e DP(T) = 14.142135623730951\n",
    "\n",
    "Novo: E(T) = 10 e DP(T) = 20\n",
    "\n",
    "<div id=\"resposta5\"></div>\n",
    "\n",
    "### Exercício 5\n",
    "\n",
    "<a href=\"#ex5\">Voltar para o Exercício 5</a>\n",
    "\n",
    "a) 0.0602951032363964 (dica: $Cov(X,Y)=DP(X)\\times DP(Y)\\times Corr(X,Y)$)\n",
    "\n",
    "b) 0.001784963611592305 (dica: $X-Y$ inverte o sinal da correlação de $X$ e $Y$)\n",
    "\n",
    "<div id=\"resposta6\"></div>\n",
    "\n",
    "### Exercício 6\n",
    "\n",
    "<a href=\"#ex6\">Voltar para o Exercício 6</a>\n",
    "\n",
    "a) 15.837957103342362\n",
    "\n",
    "b) Esperança:  115.38461538461539, Variância:  191.7159763313609"
   ]
  }
 ],
 "metadata": {
  "kernelspec": {
   "display_name": "Python 3",
   "language": "python",
   "name": "python3"
  },
  "language_info": {
   "codemirror_mode": {
    "name": "ipython",
    "version": 3
   },
   "file_extension": ".py",
   "mimetype": "text/x-python",
   "name": "python",
   "nbconvert_exporter": "python",
   "pygments_lexer": "ipython3",
   "version": "3.7.7"
  },
  "varInspector": {
   "cols": {
    "lenName": 16,
    "lenType": 16,
    "lenVar": 40
   },
   "kernels_config": {
    "python": {
     "delete_cmd_postfix": "",
     "delete_cmd_prefix": "del ",
     "library": "var_list.py",
     "varRefreshCmd": "print(var_dic_list())"
    },
    "r": {
     "delete_cmd_postfix": ") ",
     "delete_cmd_prefix": "rm(",
     "library": "var_list.r",
     "varRefreshCmd": "cat(var_dic_list()) "
    }
   },
   "types_to_exclude": [
    "module",
    "function",
    "builtin_function_or_method",
    "instance",
    "_Feature"
   ],
   "window_display": false
  }
 },
 "nbformat": 4,
 "nbformat_minor": 4
}
