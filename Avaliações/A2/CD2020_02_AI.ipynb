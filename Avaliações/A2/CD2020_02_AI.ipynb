{
 "cells": [
  {
   "cell_type": "markdown",
   "metadata": {},
   "source": [
    "# Avaliação Intermediária de Ciência dos dados \n",
    "\n",
    "## 2020 - 2o. semestre \n",
    "\n",
    "___\n"
   ]
  },
  {
   "cell_type": "markdown",
   "metadata": {},
   "source": [
    "### Fernando Peres Marques Gameiro França"
   ]
  },
  {
   "cell_type": "markdown",
   "metadata": {},
   "source": [
    "___\n",
    "## Instruções\n",
    "\n",
    "**Leia atentamente as instruções desta avaliação. Essas devem ser seguidas rigorosamente!**\n",
    "\n",
    "**Prezado(a) Aluno(a),**\n",
    "\n",
    "Você terá **135 minutos** a partir do início oficial da prova (**às 9h00 do dia 13/10**) para concluir esta avaliação, administre bem o seu tempo. \n",
    "\n",
    "Esta avaliação terá as seguintes etapas:\n",
    "\n",
    "**9h00 às 9h05**\n",
    "       \n",
    " * **(1 minuto) - Momento ZERO:** às 9h00 já esteja na equipe de Ciência dos dados (canal Geral) para receber instruções.\n",
    " * **(3 minutos) - Início da prova:** Entre no Blackboard e inicie o teste em `Conteúdos/Avaliações/Avaliação Intermediária/AI (ativar Proctorio)`. Caso não ative esse teste em até 15 minutos do início da prova (ou seja, até às 9h15), não terá mais direito de entregar essa prova, obtendo falta na mesma.\n",
    " * **(1 minuto) - Prova no servidor:** Entre no seu e-mail do Insper para saber o site e senha para ter acesso a sua prova. TRABALHE OBRIGATORIAMENTE NO SERVIDOR O QUAL GARANTE UMA CÓPIA DO SUA PROVA - BACKUP.\n",
    "\n",
    "\n",
    "**9h05 às 11h05**  \n",
    "\n",
    " * **(2 hora) - Desenvolvimento da prova:** Concentre-se em resolver o notebook.\n",
    " * ATENÇÃO: administre esse tempo da maneira que julgar mais adequada para você.\n",
    "\n",
    "\n",
    "**11h05 às 11h15**  \n",
    " * **(10 minutos) - Entrega via Blackboard - Notebook:** O arquivo `.ipynb` deve ser entregue em `Conteúdos/Avaliações/Avaliação Intermediária/Entrega da prova`. \n",
    "\n",
    "<br>\n",
    "\n",
    "Leia atentamente as instruções a seguir e as questões da prova antes de começar a resolvê-la.\n",
    "\n",
    "1. Identifique-se no cabeçalho deste arquivo. Essa prova é INDIVIDUAL.\n",
    "2. Esta Avaliação consiste em um arquivo Jupyter que será submetido ao Blackboard.\n",
    "3. Leia atentamente as **Precauções de segurança** abaixo para evitar ter sua prova anulada.\n",
    "4. Em caso de dúvida sobre alguma questão desta avaliação, redija um texto em uma nova célula deste Jupyter notebook explicitando-a para que o professor avalie a pertinência durante a correção.  \n",
    "5. Você pode utilizar qualquer material individual para consulta – anotações, livros, etc. Mas não pode compartilhar este material com seus colegas.\n",
    "6. Consulta a colegas constituirá violação ao Código de Ética e de Conduta e acarretarão sanções nele previstas. Faça o seu trabalho de maneira ética!\n",
    "7. Leia atentamente cada questão e responda o que for pedido. Erros conceituais serão penalizados, mesmo que o conceito não se relacione com o que foi pedido na questão.\n",
    "8. Caso em algum item você necessite do resultado de um item anterior que você não conseguiu fazer, admita um valor razoável para esse resultado e faça o item normalmente. Indique na questão, caso isso aconteça.\n",
    "9. Todos os resultados devem ser justificados. Números que apareçam sem uma explicação de como foram encontrados serão ignorados na correção.\n",
    "10. A qualidade do código na resolução em cada item também será levada em consideração, ou seja, códigos complicados para soluções que podem ser simples serão penalizados.\n",
    "11. Esta avaliação requer **entrega via Blackboard**. **Não serão consideradas entregas por outros meios** (ex: e-mail, MS Teams, etc.).\n",
    "\n",
    "#### Precauções de segurança\n",
    "\n",
    "1.\tTodas as precauções abaixo podem ser resumidas da seguinte forma: consulte o material que quiser desde que não seja nenhuma pessoa e não compartilhe informações com ninguém. \n",
    "2.\tVocê não pode enviar nenhum tipo de mensagem durante a prova para qualquer pessoa dentro ou fora dela, com exceção do(a) professor(a). Por exemplo: e-mail, Skype, mensagens do Facebook, mensagens do WhatsApp, mensagens via Twitter, etc\n",
    "3.\tVocê não pode compartilhar nenhum tipo de informação em nenhum site, incluindo Pastebin, Codeshare, wikis, etc\n",
    "4.\tVocê não pode perguntar questões da prova no StackOverflow, StackExchange, MathExchange, etc. \n",
    "5.\tVocê pode procurar/tirar dúvida no Google.\n",
    "6.\tVocê pode consultar qualquer arquivo no seu computador.\n",
    "7.\tQualquer transgressão das normas acima pode zerar a nota da prova e implicar em infração ao código de ética do Insper."
   ]
  },
  {
   "cell_type": "markdown",
   "metadata": {},
   "source": [
    "___\n",
    "Carregando algumas bibliotecas:"
   ]
  },
  {
   "cell_type": "code",
   "execution_count": 1,
   "metadata": {},
   "outputs": [],
   "source": [
    "%matplotlib inline\n",
    "import pandas as pd\n",
    "import matplotlib.pyplot as plt\n",
    "import numpy as np\n",
    "\n",
    "from scipy import stats\n",
    "import math\n",
    "\n",
    "# Para ter melhor print\n",
    "from IPython.display import display"
   ]
  },
  {
   "cell_type": "markdown",
   "metadata": {},
   "source": [
    "___\n",
    "## Índice\n",
    "\n",
    "- [Questão 1](#q1) **[2,0 pontos]** \n",
    "- [Questão 2](#q2) **[3,5 pontos]** \n",
    "- [Questão 3](#q3) **[2,0 pontos]** \n",
    "  - [Base de dados: bank](#bank)\n",
    "- [Questão 4](#q4) **[2,5 pontos]** \n",
    "___"
   ]
  },
  {
   "cell_type": "markdown",
   "metadata": {},
   "source": [
    "<div id=\"q1\"></div>\n",
    "\n",
    "___\n",
    "### Questão 1\n",
    "\n",
    "**[2,0 pontos]** \n",
    "\n",
    "No artigo de [Moro et al (2014)](https://www.researchgate.net/publication/260805594_A_Data-Driven_Approach_to_Predict_the_Success_of_Bank_Telemarketing), o intuito é prever o sucesso de vendas do telemarketing na venda de um produto bancário, considerando clientes de um banco português abordados entre 2008 e 2013.\n",
    "\n",
    "Para cada cliente, foram mensurados o tempo de duração do contato telefônico (em segundos) e a venda ou não do produto bancário oferecido.\n",
    "\n",
    "Os resultados foram que:\n",
    "  * $88,5\\%$ dos clientes abordados não aderiram ao produto bancário;\n",
    "  * dos clientes que não aderiram ao produto bancário, $77,3\\%$ deles conversaram no máximo 5 minutos no telefone; e\n",
    "  * dos clientes que conversaram no máximo 5 minutos no telefone, $94,9\\%$ deles não aderiram ao produto bancário."
   ]
  },
  {
   "cell_type": "markdown",
   "metadata": {},
   "source": [
    "a) **[0,75 pontos]** Nesse contexto, calcule a probabilidade de um cliente qualquer conversar no máximo 5 minutos no telefone ao receber um contato telefônico para venda desse produto bancário. "
   ]
  },
  {
   "cell_type": "code",
   "execution_count": 2,
   "metadata": {},
   "outputs": [
    {
     "data": {
      "text/plain": [
       "0.7208693361433088"
      ]
     },
     "execution_count": 2,
     "metadata": {},
     "output_type": "execute_result"
    }
   ],
   "source": [
    "# P (A_c) = 0.885\n",
    "# P (M|A_c) = 0.773\n",
    "# P (A_c|M) = 0.949\n",
    "# P (M) = ?\n",
    "# P (M) = (P(M|A_c)*P(A_c))/P(A_c|M)\n",
    "\n",
    "(0.773*0.885)/(0.949)"
   ]
  },
  {
   "cell_type": "markdown",
   "metadata": {},
   "source": [
    "b) **[0,75 pontos]** Se um cliente conversar mais do que 5 minutos, qual a probabilidade desse cliente aderir ao produto bancário?"
   ]
  },
  {
   "cell_type": "code",
   "execution_count": 3,
   "metadata": {},
   "outputs": [
    {
     "data": {
      "text/plain": [
       "0.2802833009305572"
      ]
     },
     "execution_count": 3,
     "metadata": {},
     "output_type": "execute_result"
    }
   ],
   "source": [
    "# P(A|M_c) = ?\n",
    "# P(A|M_c) = 1 - P(A_c|M_c)\n",
    "# P(A|M_c) = 1 - P(M_c|A_c)*P(A_c)/P(M_c)\n",
    "# P(A|M_c) = 1 - (1-P(M|A_c))*P(A_c)/P(M_c)\n",
    "# P(A|M_c) = 1 - (1-P(M|A_c))*P(A_c)/(1-P(M))\n",
    "\n",
    "1 - ((1-0.773)*0.885)/(1 - ((0.773*0.885)/(0.949)))"
   ]
  },
  {
   "cell_type": "markdown",
   "metadata": {},
   "source": [
    "c) **[0,50 ponto]** Afirmativa: \"Considerando os clientes abordados entre 2008 e 2013, o sucesso da venda do produto bancário oferecido ao cliente depende do tempo de duração do contato telefônico\".\n",
    "\n",
    "Responda se \"Concorda\" ou \"Discorda\" da afirmação **justificando**, adequadamente, com uso de **valores numéricos de probabilidade** desta questão. Caso contrário, a resposta será considerada inválida."
   ]
  },
  {
   "cell_type": "markdown",
   "metadata": {},
   "source": [
    "#### Com base nos valores calculados nos itens anteriores, pode-se dizer que a afirmativa é verdadeira (eu concordo), já que a probalidade de uma pessoa aderir ao plano quando fica mais tempo ao telefone é maior do que quando fica no máximo 5 minutos. "
   ]
  },
  {
   "cell_type": "markdown",
   "metadata": {},
   "source": [
    "#### P(A|M) < P(A|M_c)"
   ]
  },
  {
   "cell_type": "code",
   "execution_count": 4,
   "metadata": {},
   "outputs": [
    {
     "data": {
      "text/plain": [
       "True"
      ]
     },
     "execution_count": 4,
     "metadata": {},
     "output_type": "execute_result"
    }
   ],
   "source": [
    "1 - 0.949 < 1 - ((1-0.773)*0.885)/(1 - ((0.773*0.885)/(0.949)))"
   ]
  },
  {
   "cell_type": "markdown",
   "metadata": {},
   "source": [
    "<div id=\"q2\"></div>\n",
    "\n",
    "___\n",
    "### Questão 2\n",
    "\n",
    "**[3,5 pontos]** \n",
    "\n",
    "Ainda no contexto do artigo de [Moro et al (2014)](https://www.researchgate.net/publication/260805594_A_Data-Driven_Approach_to_Predict_the_Success_of_Bank_Telemarketing), assuma que $X$ seja o tempo de duração do contato telefônico (em segundos) de um cliente qualquer modelado por uma exponencial com média igual a $264$ segundos.\n",
    "\n",
    "Com base nesse modelo, responda:"
   ]
  },
  {
   "cell_type": "markdown",
   "metadata": {},
   "source": [
    "a) **[1,00 ponto]** Quando um cliente conversa mais do que 5 minutos, qual a probabilidade de não passar de 6 minutos?"
   ]
  },
  {
   "cell_type": "code",
   "execution_count": 5,
   "metadata": {},
   "outputs": [
    {
     "data": {
      "text/plain": [
       "0.20329653010653828"
      ]
     },
     "execution_count": 5,
     "metadata": {},
     "output_type": "execute_result"
    }
   ],
   "source": [
    "mu = 4.4 # (minutos)\n",
    "(stats.expon.cdf(6, scale=mu)-stats.expon.cdf(5, scale=mu))/(1-stats.expon.cdf(5, scale=mu))"
   ]
  },
  {
   "cell_type": "markdown",
   "metadata": {},
   "source": [
    "b) **[0,50 ponto]** Qual tempo mínimo de duração do contato telefônico (em segundos) das $5\\%$ conversas mais demoradas?"
   ]
  },
  {
   "cell_type": "code",
   "execution_count": 6,
   "metadata": {},
   "outputs": [
    {
     "data": {
      "text/plain": [
       "790.8733202182534"
      ]
     },
     "execution_count": 6,
     "metadata": {},
     "output_type": "execute_result"
    }
   ],
   "source": [
    "stats.expon.ppf(0.95, scale=mu)*60"
   ]
  },
  {
   "cell_type": "markdown",
   "metadata": {},
   "source": [
    "c) **[1,00 ponto]** Uma atendente de telemarketing precisa ligar para 10 clientes para ofertar esse produto bancário. Qual a probabilidade de que nenhum desses 10 clientes conversem mais do que 5 minutos no contato telefônico?"
   ]
  },
  {
   "cell_type": "code",
   "execution_count": 7,
   "metadata": {},
   "outputs": [
    {
     "data": {
      "text/plain": [
       "0.02083527945073958"
      ]
     },
     "execution_count": 7,
     "metadata": {},
     "output_type": "execute_result"
    }
   ],
   "source": [
    "stats.binom.pmf(0, 10, (1-stats.expon.cdf(5, scale=mu)))"
   ]
  },
  {
   "cell_type": "markdown",
   "metadata": {},
   "source": [
    "d) **[1,00 ponto]** Assuma que o número de vendas por dia desse produto bancário seja, em média, igual a 12 vendas. Suponha que:\n",
    "\n",
    "- As vendas são independentes entre si;\n",
    "- Os dias se comportam de maneira semelhante uns aos outros.\n",
    "\n",
    "Atribuindo um modelo probabilístico adequado a essa variável, encontre o percentil de ordem $25\\%$."
   ]
  },
  {
   "cell_type": "code",
   "execution_count": 8,
   "metadata": {},
   "outputs": [
    {
     "data": {
      "text/plain": [
       "10.0"
      ]
     },
     "execution_count": 8,
     "metadata": {},
     "output_type": "execute_result"
    }
   ],
   "source": [
    "# Assumindo que a varíavel aleatória é discreta (não existe meia venda ou uma venda e meia) e que a quantidade de vendas no dia segue a distribuição de Poisson:\n",
    "media = 12\n",
    "# O percentil de ordem 25% é:\n",
    "stats.poisson.ppf(0.25, media)"
   ]
  },
  {
   "cell_type": "markdown",
   "metadata": {},
   "source": [
    "<div id=\"q3\"></div>\n",
    "\n",
    "___\n",
    "### Questão 3\n",
    "\n",
    "**[2,0 pontos]** \n",
    "\n",
    "Nesta questão, vamos considerar a base de dados utilizada em [Moro et al (2014)](https://www.researchgate.net/publication/260805594_A_Data-Driven_Approach_to_Predict_the_Success_of_Bank_Telemarketing)."
   ]
  },
  {
   "cell_type": "markdown",
   "metadata": {},
   "source": [
    "<div id=\"bank\"></div>\n",
    "Primeiro, vamos verificar se o arquivo de dados está no nosso diretório:"
   ]
  },
  {
   "cell_type": "code",
   "execution_count": 9,
   "metadata": {},
   "outputs": [
    {
     "name": "stdout",
     "output_type": "stream",
     "text": [
      "Encontrei o arquivo bank.csv, tudo certo para prosseguir com a prova!\n"
     ]
    }
   ],
   "source": [
    "import os\n",
    "\n",
    "filename = 'bank.csv'\n",
    "if filename in os.listdir():\n",
    "    print(f'Encontrei o arquivo {filename}, tudo certo para prosseguir com a prova!')\n",
    "else:\n",
    "    print(f'Não encontrei o arquivo {filename} aqui no diretório {os.getcwd()}, '\n",
    "          'será que você não baixou o arquivo?')"
   ]
  },
  {
   "cell_type": "markdown",
   "metadata": {},
   "source": [
    "Se tudo deu certo até agora, vamos ler os dados:"
   ]
  },
  {
   "cell_type": "code",
   "execution_count": 10,
   "metadata": {},
   "outputs": [],
   "source": [
    "dados = pd.read_csv(filename, sep=\";\")"
   ]
  },
  {
   "cell_type": "code",
   "execution_count": 11,
   "metadata": {
    "scrolled": true
   },
   "outputs": [
    {
     "data": {
      "text/html": [
       "<div>\n",
       "<style scoped>\n",
       "    .dataframe tbody tr th:only-of-type {\n",
       "        vertical-align: middle;\n",
       "    }\n",
       "\n",
       "    .dataframe tbody tr th {\n",
       "        vertical-align: top;\n",
       "    }\n",
       "\n",
       "    .dataframe thead th {\n",
       "        text-align: right;\n",
       "    }\n",
       "</style>\n",
       "<table border=\"1\" class=\"dataframe\">\n",
       "  <thead>\n",
       "    <tr style=\"text-align: right;\">\n",
       "      <th></th>\n",
       "      <th>age</th>\n",
       "      <th>job</th>\n",
       "      <th>marital</th>\n",
       "      <th>education</th>\n",
       "      <th>default</th>\n",
       "      <th>balance</th>\n",
       "      <th>housing</th>\n",
       "      <th>loan</th>\n",
       "      <th>contact</th>\n",
       "      <th>day</th>\n",
       "      <th>month</th>\n",
       "      <th>duration</th>\n",
       "      <th>campaign</th>\n",
       "      <th>pdays</th>\n",
       "      <th>previous</th>\n",
       "      <th>poutcome</th>\n",
       "      <th>y</th>\n",
       "    </tr>\n",
       "  </thead>\n",
       "  <tbody>\n",
       "    <tr>\n",
       "      <th>0</th>\n",
       "      <td>30</td>\n",
       "      <td>unemployed</td>\n",
       "      <td>married</td>\n",
       "      <td>primary</td>\n",
       "      <td>no</td>\n",
       "      <td>1787</td>\n",
       "      <td>no</td>\n",
       "      <td>no</td>\n",
       "      <td>cellular</td>\n",
       "      <td>19</td>\n",
       "      <td>oct</td>\n",
       "      <td>79</td>\n",
       "      <td>1</td>\n",
       "      <td>-1</td>\n",
       "      <td>0</td>\n",
       "      <td>unknown</td>\n",
       "      <td>no</td>\n",
       "    </tr>\n",
       "    <tr>\n",
       "      <th>1</th>\n",
       "      <td>33</td>\n",
       "      <td>services</td>\n",
       "      <td>married</td>\n",
       "      <td>secondary</td>\n",
       "      <td>no</td>\n",
       "      <td>4789</td>\n",
       "      <td>yes</td>\n",
       "      <td>yes</td>\n",
       "      <td>cellular</td>\n",
       "      <td>11</td>\n",
       "      <td>may</td>\n",
       "      <td>220</td>\n",
       "      <td>1</td>\n",
       "      <td>339</td>\n",
       "      <td>4</td>\n",
       "      <td>failure</td>\n",
       "      <td>no</td>\n",
       "    </tr>\n",
       "    <tr>\n",
       "      <th>2</th>\n",
       "      <td>35</td>\n",
       "      <td>management</td>\n",
       "      <td>single</td>\n",
       "      <td>tertiary</td>\n",
       "      <td>no</td>\n",
       "      <td>1350</td>\n",
       "      <td>yes</td>\n",
       "      <td>no</td>\n",
       "      <td>cellular</td>\n",
       "      <td>16</td>\n",
       "      <td>apr</td>\n",
       "      <td>185</td>\n",
       "      <td>1</td>\n",
       "      <td>330</td>\n",
       "      <td>1</td>\n",
       "      <td>failure</td>\n",
       "      <td>no</td>\n",
       "    </tr>\n",
       "    <tr>\n",
       "      <th>3</th>\n",
       "      <td>30</td>\n",
       "      <td>management</td>\n",
       "      <td>married</td>\n",
       "      <td>tertiary</td>\n",
       "      <td>no</td>\n",
       "      <td>1476</td>\n",
       "      <td>yes</td>\n",
       "      <td>yes</td>\n",
       "      <td>unknown</td>\n",
       "      <td>3</td>\n",
       "      <td>jun</td>\n",
       "      <td>199</td>\n",
       "      <td>4</td>\n",
       "      <td>-1</td>\n",
       "      <td>0</td>\n",
       "      <td>unknown</td>\n",
       "      <td>no</td>\n",
       "    </tr>\n",
       "    <tr>\n",
       "      <th>4</th>\n",
       "      <td>59</td>\n",
       "      <td>blue-collar</td>\n",
       "      <td>married</td>\n",
       "      <td>secondary</td>\n",
       "      <td>no</td>\n",
       "      <td>0</td>\n",
       "      <td>yes</td>\n",
       "      <td>no</td>\n",
       "      <td>unknown</td>\n",
       "      <td>5</td>\n",
       "      <td>may</td>\n",
       "      <td>226</td>\n",
       "      <td>1</td>\n",
       "      <td>-1</td>\n",
       "      <td>0</td>\n",
       "      <td>unknown</td>\n",
       "      <td>no</td>\n",
       "    </tr>\n",
       "  </tbody>\n",
       "</table>\n",
       "</div>"
      ],
      "text/plain": [
       "   age          job  marital  education default  balance housing loan  \\\n",
       "0   30   unemployed  married    primary      no     1787      no   no   \n",
       "1   33     services  married  secondary      no     4789     yes  yes   \n",
       "2   35   management   single   tertiary      no     1350     yes   no   \n",
       "3   30   management  married   tertiary      no     1476     yes  yes   \n",
       "4   59  blue-collar  married  secondary      no        0     yes   no   \n",
       "\n",
       "    contact  day month  duration  campaign  pdays  previous poutcome   y  \n",
       "0  cellular   19   oct        79         1     -1         0  unknown  no  \n",
       "1  cellular   11   may       220         1    339         4  failure  no  \n",
       "2  cellular   16   apr       185         1    330         1  failure  no  \n",
       "3   unknown    3   jun       199         4     -1         0  unknown  no  \n",
       "4   unknown    5   may       226         1     -1         0  unknown  no  "
      ]
     },
     "execution_count": 11,
     "metadata": {},
     "output_type": "execute_result"
    }
   ],
   "source": [
    "dados.head()"
   ]
  },
  {
   "cell_type": "markdown",
   "metadata": {},
   "source": [
    "**SIGNIFICADO DAS VARIÁVEIS:**\n",
    "\n",
    "Dentre todas essas variáveis (com nome em inglês) apresentadas nessa base de dados, vamos trabalhar com apenas as seguintes colunas:\n",
    "  *\t`duration`: tempo de duração da chamada telefônica para oferecer produto bancário (em segundos) \n",
    "  * `y`: adesão ou não do produto oferecido pelo contato telefônico (com as categorias: 'yes' e 'no')\n"
   ]
  },
  {
   "cell_type": "markdown",
   "metadata": {},
   "source": [
    "**PERGUNTA:**\n",
    "\n",
    "Nesta questão, o objetivo será avaliar se `duration` segmentanda pela variável `y` pode ser modelada por uma distribuição exponencial. \n",
    "\n",
    "Faça:\n",
    "  * **[0,25 ponto]** **Crie duas pd.Series**: uma contendo o tempo de duração apenas dos clientes que **não fizeram** adesão ao produto e guarde em `duration_no`; e outra contendo o tempo de duração apenas dos clientes que **fizeram** adesão ao produto e guarde em `duration_yes`;\n",
    "\n",
    "  * **[0,50 ponto]** **Construa dois histogramas** de densidade: um considerando `duration_no` e outro considerando `duration_yes`. Faça uso de `plt.subplot()` adequadamente;\n",
    "  \n",
    "  * **[0,25 ponto]** Para cada série **estime o parâmetro $\\mu$ da exponencial** considerando os valores da série;\n",
    "  \n",
    "  * **[0,50 ponto]** **Calcule a função densidade de probabilidade (f.d.p.) da exponencial** para valores do tempo de duração compatíveis com os histogramas anteriores, e assumindo as respectivas estimativas de $\\mu$ obtidas no item anterior; e, por fim,\n",
    "  \n",
    "  * **[0,50 ponto]** **Visualize cada f.d.p.** calculada anteriormente sobre seu respectivo histograma de densidade obtido a partir dos dados."
   ]
  },
  {
   "cell_type": "code",
   "execution_count": 12,
   "metadata": {},
   "outputs": [
    {
     "name": "stdout",
     "output_type": "stream",
     "text": [
      "Média-NO: 226.3475 \n",
      "Média-YES: 552.7428023032629\n"
     ]
    },
    {
     "data": {
      "text/plain": [
       "[]"
      ]
     },
     "execution_count": 12,
     "metadata": {},
     "output_type": "execute_result"
    },
    {
     "data": {
      "image/png": "[encoded data removed]",
      "text/plain": [
       "<Figure size 864x432 with 2 Axes>"
      ]
     },
     "metadata": {
      "needs_background": "light"
     },
     "output_type": "display_data"
    },
    {
     "data": {
      "image/png": "[encoded data removed]",
      "text/plain": [
       "<Figure size 864x432 with 2 Axes>"
      ]
     },
     "metadata": {
      "needs_background": "light"
     },
     "output_type": "display_data"
    }
   ],
   "source": [
    "# 1\n",
    "duration_no = dados.loc[dados[\"y\"] == \"no\", \"duration\"]\n",
    "duration_yes = dados.loc[dados[\"y\"] == \"yes\", \"duration\"]\n",
    "\n",
    "# 2\n",
    "plt.figure(figsize=(12, 6))\n",
    "plt.subplot(121)\n",
    "plt.hist(duration_no, bins=40, alpha=0.4, density=True)\n",
    "plt.title(\"Histograma de Duration-NO\")\n",
    "\n",
    "plt.subplot(122)\n",
    "plt.hist(duration_yes, bins=40, color=\"r\", alpha=0.4, density=True)\n",
    "plt.title(\"Histograma de Duration-YES\")\n",
    "plt.plot()\n",
    "\n",
    "# 3\n",
    "mu_no = duration_no.mean()\n",
    "mu_yes = duration_yes.mean()\n",
    "print(f\"Média-NO: {mu_no} \\nMédia-YES: {mu_yes}\")\n",
    "\n",
    "# 4\n",
    "faixa = np.linspace(0, 2500, 1000)\n",
    "funcao_no = stats.expon.pdf(faixa, scale=mu_no)\n",
    "funcao_yes = stats.expon.pdf(faixa, scale=mu_yes)\n",
    "\n",
    "# 5\n",
    "plt.figure(figsize=(12, 6))\n",
    "plt.subplot(121)\n",
    "plt.hist(duration_no, bins=40, alpha=0.4, density=True)\n",
    "plt.plot(faixa, funcao_no, color=\"k\", alpha=0.6)\n",
    "plt.title(\"Histograma de Duration-NO com Modelo\")\n",
    "\n",
    "plt.subplot(122)\n",
    "plt.hist(duration_yes, bins=40, color=\"r\", alpha=0.4, density=True)\n",
    "plt.plot(faixa, funcao_yes, color=\"k\", alpha=0.6)\n",
    "plt.title(\"Histograma de Duration-YES com Modelo\")\n",
    "plt.plot()"
   ]
  },
  {
   "cell_type": "markdown",
   "metadata": {},
   "source": [
    "<div id=\"q4\"></div>\n",
    "\n",
    "___\n",
    "### Questão 4"
   ]
  },
  {
   "cell_type": "markdown",
   "metadata": {},
   "source": [
    "**[2,5 pontos]** "
   ]
  },
  {
   "cell_type": "markdown",
   "metadata": {},
   "source": [
    "O serviço de entregas de comida iQueMedo entrega apenas 4 itens diferentes durante a semana: coxinha (C), carne misteriosa (M), peixe caramelizado - pensa uma maçã do amor, mas de sardinha - (P) e ostra *vintage* (O). Aos sábados servem pizza ou sushi.\n",
    "\n",
    "O *DataFrame* abaixo mostra o histórico de compras de alguns clientes durante a semana, e qual o pedido que fizeram no sábado. A coluna \"Semana\" contém uma *string* onde cada letra representa um pedido (dentre as opções acima: 'C', 'M', 'P' e 'O'), e a coluna \"Final\" mostra o que foi pedido no final de semana."
   ]
  },
  {
   "cell_type": "code",
   "execution_count": 13,
   "metadata": {},
   "outputs": [
    {
     "name": "stdout",
     "output_type": "stream",
     "text": [
      "Encontrei o arquivo comidas.csv, tudo certo para prosseguir com a prova!\n"
     ]
    }
   ],
   "source": [
    "import os\n",
    "\n",
    "filename = 'comidas.csv'\n",
    "if filename in os.listdir():\n",
    "    print(f'Encontrei o arquivo {filename}, tudo certo para prosseguir com a prova!')\n",
    "else:\n",
    "    print(f'Não encontrei o arquivo {filename} aqui no diretório {os.getcwd()}, '\n",
    "          'será que você não baixou o arquivo?')"
   ]
  },
  {
   "cell_type": "code",
   "execution_count": 14,
   "metadata": {},
   "outputs": [],
   "source": [
    "comidas = pd.read_csv(filename, sep=\";\")"
   ]
  },
  {
   "cell_type": "code",
   "execution_count": 15,
   "metadata": {
    "scrolled": true
   },
   "outputs": [
    {
     "data": {
      "text/html": [
       "<div>\n",
       "<style scoped>\n",
       "    .dataframe tbody tr th:only-of-type {\n",
       "        vertical-align: middle;\n",
       "    }\n",
       "\n",
       "    .dataframe tbody tr th {\n",
       "        vertical-align: top;\n",
       "    }\n",
       "\n",
       "    .dataframe thead th {\n",
       "        text-align: right;\n",
       "    }\n",
       "</style>\n",
       "<table border=\"1\" class=\"dataframe\">\n",
       "  <thead>\n",
       "    <tr style=\"text-align: right;\">\n",
       "      <th></th>\n",
       "      <th>Sábado</th>\n",
       "      <th>Semana</th>\n",
       "    </tr>\n",
       "  </thead>\n",
       "  <tbody>\n",
       "    <tr>\n",
       "      <th>0</th>\n",
       "      <td>pizza</td>\n",
       "      <td>PMPCPCC</td>\n",
       "    </tr>\n",
       "    <tr>\n",
       "      <th>1</th>\n",
       "      <td>sushi</td>\n",
       "      <td>CPO</td>\n",
       "    </tr>\n",
       "    <tr>\n",
       "      <th>2</th>\n",
       "      <td>sushi</td>\n",
       "      <td>PPMPOPOOPP</td>\n",
       "    </tr>\n",
       "    <tr>\n",
       "      <th>3</th>\n",
       "      <td>sushi</td>\n",
       "      <td>POPPO</td>\n",
       "    </tr>\n",
       "    <tr>\n",
       "      <th>4</th>\n",
       "      <td>pizza</td>\n",
       "      <td>CPMM</td>\n",
       "    </tr>\n",
       "  </tbody>\n",
       "</table>\n",
       "</div>"
      ],
      "text/plain": [
       "  Sábado      Semana\n",
       "0  pizza     PMPCPCC\n",
       "1  sushi         CPO\n",
       "2  sushi  PPMPOPOOPP\n",
       "3  sushi       POPPO\n",
       "4  pizza        CPMM"
      ]
     },
     "execution_count": 15,
     "metadata": {},
     "output_type": "execute_result"
    }
   ],
   "source": [
    "comidas.head()"
   ]
  },
  {
   "cell_type": "markdown",
   "metadata": {},
   "source": [
    "a) **[1,5 ponto]** Queremos um sistema que permita escolher, baseado no histórico de pedidos de um cliente, se ele vai preferir sushi ou pizza no sábado.\n",
    "\n",
    "Construa um classificador Naive-Bayes para esse problema. Ou seja, determine:\n",
    "\n",
    "- as probabilidades condicionais de comida por preferência de final de semana, e \n",
    "- as probabilidades *a priori* das preferências de final de semana.\n",
    "\n",
    "Observação: você deve adotar as seguintes medidas simplificadoras:\n",
    "\n",
    "- Não precisa separar em treinamento e teste, estamos interessados apenas no classificador treinado com o conjunto completo de dados.\n",
    "- Não precisa implementar *smoothing*.\n",
    "- Não tem \"palavra desconhecida\": os pedidos são apenas as letras C, M, P e O.\n",
    "\n",
    "Dica: para separar uma *string* em lista de letras é simples: basta usar a função `list()`. Por exemplo:\n"
   ]
  },
  {
   "cell_type": "code",
   "execution_count": 16,
   "metadata": {},
   "outputs": [
    {
     "name": "stdout",
     "output_type": "stream",
     "text": [
      "['P', 'P', 'M', 'P', 'O', 'P', 'O', 'O', 'P', 'P']\n"
     ]
    }
   ],
   "source": [
    "texto = 'PPMPOPOOPP'\n",
    "lista = list(texto)\n",
    "print(lista)"
   ]
  },
  {
   "cell_type": "code",
   "execution_count": 17,
   "metadata": {},
   "outputs": [],
   "source": [
    "pizza = comidas.loc[comidas[\"Sábado\"] == \"pizza\", \"Semana\"]\n",
    "sushi = comidas.loc[comidas[\"Sábado\"] == \"sushi\", \"Semana\"]\n",
    "\n",
    "dic_pizza = {}\n",
    "dic_sushi = {}\n",
    "cont_sushi = 0\n",
    "cont_pizza = 0\n",
    "\n",
    "for historico in pizza:\n",
    "    for pedido in historico:\n",
    "        if pedido not in dic_pizza:\n",
    "            dic_pizza[pedido] = 0\n",
    "        dic_pizza[pedido] += 1\n",
    "        cont_pizza += 1\n",
    "\n",
    "for historico in sushi:\n",
    "    for pedido in historico:\n",
    "        if pedido not in dic_sushi:\n",
    "            dic_sushi[pedido] = 0\n",
    "        dic_sushi[pedido] += 1\n",
    "        cont_sushi += 1\n",
    "\n",
    "P_total = cont_sushi + cont_pizza\n",
    "P_sushi = cont_sushi/P_total\n",
    "P_pizza = cont_pizza/P_total\n",
    "\n",
    "def modelo(historico):\n",
    "    prob_sushi = 1\n",
    "    prob_pizza = 1\n",
    "    for each in historico:\n",
    "        prob_sushi *= dic_sushi[each]/cont_sushi\n",
    "        prob_pizza *= dic_pizza[each]/cont_pizza\n",
    "        \n",
    "    prob_sushi *= P_sushi\n",
    "    prob_pizza *= P_pizza\n",
    "    \n",
    "    if prob_pizza > prob_sushi:\n",
    "        return \"Pizza\"\n",
    "    else:\n",
    "        return \"Sushi\""
   ]
  },
  {
   "cell_type": "markdown",
   "metadata": {},
   "source": [
    "b) **[0,5 pontos]** Determine a recomendação do sistema para um cliente com o seguinte histórico de pedidos: \"PPCPCCCOPP\"\n",
    "\n",
    "Observação: não precisa implementar o \"truque do log\"."
   ]
  },
  {
   "cell_type": "code",
   "execution_count": 18,
   "metadata": {},
   "outputs": [
    {
     "data": {
      "text/plain": [
       "'Sushi'"
      ]
     },
     "execution_count": 18,
     "metadata": {},
     "output_type": "execute_result"
    }
   ],
   "source": [
    "modelo(\"PPCPCCCOPP\")"
   ]
  },
  {
   "cell_type": "markdown",
   "metadata": {},
   "source": [
    "c) **[0,5 pontos]** Saiu uma notícia no jornal que diz que comer peixe caramelizado aumenta muito a incidência de unha encravada, daquelas bem horríveis. (Caso você goste de unha encravada: suponha que a população em geral não gosta.)\n",
    "\n",
    "Comente o que você espera que aconteça se você continuar usando seu classificador Naive-Bayes, treinado do jeito que está agora, para fazer as recomendações de pizza ou sushi.\n",
    "\n",
    "(Nesta questão não tem código ou cálculos para fazer - apenas senso crítico.)"
   ]
  },
  {
   "cell_type": "markdown",
   "metadata": {},
   "source": [
    "#### Caso ocorra o descrito no enunciado, o modelo criado anteriormente irá parar de funcionar, já que menos pessoas iriam pedir o peixe caramelizado, e o modelo continuaria classificando o histórico de pedidos da mesma forma que havia sido treinado, ou seja, em um cenário diferente do que corresponderia a \"atual\" realidade."
   ]
  }
 ],
 "metadata": {
  "kernelspec": {
   "display_name": "Python 3",
   "language": "python",
   "name": "python3"
  },
  "language_info": {
   "codemirror_mode": {
    "name": "ipython",
    "version": 3
   },
   "file_extension": ".py",
   "mimetype": "text/x-python",
   "name": "python",
   "nbconvert_exporter": "python",
   "pygments_lexer": "ipython3",
   "version": "3.7.7"
  }
 },
 "nbformat": 4,
 "nbformat_minor": 4
}
