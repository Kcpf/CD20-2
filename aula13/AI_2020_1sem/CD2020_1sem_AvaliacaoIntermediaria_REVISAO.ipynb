{
 "cells": [
  {
   "cell_type": "markdown",
   "metadata": {},
   "source": [
    "Escreva seu nome: <font color=red>PARA ESTUDAR COMO REVISÃO</font>"
   ]
  },
  {
   "cell_type": "markdown",
   "metadata": {},
   "source": [
    "\n",
    "\n",
    "# Avaliação Intermediária de Ciência dos dados\n",
    "\n",
    "**2020 - 1o. semestre**"
   ]
  },
  {
   "cell_type": "markdown",
   "metadata": {},
   "source": [
    " ___\n",
    "## Instruções\n",
    "\n",
    "**Leia atentamente as instruções da Avaliação Intermediária. Elas devem ser seguidas rigorosamente!**\n",
    "\n",
    "**Prezado(a) Aluno(a),**\n",
    "\n",
    "Você terá **120 minutos** a partir do início oficial da prova (**às 13h30 do dia 16/04**) para concluir esta avaliação, administre bem o seu tempo. Leia atentamente as instruções a seguir e as questões da prova antes de começar a resolvê-la.\n",
    "\n",
    "1. Identifique-se no cabeçalho deste arquivo.\n",
    "2. Esta Avaliação Intermediária é composta por uma parte no Jupyter e outra parte com respostas no Blackboard.\n",
    "3. Você receberá instruções complementares sobre como obter acesso à parte eletrônica da prova, a qual fará referência as questões desta avaliação. Leia atentamente as precauções de segurança para evitar ter sua prova anulada.\n",
    "4. Em caso de dúvida sobre alguma questão desta avaliação, redija um texto em uma nova célula deste Jupyter notebook explicitando-a para que o professor avalie a pertinência durante a correção.  \n",
    "5. Você pode utilizar qualquer material individual para consulta – anotações, livros, etc. Mas não pode compartilhar este material com seus colegas.\n",
    "6. Consulta a colegas constituirá violação ao Código de Ética e de Conduta e acarretarão sanções nele previstas. Faça o seu trabalho de maneira ética!\n",
    "7. Leia atentamente cada questão e responda o que for pedido. Erros conceituais serão penalizados, mesmo que o conceito não se relacione com o que foi pedido na questão.\n",
    "8. Caso em algum item você necessite do resultado de um item anterior que você não conseguiu fazer, admita um valor razoável para esse resultado e faça o item normalmente. Indique na questão, caso isso aconteça.\n",
    "9. Todos os resultados devem ser justificados. Números que apareçam sem uma explicação de como foram encontrados serão ignorados na correção.\n",
    "10. A qualidade do código na resolução em cada item também será levada em consideração, ou seja, códigos complicados para soluções que podem ser simples serão penalizados.\n",
    "11. Esta avaliação consiste em **duas entregas via Blackboard**. Este arquivo `.ipynb` deve ser entregue em `Conteúdos/Avaliações/Avaliação Intermediária/Jupyter Notebook: Avaliação Intermediária` (clique em `File->Download as->Notebook (.ipynb)`). As respostas das questões devem ser preenchidas no teste `Conteúdos/Avaliações/Avaliação Intermediária/Avaliação Intermediária`. As entregas devem ser realizadas por meio do Blackboard. **Não serão consideradas entregas por outros meios** (ex: e-mail, MS Teams, etc.).\n",
    "12. Não existe limite para a quantidade de tentativas no teste do Blackboard. Você pode tentar quantas vezes quiser dentro do limite de tempo da avaliação. **IMPORTANTE**: as submissões não serão corrigidas automaticamente. **O Blackboard indicará todas as respostas como erradas (nota zero).** Não se preocupe, sua última submissão será corrigida pelos professores após o término da avaliação.\n",
    "\n",
    "#### Precauções de segurança\n",
    "\n",
    "1.\tTodas as precauções abaixo podem ser resumidas da seguinte forma: consulte o material que quiser desde que não seja nenhuma pessoa e não compartilhe informações com ninguém. \n",
    "2.\tVocê não pode enviar nenhum tipo de mensagem durante a prova para qualquer pessoa dentro ou fora dela, com exceção do(a) professor(a). Por exemplo: e-mail, Skype, mensagens do Facebook, mensagens do WhatsApp, mensagens via Twitter, etc\n",
    "3.\tVocê não pode compartilhar nenhum tipo de informação em nenhum site, incluindo Pastebin, Codeshare, wikis, etc\n",
    "4.\tVocê não pode perguntar questões da prova no StackOverflow, StackExchange, MathExchange, etc. \n",
    "5.\tVocê não pode trabalhar a partir de máquinas remotas com LogMeIn, SSH, VNC ou VPNs. \n",
    "6.\tVocê pode procurar/tirar dúvida no Google.\n",
    "7.\tVocê pode consultar qualquer arquivo no seu computador.\n",
    "8.\tQualquer transgressão das normas acima pode zerar a nota da prova e implicar em infração ao código de ética do Insper."
   ]
  },
  {
   "cell_type": "markdown",
   "metadata": {},
   "source": [
    "___\n",
    "## Índice\n",
    "\n",
    "- [Questão 1](#q1)\n",
    "  * [Enunciado](#enunq1)\n",
    "  * [Perguntas usando Modelos Teóricos](#pergq1)\n",
    "    - [Item a (0,50 ponto)](#q1a)\n",
    "    - [Item b (0,75 ponto)](#q1b)\n",
    "    - [Item c (1,00 ponto)](#q1c)\n",
    "    - [Item d (1,00 ponto)](#q1d)\n",
    "    - [Item e (1,00 ponto)](#q1e)\n",
    "    - [Item f (0,75 ponto)](#q1f)\n",
    "  * [Perguntas usando Dados e Modelos Teóricos](#perg2q1)\n",
    "    - [Item g (0,50 ponto)](#q1g)\n",
    "    - [Item h (1,00 ponto)](#q1h)\n",
    "    - [Item i (1,00 ponto)](#q1i)\n",
    "- [Questão 2](#q2)\n",
    "    - [Item a (0,75 ponto)](#q2a)\n",
    "    - [Item b (1,00 ponto)](#q2b)\n",
    "    - [Item c (0,75 ponto)](#q2c)\n",
    "\n",
    "___"
   ]
  },
  {
   "cell_type": "markdown",
   "metadata": {},
   "source": [
    "___\n",
    "Carregando algumas bibliotecas:"
   ]
  },
  {
   "cell_type": "code",
   "execution_count": 1,
   "metadata": {},
   "outputs": [],
   "source": [
    "%matplotlib inline\n",
    "import pandas as pd\n",
    "import matplotlib.pyplot as plt\n",
    "from scipy import stats\n",
    "import numpy as np\n",
    "import os"
   ]
  },
  {
   "cell_type": "code",
   "execution_count": 2,
   "metadata": {},
   "outputs": [
    {
     "name": "stdout",
     "output_type": "stream",
     "text": [
      "Esperamos trabalhar no diretório\n",
      "C:\\Users\\Fernando\\Documents\\Insper\\2 semestre\\Ciência dos Dados\\CD20-2\\aula13\\AI_2020_1sem\n"
     ]
    }
   ],
   "source": [
    "print('Esperamos trabalhar no diretório')\n",
    "print(os.getcwd())"
   ]
  },
  {
   "cell_type": "markdown",
   "metadata": {},
   "source": [
    "<div id=\"q1\"></div>\n",
    "\n",
    "___\n",
    "## Questão 1 - 7,5 pontos"
   ]
  },
  {
   "cell_type": "markdown",
   "metadata": {},
   "source": [
    "<div id=\"enuncq1\"></div>\n",
    "\n",
    "<img src=\"./blu-ray.jpeg\" width=33% alt=\"Fonte: https://www.geek.com/gadgets/sony-unleashes-new-blu-ray-laser-capable-of-burning-128gb-quad-layer-discs-1288926/\"> </img>\n",
    "\n",
    "*Adaptado de Montgomery e Runger*\n",
    "\n",
    "*Lasers* semicondutores usados em drives de discos Blu-ray requerem níveis mais altos de potência para operações de **escrita** (gravação) do que para operações de **leitura**. Operações com níveis de alta potência baixam a vida útil do *laser*.\n",
    "\n",
    "*Lasers* que estejam em drives de Blu-ray podem ser usados para escrita ou leitura.\n",
    "\n",
    "Considere as seguintes informações:\n",
    "\n",
    " * $25\\%$ das vezes um drive de Blu-ray é usado apenas para escrita.\n",
    " * Aqui, assuma que de maneira complementar, $75\\%$ das vezes é utilizado apenas para leitura.\n",
    " * $X_L$: vida útil de um drive de Blu-ray, em anos, quando utilizado apenas para leitura, sendo $E(X_L)=5$.\n",
    " * $X_E$: vida útil de um drive de Blu-ray, em anos, quando utilizado apenas para escrita, sendo $E(X_E)=3$.\n",
    " * A vida útil de um drive de Blu-ray, em anos, é modelada por uma distribuição exponencial, ou seja, $X_L\\sim Exponencial$ e $X_E\\sim Exponencial$.\n",
    " "
   ]
  },
  {
   "cell_type": "markdown",
   "metadata": {},
   "source": [
    "___\n",
    "<div id=\"pergq1\"></div> \n",
    "\n",
    "### Perguntas usando Modelos Teóricos\n",
    "\n",
    "$\\quad$\n",
    "\n",
    "**Responda:**\n",
    "\n",
    "<div id=\"q1a\"></div>\n",
    "\n",
    "a. **[0,5 ponto]** Encontre a probabilidade de um drive de Blu-ray utilizado apenas para leitura dure mais do que 6 anos.\n"
   ]
  },
  {
   "cell_type": "code",
<<<<<<< HEAD
   "execution_count": 3,
=======
   "execution_count": 6,
>>>>>>> f73e157eaff74b664adebf94d7f689302756fd11
   "metadata": {},
   "outputs": [
    {
     "data": {
      "text/plain": [
       "0.3011942119122022"
      ]
     },
<<<<<<< HEAD
     "execution_count": 3,
=======
     "execution_count": 6,
>>>>>>> f73e157eaff74b664adebf94d7f689302756fd11
     "metadata": {},
     "output_type": "execute_result"
    }
   ],
   "source": [
    "mu_leitura = 5\n",
    "1 - stats.expon.cdf(6, scale=mu_leitura)"
   ]
  },
  {
   "cell_type": "markdown",
   "metadata": {},
   "source": [
    "<div id=\"q1b\"></div>\n",
    "\n",
    "b. **[0,75 ponto]** Se um drive de Blu-ray utilizado apenas para leitura já durou 2 anos, encontre a probabilidade de que o mesmo dure menos do que 6 anos."
   ]
  },
  {
   "cell_type": "code",
<<<<<<< HEAD
   "execution_count": 4,
=======
   "execution_count": 17,
>>>>>>> f73e157eaff74b664adebf94d7f689302756fd11
   "metadata": {},
   "outputs": [
    {
     "data": {
      "text/plain": [
       "0.5506710358827783"
      ]
     },
<<<<<<< HEAD
     "execution_count": 4,
=======
     "execution_count": 17,
>>>>>>> f73e157eaff74b664adebf94d7f689302756fd11
     "metadata": {},
     "output_type": "execute_result"
    }
   ],
   "source": [
    "(stats.expon.cdf(6, scale=mu_leitura) - stats.expon.cdf(2, scale=mu_leitura))/(1 - stats.expon.cdf(2, scale=mu_leitura))"
   ]
  },
  {
   "cell_type": "markdown",
   "metadata": {},
   "source": [
    "<div id=\"q1c\"></div>\n",
    "\n",
    "c.  **[1,0 ponto]** Encontre qual o maior tempo de vida de um drive de Blu-ray utilizado apenas para leitura considerando $40\\%$ desses drives que sobrevivem menos. Chame esse valor de `t_maior`. Considerando esse valor encontrado para `t_maior`, calcule a probabilidade de um drive de Blu-ray utilizado apenas para escrita sobreviva até esse valor `t_maior`.\n"
   ]
  },
  {
   "cell_type": "code",
<<<<<<< HEAD
   "execution_count": 5,
=======
   "execution_count": 22,
>>>>>>> f73e157eaff74b664adebf94d7f689302756fd11
   "metadata": {},
   "outputs": [
    {
     "data": {
      "text/plain": [
       "0.5731728034611925"
      ]
     },
<<<<<<< HEAD
     "execution_count": 5,
=======
     "execution_count": 22,
>>>>>>> f73e157eaff74b664adebf94d7f689302756fd11
     "metadata": {},
     "output_type": "execute_result"
    }
   ],
   "source": [
    "mu_escrita = 3\n",
    "t_maior = stats.expon.ppf(0.4, scale=mu_leitura)\n",
    "stats.expon.cdf(t_maior, scale=mu_escrita)"
   ]
  },
  {
   "cell_type": "markdown",
   "metadata": {},
   "source": [
    "<div id=\"q1d\"></div>\n",
    "\n",
    "d. **[1,0 ponto]** Encontre a probabilidade de um drive de Blu-ray qualquer durar mais do que 6 anos. \n",
    "\n",
    "*Observação*: Entenda como \"drive de Blu-ray **qualquer**\" como sendo um drive de Blu-ray que pode ser utilizado apenas para leitura ou um drive de Blu-ray que pode ser utilizado apenas para escrita.\n",
    "\n"
   ]
  },
  {
   "cell_type": "code",
<<<<<<< HEAD
   "execution_count": 6,
=======
   "execution_count": 24,
>>>>>>> f73e157eaff74b664adebf94d7f689302756fd11
   "metadata": {},
   "outputs": [
    {
     "data": {
      "text/plain": [
       "0.25972947974330485"
      ]
     },
<<<<<<< HEAD
     "execution_count": 6,
=======
     "execution_count": 24,
>>>>>>> f73e157eaff74b664adebf94d7f689302756fd11
     "metadata": {},
     "output_type": "execute_result"
    }
   ],
   "source": [
    "(1 - stats.expon.cdf(6, scale=mu_leitura))*0.75 + (1 - stats.expon.cdf(6, scale=mu_escrita))*0.25"
   ]
  },
  {
   "cell_type": "markdown",
   "metadata": {},
   "source": [
    "<div id=\"q1e\"></div>\n",
    "\n",
    "e. **[1,0 ponto]** Se um drive de Blu-ray qualquer durou menos do que 6 anos, encontre a probabilidade de que o mesmo tenha sido utilizado apenas para leitura.\n"
   ]
  },
  {
   "cell_type": "code",
<<<<<<< HEAD
   "execution_count": 7,
=======
   "execution_count": 25,
>>>>>>> f73e157eaff74b664adebf94d7f689302756fd11
   "metadata": {},
   "outputs": [
    {
     "data": {
      "text/plain": [
       "0.7079902910143047"
      ]
     },
<<<<<<< HEAD
     "execution_count": 7,
=======
     "execution_count": 25,
>>>>>>> f73e157eaff74b664adebf94d7f689302756fd11
     "metadata": {},
     "output_type": "execute_result"
    }
   ],
   "source": [
    "((stats.expon.cdf(6, scale=mu_leitura))*0.75)/((stats.expon.cdf(6, scale=mu_leitura))*0.75 + (stats.expon.cdf(6, scale=mu_escrita))*0.25)"
   ]
  },
  {
   "cell_type": "markdown",
   "metadata": {},
   "source": [
    "<div id=\"q1f\"></div>\n",
    "\n",
    "f. **[0,75 ponto]** Assuma que caixas são vendidas com 20 unidades de drives de Blu-ray quaisquer. Calcule a probabilidade de que pelo menos 10 drives de Blu-ray quaisquer durem mais do que 6 anos.\n"
   ]
  },
  {
   "cell_type": "code",
<<<<<<< HEAD
   "execution_count": 8,
=======
   "execution_count": 26,
>>>>>>> f73e157eaff74b664adebf94d7f689302756fd11
   "metadata": {},
   "outputs": [
    {
     "data": {
      "text/plain": [
       "0.018173446084355893"
      ]
     },
<<<<<<< HEAD
     "execution_count": 8,
=======
     "execution_count": 26,
>>>>>>> f73e157eaff74b664adebf94d7f689302756fd11
     "metadata": {},
     "output_type": "execute_result"
    }
   ],
   "source": [
    "1 - stats.binom.cdf(9, 20, (1 - stats.expon.cdf(6, scale=mu_leitura))*0.75 + (1 - stats.expon.cdf(6, scale=mu_escrita))*0.25)"
   ]
  },
  {
   "cell_type": "markdown",
   "metadata": {},
   "source": [
    "___\n",
    "<div id=\"perg2q1\"></div> \n",
    "\n",
    "### Perguntas usando Dados e Modelos Teóricos\n",
    "\n",
    "<img src=\"./factory.jpg\" width=33% alt=\"Fonte: https://www.bangkokpost.com/print/436135/\"> </img>\n",
    "\n",
    "Testes de laboratório foram realizados para estimar a vida útil dos drives de Blu-ray. Nesse experimento, alguns drives foram utilizados apenas para leitura e outros apenas para escrita. Os dados coletados estão disponíveis no arquivo `VidaUtil.xlsx`. Cada linha representa um drive. A coluna `Meio` indica se o drive foi utilizado apenas para *Leitura* ou apenas para *Escrita*. E a coluna `Tempo` indica a sua vida útil do drive, em anos."
   ]
  },
  {
   "cell_type": "markdown",
   "metadata": {},
   "source": [
    "**Carregando os dados**\n",
    "\n",
    "Abra a base de dados: `VidaUtil.xlsx`\n"
   ]
  },
  {
   "cell_type": "code",
<<<<<<< HEAD
   "execution_count": 9,
=======
   "execution_count": 27,
>>>>>>> f73e157eaff74b664adebf94d7f689302756fd11
   "metadata": {},
   "outputs": [
    {
     "data": {
      "text/html": [
       "<div>\n",
       "<style scoped>\n",
       "    .dataframe tbody tr th:only-of-type {\n",
       "        vertical-align: middle;\n",
       "    }\n",
       "\n",
       "    .dataframe tbody tr th {\n",
       "        vertical-align: top;\n",
       "    }\n",
       "\n",
       "    .dataframe thead th {\n",
       "        text-align: right;\n",
       "    }\n",
       "</style>\n",
       "<table border=\"1\" class=\"dataframe\">\n",
       "  <thead>\n",
       "    <tr style=\"text-align: right;\">\n",
       "      <th></th>\n",
       "      <th>Unnamed: 0</th>\n",
       "      <th>Meio</th>\n",
       "      <th>Tempo</th>\n",
       "    </tr>\n",
       "  </thead>\n",
       "  <tbody>\n",
       "    <tr>\n",
       "      <th>0</th>\n",
       "      <td>0</td>\n",
       "      <td>Leitura</td>\n",
       "      <td>0.721921</td>\n",
       "    </tr>\n",
       "    <tr>\n",
       "      <th>1</th>\n",
       "      <td>1</td>\n",
       "      <td>Leitura</td>\n",
       "      <td>7.797853</td>\n",
       "    </tr>\n",
       "    <tr>\n",
       "      <th>2</th>\n",
       "      <td>2</td>\n",
       "      <td>Leitura</td>\n",
       "      <td>2.694416</td>\n",
       "    </tr>\n",
       "    <tr>\n",
       "      <th>3</th>\n",
       "      <td>3</td>\n",
       "      <td>Escrita</td>\n",
       "      <td>1.487885</td>\n",
       "    </tr>\n",
       "    <tr>\n",
       "      <th>4</th>\n",
       "      <td>4</td>\n",
       "      <td>Leitura</td>\n",
       "      <td>4.933897</td>\n",
       "    </tr>\n",
       "    <tr>\n",
       "      <th>5</th>\n",
       "      <td>5</td>\n",
       "      <td>Leitura</td>\n",
       "      <td>6.433863</td>\n",
       "    </tr>\n",
       "    <tr>\n",
       "      <th>6</th>\n",
       "      <td>6</td>\n",
       "      <td>Leitura</td>\n",
       "      <td>0.689525</td>\n",
       "    </tr>\n",
       "    <tr>\n",
       "      <th>7</th>\n",
       "      <td>7</td>\n",
       "      <td>Leitura</td>\n",
       "      <td>4.185281</td>\n",
       "    </tr>\n",
       "    <tr>\n",
       "      <th>8</th>\n",
       "      <td>8</td>\n",
       "      <td>Leitura</td>\n",
       "      <td>1.947603</td>\n",
       "    </tr>\n",
       "    <tr>\n",
       "      <th>9</th>\n",
       "      <td>9</td>\n",
       "      <td>Leitura</td>\n",
       "      <td>5.214883</td>\n",
       "    </tr>\n",
       "  </tbody>\n",
       "</table>\n",
       "</div>"
      ],
      "text/plain": [
       "   Unnamed: 0     Meio     Tempo\n",
       "0           0  Leitura  0.721921\n",
       "1           1  Leitura  7.797853\n",
       "2           2  Leitura  2.694416\n",
       "3           3  Escrita  1.487885\n",
       "4           4  Leitura  4.933897\n",
       "5           5  Leitura  6.433863\n",
       "6           6  Leitura  0.689525\n",
       "7           7  Leitura  4.185281\n",
       "8           8  Leitura  1.947603\n",
       "9           9  Leitura  5.214883"
      ]
     },
<<<<<<< HEAD
     "execution_count": 9,
=======
     "execution_count": 27,
>>>>>>> f73e157eaff74b664adebf94d7f689302756fd11
     "metadata": {},
     "output_type": "execute_result"
    }
   ],
   "source": [
    "# Carregando os dados\n",
    "dados = pd.read_excel('VidaUtil.xlsx')\n",
    "dados.head(10)"
   ]
  },
  {
   "cell_type": "markdown",
   "metadata": {},
   "source": [
    "<div id=\"q1g\"></div>\n",
    "\n",
    "g. **[0,5 ponto]** Considerando os valores observados na coluna `Tempo` na base de dados, estime os valores de 𝜇 separadamente para `Escrita` e para `Leitura`. \n"
   ]
  },
  {
   "cell_type": "code",
<<<<<<< HEAD
   "execution_count": 10,
=======
   "execution_count": 36,
>>>>>>> f73e157eaff74b664adebf94d7f689302756fd11
   "metadata": {},
   "outputs": [
    {
     "data": {
      "text/plain": [
       "(6.270731610645419, 1.9270543673476233)"
      ]
     },
<<<<<<< HEAD
     "execution_count": 10,
=======
     "execution_count": 36,
>>>>>>> f73e157eaff74b664adebf94d7f689302756fd11
     "metadata": {},
     "output_type": "execute_result"
    }
   ],
   "source": [
    "mu_leitura_dados = dados.loc[dados[\"Meio\"] == \"Leitura\", \"Tempo\"].mean()\n",
    "mu_escrita_dados = dados.loc[dados[\"Meio\"] == \"Escrita\", \"Tempo\"].mean()\n",
    "mu_leitura_dados, mu_escrita_dados"
   ]
  },
  {
   "cell_type": "markdown",
   "metadata": {},
   "source": [
    "<div id=\"q1h\"></div>\n",
    "\n",
    "h. **[1,0 ponto]** Utilizando as estimativas obtidas no exercício anterior, faça o gráfico a seguir utilizando `Tempo` apenas para *Leitura* e depois `Tempo` apenas para *Escrita*:\n",
    "\n",
    "  * Calcule a função densidade de probabbilidade (f.d.p.) da exponencial assumindo agora a estimativa de $\\mu$ no argumento `scale` conforme calculado no item anterior.\n",
    "  * Visualize a f.d.p. anterior sobre o histograma de densidade obtido a partir dos dados. No argumento `bins` do histograma, use faixas que permita ter um bom visual gráfico do histograma. \n",
    "\n",
    "*Observação*: Neste item, você deve construir dois gráficos: um apenas para *Leitura* e outro apenas para  *Escrita*."
   ]
  },
  {
   "cell_type": "code",
<<<<<<< HEAD
   "execution_count": 11,
=======
   "execution_count": 61,
>>>>>>> f73e157eaff74b664adebf94d7f689302756fd11
   "metadata": {},
   "outputs": [
    {
     "data": {
      "image/png": "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\n",
      "text/plain": [
       "<Figure size 720x360 with 2 Axes>"
      ]
     },
     "metadata": {
      "needs_background": "light"
     },
     "output_type": "display_data"
    }
   ],
   "source": [
    "plt.figure(figsize=(10, 5))\n",
    "plt.subplot(121)\n",
    "plt.plot(np.linspace(0, 20, 1000), stats.expon.pdf(np.linspace(0, 20, 1000), scale=mu_leitura_dados))\n",
    "plt.hist(dados.loc[dados[\"Meio\"] == \"Leitura\", \"Tempo\"], density=True, alpha=0.5, bins=np.arange(0,20,1))\n",
    "\n",
    "plt.subplot(122)\n",
    "plt.plot(np.linspace(0, 20, 1000), stats.expon.pdf(np.linspace(0, 20, 1000), scale=mu_escrita_dados))\n",
    "plt.hist(dados.loc[dados[\"Meio\"] == \"Escrita\", \"Tempo\"], density=True, alpha=0.5, bins=np.arange(0,20,1))\n",
    "plt.show()"
   ]
  },
  {
   "cell_type": "markdown",
   "metadata": {},
   "source": [
    "<div id=\"q1i\"></div>\n",
    "\n",
    "i. **[1,0 ponto]** Discurse (escreva sua resposta no teste do Blackboard):\n",
    "  * Considerando os resultados do item (g), discuta sobre a adequação das médias propostas nos modelos teóricos quando confrontadas com as respectivas médias estimadas.\n",
    "  * Considerando os resultados do item (h), discuta sobre a adequação da distribuição Exponencial para ajustar os dados apresentados na coluna `Tempo` apenas para *Leitura* e depois `Tempo` apenas para *Escrita*.\n",
    "  \n"
   ]
  },
  {
   "cell_type": "code",
   "execution_count": 12,
   "metadata": {},
   "outputs": [],
   "source": [
    "# ESCREVA SUA RESPOSTA AQUI"
   ]
  },
  {
   "cell_type": "markdown",
   "metadata": {},
   "source": [
    "<div id=\"q2\"></div>\n",
    "\n",
    "___\n",
    "## Questão 2 - 2,50 pontos"
   ]
  },
  {
   "cell_type": "markdown",
   "metadata": {},
   "source": [
    "<img src=\"./1200px-Easter-Eggs-1.jpg\" width=33% alt=\"Fonte: https://pt.wikipedia.org/wiki/Ovo_de_P%C3%A1scoa\"> </img>\n",
    "\n",
    "Nessa época de Páscoa, as empresas que produzem ovos de chocolate fazem controle da quantidade de ovos de chocolate quebrados durante o transporte como indicador de qualidade do serviço.\n",
    "\n",
    "Considere que haja o interesse de modelar o número de ovos de chocolate quebrados durante o transporte em cada entrega e que, para essa variável, será feito o uso da distribuição Poisson com parâmetro $\\mu=15$.\n",
    "\n",
    "**Responda:**\n",
    "\n",
    "<div id=\"q2a\"></div>\n",
    "\n",
    "a. **[0,75 ponto]** Calcule as probabilidades:\n",
    "\n",
    " 1. de em uma entrega ter exatamente 20 ovos quebrados durante o transporte;\n",
    " 2. de em uma entrega ter no máximo 20 ovos quebrados durante o transporte;\n",
    " 3. de em uma entrega ter pelo menos 20 ovos quebrados durante o transporte;\n"
   ]
  },
  {
   "cell_type": "code",
<<<<<<< HEAD
   "execution_count": 13,
=======
   "execution_count": 63,
>>>>>>> f73e157eaff74b664adebf94d7f689302756fd11
   "metadata": {},
   "outputs": [
    {
     "data": {
      "text/plain": [
       "(0.04181030500106466, 0.9170290899685397, 0.12478121503252493)"
      ]
     },
<<<<<<< HEAD
     "execution_count": 13,
=======
     "execution_count": 63,
>>>>>>> f73e157eaff74b664adebf94d7f689302756fd11
     "metadata": {},
     "output_type": "execute_result"
    }
   ],
   "source": [
    "mu = 15\n",
    "stats.poisson.pmf(20, mu), stats.poisson.cdf(20, mu), 1 - stats.poisson.cdf(19, mu)"
   ]
  },
  {
   "cell_type": "markdown",
   "metadata": {},
   "source": [
    "<div id=\"q2b\"></div>\n",
    "\n",
    "b. **[1 ponto]** A empresa costuma vender cada entrega por $800$ reais. Um cliente faz a seguinte proposta à empresa:\n",
    " * Se em uma entrega não chegar ovos de chocolate quebrados durante o transporte - pagará $1.100$ reais\n",
    " * Se em uma entrega chegar entre 1 e 10 ovos de chocolate quebrados durante o transporte - pagará $1.000$ reais\n",
    " * Se em uma entrega chegar mais de 10 ovos de chocolate quebrados durante o transporte - pagará $600$ reais\n",
    " \n",
    "Calcule o valor esperado que o cliente deve pagar por uma entrega seguindo sua proposta. Ainda, essa proposta é vantajosa para a empresa ou para o cliente? Justifique."
   ]
  },
  {
   "cell_type": "code",
<<<<<<< HEAD
   "execution_count": 14,
=======
   "execution_count": 64,
>>>>>>> f73e157eaff74b664adebf94d7f689302756fd11
   "metadata": {},
   "outputs": [
    {
     "data": {
      "text/plain": [
       "647.385795201838"
      ]
     },
<<<<<<< HEAD
     "execution_count": 14,
=======
     "execution_count": 64,
>>>>>>> f73e157eaff74b664adebf94d7f689302756fd11
     "metadata": {},
     "output_type": "execute_result"
    }
   ],
   "source": [
    "stats.poisson.pmf(0, mu)*1100 + (stats.poisson.cdf(10, mu) - stats.poisson.pmf(0, mu))*1000 + (1 - stats.poisson.cdf(10, mu))*600"
   ]
  },
  {
   "cell_type": "markdown",
   "metadata": {},
   "source": [
    "<div id=\"q2c\"></div>\n",
    "\n",
    "c. **[0,75 ponto]** Decorrente do aumento da demanda nas vésperas da Páscoa, em cada entrega, houve um adicional de 5 ovos de chocolate quebrados durante o transporte. Com isso, a empresa fez alguns ajustes na maneira de embalar os ovos de chocolate que deve reduzir essa nova quantidade em $20\\%$. Após todas essas mudanças, calcule o novo valor médio e respectivo desvio padrão da quantidade de ovos quebrados durante o transporte em cada entrega.\n",
    "\n"
   ]
  },
  {
   "cell_type": "code",
<<<<<<< HEAD
   "execution_count": 15,
=======
   "execution_count": 69,
>>>>>>> f73e157eaff74b664adebf94d7f689302756fd11
   "metadata": {},
   "outputs": [
    {
     "data": {
      "text/plain": [
       "707.1089396277616"
      ]
     },
<<<<<<< HEAD
     "execution_count": 15,
=======
     "execution_count": 69,
>>>>>>> f73e157eaff74b664adebf94d7f689302756fd11
     "metadata": {},
     "output_type": "execute_result"
    }
   ],
   "source": [
    "preco1 = stats.poisson.pmf(5*0.8, mu)*1100\n",
    "preco2 = (stats.poisson.cdf(15*0.8, mu) - stats.poisson.pmf(5*0.8, mu))*1000\n",
    "preco3 = (1 - stats.poisson.cdf(15*0.8, mu))*600\n",
    "media = preco1 + preco2 + preco3\n",
    "media"
   ]
  },
  {
   "cell_type": "code",
<<<<<<< HEAD
   "execution_count": 16,
=======
   "execution_count": 71,
>>>>>>> f73e157eaff74b664adebf94d7f689302756fd11
   "metadata": {},
   "outputs": [
    {
     "data": {
      "text/plain": [
       "874.2859797837627"
      ]
     },
<<<<<<< HEAD
     "execution_count": 16,
=======
     "execution_count": 71,
>>>>>>> f73e157eaff74b664adebf94d7f689302756fd11
     "metadata": {},
     "output_type": "execute_result"
    }
   ],
   "source": [
    "var = (preco1 - media)**2 + (preco2 - media)**2 + (preco3 - media)**2\n",
    "var ** 0.5"
   ]
  },
  {
   "cell_type": "code",
   "execution_count": null,
   "metadata": {},
   "outputs": [],
   "source": []
  }
 ],
 "metadata": {
  "hide_input": false,
  "kernelspec": {
   "display_name": "Python 3",
   "language": "python",
   "name": "python3"
  },
  "language_info": {
   "codemirror_mode": {
    "name": "ipython",
    "version": 3
   },
   "file_extension": ".py",
   "mimetype": "text/x-python",
   "name": "python",
   "nbconvert_exporter": "python",
   "pygments_lexer": "ipython3",
   "version": "3.7.7"
  }
 },
 "nbformat": 4,
 "nbformat_minor": 4
}
