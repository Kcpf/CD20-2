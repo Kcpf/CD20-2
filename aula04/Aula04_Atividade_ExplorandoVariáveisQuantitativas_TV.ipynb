{
 "cells": [
  {
   "cell_type": "markdown",
   "metadata": {},
   "source": [
    "___\n",
    "# Análise Exploratória:  Medidas Resumo e Histograma\n",
    "___\n",
    "\n",
    "## Aula 04 - Atividade\n",
    "\n",
    "<div id=\"indice\"></div>\n",
    "\n",
    "## Índice\n",
    "\n",
    "- [Empresa de TV](#empresa-de-tv)\n",
    "- [Medidas resumo](#medidas-resumo)\n",
    "    - [Revisão exercício 7 da Aula 02](#ex7aula02)\n",
    "    - [Revisão exercício 8 da Aula 02](#ex8aula02)    \n",
    "    - [Exercício 1](#ex1) \n",
    "- [Histograma](#histograma)\n",
    "    - [Exercício 2](#ex2) \n",
    "    - [Exercício 3](#ex3) \n",
    "___"
   ]
  },
  {
   "cell_type": "markdown",
   "metadata": {},
   "source": [
    "<div id=\"empresa-de-tv\"></div>\n",
    "\n",
    "## Empresa de TV\n",
    "\n",
    "Uma empresa de TV via satélite criou recentemente dois tipos de planos de canais (A e B).\n",
    "\n",
    "A empresa tem como objetivo estudar o perfil dos clientes que aderiram ao plano para enviar malas diretas aos potenciais clientes de cada tipo de plano.\n",
    "\n",
    "A base de dados apresenta algumas variáveis para uma amostra de 82 clientes selecionados aleatoriamente dentre aqueles que aderiram aos planos. As variáveis têm os seguintes significados:\n",
    "\n",
    "* CLIENTE: identificador do cliente.\n",
    "* PLANO: apresenta o plano adquirido pelo cliente – (1=A ou 2=B). \n",
    "* EC: apresenta estado civil do cliente no momento da adesão ao  plano – (1=Casado, 2=Solteiro e 3=Outros).\n",
    "* SATISFACAO: grau de satisfação do cliente pelo plano – \n",
    "\t(5=Muito satisfeito, 4=Satisfeito, 3=Indiferente, 2=Insatisfeito e 1=Muito insatisfeito).\n",
    "* RENDA: renda pessoal do cliente, em milhares de reais.\n",
    "\n",
    "O arquivo `EmpresaTV Cod.xlsx` contém as variáveis descritas acima.\n"
   ]
  },
  {
   "cell_type": "code",
   "execution_count": 1,
   "metadata": {},
   "outputs": [],
   "source": [
    "%matplotlib inline\n",
    "import pandas as pd\n",
    "import matplotlib.pyplot as plt\n",
    "import os\n",
    "from numpy import arange\n",
    "import numpy as np\n",
    "\n",
    "# Para ter melhor print\n",
    "from IPython.display import display"
   ]
  },
  {
   "cell_type": "code",
   "execution_count": 2,
   "metadata": {},
   "outputs": [
    {
     "name": "stdout",
     "output_type": "stream",
     "text": [
      "Esperamos trabalhar no diretório\n",
      "C:\\Users\\Fernando\\Documents\\Insper\\2 semestre\\Ciência dos Dados\\CD20-2\\aula04\n"
     ]
    }
   ],
   "source": [
    "print('Esperamos trabalhar no diretório')\n",
    "print(os.getcwd())"
   ]
  },
  {
   "cell_type": "code",
   "execution_count": 3,
   "metadata": {},
   "outputs": [],
   "source": [
    "dados = pd.read_excel('EmpresaTV Cod.xlsx')\n",
    "\n",
    "# Definições necessárias vistas na Aula 02\n",
    "dados.PLANO = dados.PLANO.astype('category')\n",
    "dados.EC = dados.EC.astype('category')\n",
    "dados.SATISFACAO = dados.SATISFACAO.astype('category')\n",
    "dados.RENDA = dados.RENDA.astype('float')\n",
    "\n",
    "dados.PLANO.cat.categories = (['A', 'B'])\n",
    "dados.EC.cat.categories = (['Casado', 'Solteiro', 'Outros'])\n",
    "dados.SATISFACAO.cat.categories = (['Muito Insatisfeito', 'Insatisfeito', \n",
    "                                    'Indiferente', 'Satisfeito', 'Muito Satisfeito'])\n"
   ]
  },
  {
   "cell_type": "markdown",
   "metadata": {},
   "source": [
    "___\n",
    "<div id=\"medidas-resumo\"></div>\n",
    "\n",
    "## Medidas resumo\n",
    "\n",
    "Para compreender as informações contidas em variáveis quantitativas, podemos recorrer ao cálculo de algumas medidas resumo como  por exemplo:\n",
    "  * média: [pd.mean()](https://pandas.pydata.org/pandas-docs/stable/reference/api/pandas.DataFrame.mean.html)\n",
    "  * percentis: [pd.quantile()](https://pandas.pydata.org/pandas-docs/stable/reference/api/pandas.DataFrame.quantile.html)\n",
    "  * desvio padrão: [pd.std()](https://pandas.pydata.org/pandas-docs/stable/reference/api/pandas.DataFrame.std.html)\n",
    "  * variância: [pd.var()](https://pandas.pydata.org/pandas-docs/stable/reference/api/pandas.DataFrame.var.html)\n",
    "  "
   ]
  },
  {
   "cell_type": "markdown",
   "metadata": {},
   "source": [
    "<div id=\"ex7aula02\"></div>\n",
    "\n",
    "No **Exercicio 7** do notebook da **Aula02_Atividade**, foi pedido para segmentar a base de dados por plano e criar uma variável renda para cada plano.\n",
    "\n",
    "A seguir, temos as respostas para esse exercício:\n"
   ]
  },
  {
   "cell_type": "code",
   "execution_count": 4,
   "metadata": {},
   "outputs": [],
   "source": [
    "dados_a = dados.loc[dados['PLANO'] == 'A',:]\n",
    "dados_b = dados.loc[dados['PLANO'] == 'B',:]\n",
    "\n",
    "renda_a = dados.loc[dados['PLANO'] == 'A','RENDA']\n",
    "renda_b = dados.loc[dados['PLANO'] == 'B','RENDA']\n",
    "renda_a = dados_a['RENDA']\n",
    "renda_b = dados_b['RENDA']"
   ]
  },
  {
   "cell_type": "markdown",
   "metadata": {},
   "source": [
    "<div id=\"ex8aula02\"></div>\n",
    "\n",
    "Já no **Exercicio 8** do notebook da **Aula02_Atividade**, foi pedido para imprimir tamamnho amostral, média, mínimo, primeiro quartil (percentil de ordem 25%), segundo quartil (mediana), terceiro quartil (percentil de ordem 75%), máximo, desvio padrão e variância das rendas do clientes para cada plano A e B, separadamente.\n",
    "\n",
    "A seguir, temos as respostas para esse exercício:\n"
   ]
  },
  {
   "cell_type": "code",
   "execution_count": 5,
   "metadata": {
    "scrolled": true
   },
   "outputs": [
    {
     "name": "stdout",
     "output_type": "stream",
     "text": [
      "-----------------------------------\n",
      "Plano A\n",
      "-----------------------------------\n",
      "contagem               = 46\n",
      "média                  = 10.422\n",
      "mínimo                 = 0.700\n",
      "primeiro quartil (Q1)  = 7.475\n",
      "mediana          (Q2)  = 10.350\n",
      "terceiro quartil (Q3)  = 13.200\n",
      "máximo                 = 21.400\n",
      "variância amostral     = 19.941\n",
      "desvio padrão amostral = 4.466\n",
      "\n",
      "-----------------------------------\n",
      "Plano B\n",
      "-----------------------------------\n",
      "contagem               = 36\n",
      "média                  = 5.689\n",
      "mínimo                 = 0.600\n",
      "primeiro quartil (Q1)  = 4.150\n",
      "mediana          (Q2)  = 5.150\n",
      "terceiro quartil (Q3)  = 6.375\n",
      "máximo                 = 19.200\n",
      "variância amostral     = 10.847\n",
      "desvio padrão amostral = 3.293\n",
      "\n"
     ]
    }
   ],
   "source": [
    "for title, var_quanti in (('Plano A', renda_a), ('Plano B', renda_b)):\n",
    "    print('-' * 5 * len(title))\n",
    "    print(title)\n",
    "    print('-' * 5 * len(title))\n",
    "    print(f'contagem               = {len(var_quanti)}')\n",
    "    print(f'média                  = {var_quanti.mean():.3f}')\n",
    "    print(f'mínimo                 = {var_quanti.min():.3f}')\n",
    "    print(f'primeiro quartil (Q1)  = {var_quanti.quantile(q=0.25):.3f}')\n",
    "    print(f'mediana          (Q2)  = {var_quanti.median():.3f}')\n",
    "    print(f'terceiro quartil (Q3)  = {var_quanti.quantile(q=0.75):.3f}')\n",
    "    print(f'máximo                 = {var_quanti.max():.3f}')\n",
    "    print(f'variância amostral     = {var_quanti.var():.3f}')\n",
    "    print(f'desvio padrão amostral = {var_quanti.std():.3f}')\n",
    "    print()"
   ]
  },
  {
   "cell_type": "markdown",
   "metadata": {},
   "source": [
    "Outra maneira para obter as medidas resumo da variável `RENDA` segmentadas por `PLANO` é fazendo uso dos comandos `groupby()` e `describe()`.\n",
    "\n",
    "Vamos lembrar como fazê-lo?"
   ]
  },
  {
   "cell_type": "code",
   "execution_count": 11,
   "metadata": {},
   "outputs": [
    {
     "data": {
      "text/html": [
       "<div>\n",
       "<style scoped>\n",
       "    .dataframe tbody tr th:only-of-type {\n",
       "        vertical-align: middle;\n",
       "    }\n",
       "\n",
       "    .dataframe tbody tr th {\n",
       "        vertical-align: top;\n",
       "    }\n",
       "\n",
       "    .dataframe thead tr th {\n",
       "        text-align: left;\n",
       "    }\n",
       "\n",
       "    .dataframe thead tr:last-of-type th {\n",
       "        text-align: right;\n",
       "    }\n",
       "</style>\n",
       "<table border=\"1\" class=\"dataframe\">\n",
       "  <thead>\n",
       "    <tr>\n",
       "      <th></th>\n",
       "      <th colspan=\"8\" halign=\"left\">CLIENTE</th>\n",
       "      <th colspan=\"8\" halign=\"left\">RENDA</th>\n",
       "    </tr>\n",
       "    <tr>\n",
       "      <th></th>\n",
       "      <th>count</th>\n",
       "      <th>mean</th>\n",
       "      <th>std</th>\n",
       "      <th>min</th>\n",
       "      <th>25%</th>\n",
       "      <th>50%</th>\n",
       "      <th>75%</th>\n",
       "      <th>max</th>\n",
       "      <th>count</th>\n",
       "      <th>mean</th>\n",
       "      <th>std</th>\n",
       "      <th>min</th>\n",
       "      <th>25%</th>\n",
       "      <th>50%</th>\n",
       "      <th>75%</th>\n",
       "      <th>max</th>\n",
       "    </tr>\n",
       "    <tr>\n",
       "      <th>PLANO</th>\n",
       "      <th></th>\n",
       "      <th></th>\n",
       "      <th></th>\n",
       "      <th></th>\n",
       "      <th></th>\n",
       "      <th></th>\n",
       "      <th></th>\n",
       "      <th></th>\n",
       "      <th></th>\n",
       "      <th></th>\n",
       "      <th></th>\n",
       "      <th></th>\n",
       "      <th></th>\n",
       "      <th></th>\n",
       "      <th></th>\n",
       "      <th></th>\n",
       "    </tr>\n",
       "  </thead>\n",
       "  <tbody>\n",
       "    <tr>\n",
       "      <th>A</th>\n",
       "      <td>46.0</td>\n",
       "      <td>23.5</td>\n",
       "      <td>13.422618</td>\n",
       "      <td>1.0</td>\n",
       "      <td>12.25</td>\n",
       "      <td>23.5</td>\n",
       "      <td>34.75</td>\n",
       "      <td>46.0</td>\n",
       "      <td>46.0</td>\n",
       "      <td>10.421739</td>\n",
       "      <td>4.465568</td>\n",
       "      <td>0.7</td>\n",
       "      <td>7.475</td>\n",
       "      <td>10.35</td>\n",
       "      <td>13.200</td>\n",
       "      <td>21.4</td>\n",
       "    </tr>\n",
       "    <tr>\n",
       "      <th>B</th>\n",
       "      <td>36.0</td>\n",
       "      <td>64.5</td>\n",
       "      <td>10.535654</td>\n",
       "      <td>47.0</td>\n",
       "      <td>55.75</td>\n",
       "      <td>64.5</td>\n",
       "      <td>73.25</td>\n",
       "      <td>82.0</td>\n",
       "      <td>36.0</td>\n",
       "      <td>5.688889</td>\n",
       "      <td>3.293437</td>\n",
       "      <td>0.6</td>\n",
       "      <td>4.150</td>\n",
       "      <td>5.15</td>\n",
       "      <td>6.375</td>\n",
       "      <td>19.2</td>\n",
       "    </tr>\n",
       "  </tbody>\n",
       "</table>\n",
       "</div>"
      ],
      "text/plain": [
       "      CLIENTE                                                  RENDA  \\\n",
       "        count  mean        std   min    25%   50%    75%   max count   \n",
       "PLANO                                                                  \n",
       "A        46.0  23.5  13.422618   1.0  12.25  23.5  34.75  46.0  46.0   \n",
       "B        36.0  64.5  10.535654  47.0  55.75  64.5  73.25  82.0  36.0   \n",
       "\n",
       "                                                             \n",
       "            mean       std  min    25%    50%     75%   max  \n",
       "PLANO                                                        \n",
       "A      10.421739  4.465568  0.7  7.475  10.35  13.200  21.4  \n",
       "B       5.688889  3.293437  0.6  4.150   5.15   6.375  19.2  "
      ]
     },
     "execution_count": 11,
     "metadata": {},
     "output_type": "execute_result"
    }
   ],
   "source": [
    "dados.groupby([\"PLANO\"]).describe()"
   ]
  },
  {
   "cell_type": "markdown",
   "metadata": {},
   "source": [
    "<div id=\"ex1\"></div>\n",
    "\n",
    "### EXERCÍCIO 1\n",
    "\n",
    "Observe os todos esses resultados e tire conclusões sobre a renda dos clientes (em mil reais) em cada plano. \n",
    "Destaque sua interpretação também para dentro de cada plano e não só entre planos."
   ]
  },
  {
   "cell_type": "markdown",
   "metadata": {},
   "source": [
    "Pode-se afirmar que o Plano A é voltado para pessoas de alta renda, já o Plano B é voltado para de baixa renda. Além disso, é possível dizer que a diferença entre os salários do Plano A é maior do que o Plano B."
   ]
  },
  {
   "cell_type": "markdown",
   "metadata": {},
   "source": [
    "___\n",
    "<div id=\"histograma\"></div>\n",
    "\n",
    "## Histograma\n",
    "\n",
    "O histograma é um gráfico adequado para representar variáveis quantitativas obrigatoriamente. \n",
    "\n",
    "No eixo x, tem-se a representação da grandeza da variável que está estudada.\n",
    "\n",
    "No eixo y, o *default* considera a frequência absoluta (contagem). Entretanto, há dois importantes motivos que nos animam utilizar a medida densidade alterando o argumento *density* para *True*, ou seja, `density=True`. Veja os motivos:\n",
    "  * Considerar a densidade no eixo y, permite considerar faixas com amplitudes diferentes sem distorção de interpretação.\n",
    "  * Considerar a densidade no eixo y, garante que a área do histograma seja igual a $1$ permitindo colocar curvas probabilísticas cuja área total também é $1$.\n",
    "\n",
    "Para construí-lo considerando a biblioteca `matplotlib`, consulte [aqui](https://matplotlib.org/3.3.1/api/_as_gen/matplotlib.pyplot.hist.html)."
   ]
  },
  {
   "cell_type": "markdown",
   "metadata": {},
   "source": [
    "<div id=\"ex2\"></div>\n",
    "\n",
    "### EXERCÍCIO 2\n",
    "\n",
    "A seguir, veja algumas possibilidades de histograma com a variável `RENDA` considerando todos os clientes.\n",
    "\n",
    "Analise os quatro histogramas abaixo. Um deles está seguramente errado. Identifique-o e descreva o motivo."
   ]
  },
  {
   "cell_type": "code",
   "execution_count": 12,
   "metadata": {},
   "outputs": [
    {
     "data": {
      "image/png": "[encoded data removed]",
      "text/plain": [
       "<Figure size 720x720 with 4 Axes>"
      ]
     },
     "metadata": {
      "needs_background": "light"
     },
     "output_type": "display_data"
    }
   ],
   "source": [
    "plt.figure(figsize=(10, 10))\n",
    "\n",
    "plt.subplot(221)\n",
    "plt.hist(dados.RENDA, edgecolor='white')\n",
    "plt.title('Contagem (eixo y ) e Amplitudes iguais')\n",
    "plt.ylabel('frequência')\n",
    "\n",
    "plt.subplot(222)\n",
    "plt.hist(dados.RENDA, edgecolor='white', density=True)\n",
    "plt.title('Densidade (eixo y ) e Amplitudes iguais')\n",
    "plt.ylabel('densidade')\n",
    "\n",
    "plt.subplot(223)\n",
    "plt.hist(dados.RENDA, bins=(0.5,3.5,7,10.5,22), edgecolor='white')\n",
    "plt.title('Contagem (eixo y ) e Amplitudes desiguais')\n",
    "plt.ylabel('frequência')\n",
    "\n",
    "plt.subplot(224)\n",
    "plt.hist(dados.RENDA, bins=(0.5,3.5,7,10.5,22), edgecolor='white', density=True)\n",
    "plt.title('Densidade (eixo y ) e Amplitudes desiguais')\n",
    "plt.ylabel('densidade')\n",
    "\n",
    "plt.show()"
   ]
  },
  {
   "cell_type": "code",
   "execution_count": null,
   "metadata": {},
   "outputs": [],
   "source": [
    "# Coloque sua interpretação aqui"
   ]
  },
  {
   "cell_type": "markdown",
   "metadata": {},
   "source": [
    "<div id=\"ex3\"></div>\n",
    "\n",
    "### EXERCÍCIO 3\n",
    "\n",
    "Faça histograma para renda satisfazendo todas as restrições abaixo:\n",
    "  * segmentar por plano\n",
    "  * usar densidade no eixo y\n",
    "  * faixas com amplitudes iguais de $3.5$ \n",
    "  * iniciar faixa em $0.5$\n",
    "  * use o comando `arange` da biblioteca `numpy` para construir essas faixas. Busque a sintaxe desse comando no seu navegador\n",
    "  * use plt.subplot() com 1 linha e 2 colunas"
   ]
  },
  {
   "cell_type": "code",
   "execution_count": 19,
   "metadata": {},
   "outputs": [],
   "source": [
    "from numpy import arange"
   ]
  },
  {
   "cell_type": "code",
   "execution_count": 26,
   "metadata": {},
   "outputs": [
    {
     "data": {
      "image/png": "[encoded data removed]",
      "text/plain": [
       "<Figure size 864x360 with 2 Axes>"
      ]
     },
     "metadata": {
      "needs_background": "light"
     },
     "output_type": "display_data"
    }
   ],
   "source": [
    "plt.figure(figsize=(12, 5))\n",
    "plt.subplot(121)\n",
    "plt.hist(renda_a, edgecolor='white', density=True, bins=np.arange(0.5, 22, 3.5))\n",
    "plt.title('Densidade para Renda no Plano A')\n",
    "plt.ylabel('densidade')\n",
    "\n",
    "plt.subplot(122)\n",
    "plt.hist(renda_b, edgecolor='white', density=True, bins=np.arange(0.5, 22, 3.5))\n",
    "plt.title('Densidade para Renda no Plano B')\n",
    "plt.ylabel('densidade')\n",
    "\n",
    "plt.show()"
   ]
  },
  {
   "cell_type": "code",
   "execution_count": null,
   "metadata": {},
   "outputs": [],
   "source": []
  }
 ],
 "metadata": {
  "anaconda-cloud": {},
  "kernelspec": {
   "display_name": "Python 3",
   "language": "python",
   "name": "python3"
  },
  "language_info": {
   "codemirror_mode": {
    "name": "ipython",
    "version": 3
   },
   "file_extension": ".py",
   "mimetype": "text/x-python",
   "name": "python",
   "nbconvert_exporter": "python",
   "pygments_lexer": "ipython3",
   "version": "3.7.7"
  }
 },
 "nbformat": 4,
 "nbformat_minor": 4
}
