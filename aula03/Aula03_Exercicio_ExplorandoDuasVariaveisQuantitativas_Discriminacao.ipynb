{
 "cells": [
  {
   "cell_type": "markdown",
   "metadata": {},
   "source": [
    "___\n",
    "# Exercício: Duas variáveis quantitativas com Discriminação Salarial\n",
    "___\n",
    "\n",
    "## Aula 03\n",
    "\n",
    "<div id=\"indice\"></div>\n",
    "\n",
    "## Índice\n",
    "\n",
    "- [Discriminação Salarial](#discriminacao-salarial)\n",
    "    - [Exercício 1](#ex1)\n",
    "    - [Exercício 2](#ex2)\n",
    "    - [Exercício 3](#ex3)\n",
    "    - [Exercício 4](#ex4)\n",
    "    - [Exercício 5](#ex5)\n",
    "    - [Exercício 6](#ex6)\n",
    "    - [Exercício 7](#ex7)\n",
    "    - [Exercício 8](#ex8)\n",
    "    - [Exercício 9 [EXTRA]](#ex9)\n",
    "    - [Exercício 10 [EXTRA]](#ex10)\n",
    "    - [Exercício 11 [EXTRA]](#ex11)"
   ]
  },
  {
   "cell_type": "markdown",
   "metadata": {},
   "source": [
    "<div id=\"discriminacao-salarial\"></div>\n",
    "\n",
    "## <font color='blue'>Discriminação Salarial</font>\n",
    "\n",
    "Uma empresa está sendo **acusada de pagar um salário maior para os homens do que para as mulheres**. \n",
    "Para justificar a acusação, apresentou-se uma lista de salários de uma amostra de funcionários. \n",
    "**Essa empresa tem motivos para se preocupar?**\n",
    "\n",
    "A base de dados `Discriminação.xlsx` apresenta, para cada funcionário, as variáveis:\n",
    "\n",
    "1. Sexo (`'fem'` ou `'masc'`);\n",
    "2. Anos (anos no emprego); e \n",
    "3. Salario (salário mensal, em milhares de reais). \n",
    "___"
   ]
  },
  {
   "cell_type": "code",
   "execution_count": 1,
   "metadata": {},
   "outputs": [
    {
     "name": "stdout",
     "output_type": "stream",
     "text": [
      "Esperamos trabalhar no diretório\n",
      "C:\\Users\\Fernando\\Documents\\Insper\\2 semestre\\Ciência dos Dados\\CD20-2\\aula03\n"
     ]
    }
   ],
   "source": [
    "%matplotlib inline\n",
    "import pandas as pd\n",
    "import matplotlib.pyplot as plt\n",
    "import numpy as np\n",
    "import os\n",
    "\n",
    "print('Esperamos trabalhar no diretório')\n",
    "print(os.getcwd())"
   ]
  },
  {
   "cell_type": "code",
   "execution_count": 2,
   "metadata": {},
   "outputs": [],
   "source": [
    "dados = pd.read_excel('Discriminacao.xlsx')"
   ]
  },
  {
   "cell_type": "code",
   "execution_count": 3,
   "metadata": {},
   "outputs": [
    {
     "data": {
      "text/html": [
       "<div>\n",
       "<style scoped>\n",
       "    .dataframe tbody tr th:only-of-type {\n",
       "        vertical-align: middle;\n",
       "    }\n",
       "\n",
       "    .dataframe tbody tr th {\n",
       "        vertical-align: top;\n",
       "    }\n",
       "\n",
       "    .dataframe thead th {\n",
       "        text-align: right;\n",
       "    }\n",
       "</style>\n",
       "<table border=\"1\" class=\"dataframe\">\n",
       "  <thead>\n",
       "    <tr style=\"text-align: right;\">\n",
       "      <th></th>\n",
       "      <th>Sexo</th>\n",
       "      <th>Anos</th>\n",
       "      <th>Salario</th>\n",
       "    </tr>\n",
       "  </thead>\n",
       "  <tbody>\n",
       "    <tr>\n",
       "      <th>0</th>\n",
       "      <td>fem</td>\n",
       "      <td>9</td>\n",
       "      <td>39</td>\n",
       "    </tr>\n",
       "    <tr>\n",
       "      <th>1</th>\n",
       "      <td>fem</td>\n",
       "      <td>6</td>\n",
       "      <td>36</td>\n",
       "    </tr>\n",
       "    <tr>\n",
       "      <th>2</th>\n",
       "      <td>fem</td>\n",
       "      <td>10</td>\n",
       "      <td>40</td>\n",
       "    </tr>\n",
       "    <tr>\n",
       "      <th>3</th>\n",
       "      <td>fem</td>\n",
       "      <td>0</td>\n",
       "      <td>24</td>\n",
       "    </tr>\n",
       "    <tr>\n",
       "      <th>4</th>\n",
       "      <td>fem</td>\n",
       "      <td>9</td>\n",
       "      <td>36</td>\n",
       "    </tr>\n",
       "  </tbody>\n",
       "</table>\n",
       "</div>"
      ],
      "text/plain": [
       "  Sexo  Anos  Salario\n",
       "0  fem     9       39\n",
       "1  fem     6       36\n",
       "2  fem    10       40\n",
       "3  fem     0       24\n",
       "4  fem     9       36"
      ]
     },
     "execution_count": 3,
     "metadata": {},
     "output_type": "execute_result"
    }
   ],
   "source": [
    "dados.head()"
   ]
  },
  {
   "cell_type": "markdown",
   "metadata": {},
   "source": [
    "___\n",
    "\n",
    "<div id=\"ex1\"></div>\n",
    "\n",
    "### EXERCÍCIO 1:\n",
    "\n",
    "Vamos começar com uma análise descritiva utilizando as ferramentas estatísticas e computacionais que vimos até o momento. Faça essa análise com olhar na preocupação da empresa. Imprima as medidas resumo de posição (média, quartis, máximo, mínimo) e de dispersão (desvio padrão) para o `Salario` dos seguintes grupos:\n",
    "\n",
    "1. Conjunto de dados inteiro\n",
    "2. Somente mulheres\n",
    "3. Somente homens\n",
    "\n",
    "**Preencha os valores das 3 médias na questão 1 da APS 2, no Blackboard**."
   ]
  },
  {
   "cell_type": "code",
   "execution_count": 4,
   "metadata": {},
   "outputs": [
    {
     "name": "stdout",
     "output_type": "stream",
     "text": [
      "count    67.000000\n",
      "mean     38.343284\n",
      "std      10.221119\n",
      "min      22.000000\n",
      "25%      31.000000\n",
      "50%      37.000000\n",
      "75%      42.000000\n",
      "max      69.000000\n",
      "Name: Salario, dtype: float64\n",
      "\n",
      "\n",
      "         Salario\n",
      "count  32.000000\n",
      "mean   35.468750\n",
      "std     7.422652\n",
      "min    22.000000\n",
      "25%    29.750000\n",
      "50%    35.000000\n",
      "75%    40.000000\n",
      "max    52.000000\n",
      "\n",
      "\n",
      "         Salario\n",
      "count  35.000000\n",
      "mean   40.971429\n",
      "std    11.733526\n",
      "min    24.000000\n",
      "25%    33.000000\n",
      "50%    39.000000\n",
      "75%    47.000000\n",
      "max    69.000000\n"
     ]
    }
   ],
   "source": [
    "print(dados[\"Salario\"].describe())\n",
    "print(\"\\n\")\n",
    "print(dados.loc[dados[\"Sexo\"] == \"fem\", [\"Salario\"]].describe())\n",
    "print(\"\\n\")\n",
    "print(dados.loc[dados[\"Sexo\"] == \"masc\", [\"Salario\"]].describe())\n"
   ]
  },
  {
   "cell_type": "markdown",
   "metadata": {},
   "source": [
    "<div id=\"ex2\"></div>\n",
    "\n",
    "### EXERCÍCIO 2:\n",
    "\n",
    "Baseando-se nos resultados acima, que hipóteses você pode formular quanto a suspeita de que a empresa está pagando salários mais baixos às mulheres?"
   ]
  },
  {
   "cell_type": "markdown",
   "metadata": {},
   "source": [
    "A empresa está pagando salários mais altos para homens do que para mulher, no entanto o desvio padrão para homens é maior do que para mulheres."
   ]
  },
  {
   "cell_type": "markdown",
   "metadata": {},
   "source": [
    "<div id=\"ex3\"></div>\n",
    "\n",
    "### EXERCÍCIO 3:\n",
    "\n",
    "Calcule os coeficientes de covariância entre as variáveis `Anos` e `Salario` para as mulheres e para os homens, separadamente. **Preencha os dois valores na questão 2 da APS 2, no Blackboard**."
   ]
  },
  {
   "cell_type": "code",
   "execution_count": 5,
   "metadata": {},
   "outputs": [
    {
     "name": "stdout",
     "output_type": "stream",
     "text": [
      "              Anos    Salario\n",
      "Anos     23.608871  28.933468\n",
      "Salario  28.933468  55.095766\n",
      "\n",
      "\n",
      "              Anos     Salario\n",
      "Anos     60.431933   61.478151\n",
      "Salario  61.478151  137.675630\n"
     ]
    }
   ],
   "source": [
    "print(dados.loc[dados[\"Sexo\"] == \"fem\", :].cov())\n",
    "print(\"\\n\")\n",
    "print(dados.loc[dados[\"Sexo\"] == \"masc\", :].cov())"
   ]
  },
  {
   "cell_type": "markdown",
   "metadata": {},
   "source": [
    "<div id=\"ex4\"></div>\n",
    "\n",
    "### EXERCÍCIO 4:\n",
    "\n",
    "Baseando-se nos **coeficientes de covariância** acima, você pode concluir que (indique todas as opções corretas):\n",
    "\n",
    "<ol style=\"list-style-type: upper-alpha;\">\n",
    "    <li>Existe uma associação linear <b>negativa</b> entre os <code>Anos</code> na empresa e o <code>Salario</code> das mulheres</li>\n",
    "    <li>Existe uma associação linear <b>negativa</b> entre os <code>Anos</code> na empresa e o <code>Salario</code> dos homens</li>\n",
    "    <li>Existe uma associação linear <b>positiva</b> entre os <code>Anos</code> na empresa e o <code>Salario</code> das mulheres</li>\n",
    "    <li>Existe uma associação linear <b>positiva</b> entre os <code>Anos</code> na empresa e o <code>Salario</code> dos homens</li>\n",
    "    <li>Existe uma associação linear <b>fraca</b> entre os <code>Anos</code> na empresa e o <code>Salario</code> das mulheres</li>\n",
    "    <li>Existe uma associação linear <b>fraca</b> entre os <code>Anos</code> na empresa e o <code>Salario</code> dos homens</li>\n",
    "    <li>Existe uma associação linear <b>moderada/forte</b> entre os <code>Anos</code> na empresa e o <code>Salario</code> das mulheres</li>\n",
    "    <li>Existe uma associação linear <b>moderada/forte</b> entre os <code>Anos</code> na empresa e o <code>Salario</code> dos homens</li>\n",
    "</ol>\n",
    "\n",
    "**Indique sua resposta na questão 3 da APS 2, no Blackboard.**"
   ]
  },
  {
   "cell_type": "markdown",
   "metadata": {},
   "source": [
    "C D"
   ]
  },
  {
   "cell_type": "markdown",
   "metadata": {},
   "source": [
    "<div id=\"ex5\"></div>\n",
    "\n",
    "### EXERCÍCIO 5:\n",
    "\n",
    "Calcule os coeficientes de correlação linear entre as variáveis `Anos` e `Salario` para as mulheres e para os homens, separadamente. **Preencha os dois valores na questão 4 da APS 2, no Blackboard**."
   ]
  },
  {
   "cell_type": "code",
   "execution_count": 6,
   "metadata": {},
   "outputs": [
    {
     "name": "stdout",
     "output_type": "stream",
     "text": [
      "             Anos   Salario\n",
      "Anos     1.000000  0.802239\n",
      "Salario  0.802239  1.000000\n",
      "\n",
      "\n",
      "             Anos   Salario\n",
      "Anos     1.000000  0.673999\n",
      "Salario  0.673999  1.000000\n"
     ]
    }
   ],
   "source": [
    "print(dados.loc[dados[\"Sexo\"] == \"fem\", :].corr())\n",
    "print(\"\\n\")\n",
    "print(dados.loc[dados[\"Sexo\"] == \"masc\", :].corr())"
   ]
  },
  {
   "cell_type": "markdown",
   "metadata": {},
   "source": [
    "<div id=\"ex6\"></div>\n",
    "\n",
    "### EXERCÍCIO 6:\n",
    "\n",
    "Baseando-se nos **coeficientes de correlação linear** acima, você pode concluir que (indique todas as opções corretas):\n",
    "\n",
    "<ol style=\"list-style-type: upper-alpha;\">\n",
    "    <li>Existe uma associação linear <b>negativa</b> entre os <code>Anos</code> na empresa e o <code>Salario</code> das mulheres</li>\n",
    "    <li>Existe uma associação linear <b>negativa</b> entre os <code>Anos</code> na empresa e o <code>Salario</code> dos homens</li>\n",
    "    <li>Existe uma associação linear <b>positiva</b> entre os <code>Anos</code> na empresa e o <code>Salario</code> das mulheres</li>\n",
    "    <li>Existe uma associação linear <b>positiva</b> entre os <code>Anos</code> na empresa e o <code>Salario</code> dos homens</li>\n",
    "    <li>Existe uma associação linear <b>fraca</b> entre os <code>Anos</code> na empresa e o <code>Salario</code> das mulheres</li>\n",
    "    <li>Existe uma associação linear <b>fraca</b> entre os <code>Anos</code> na empresa e o <code>Salario</code> dos homens</li>\n",
    "    <li>Existe uma associação linear <b>moderada/forte</b> entre os <code>Anos</code> na empresa e o <code>Salario</code> das mulheres</li>\n",
    "    <li>Existe uma associação linear <b>moderada/forte</b> entre os <code>Anos</code> na empresa e o <code>Salario</code> dos homens</li>\n",
    "</ol>\n",
    "\n",
    "**Indique sua resposta na questão 5 da APS 2, no Blackboard.**"
   ]
  },
  {
   "cell_type": "markdown",
   "metadata": {},
   "source": [
    "C D G H"
   ]
  },
  {
   "cell_type": "markdown",
   "metadata": {},
   "source": [
    "<div id=\"ex7\"></div>\n",
    "\n",
    "### EXERCÍCIO 7:\n",
    "\n",
    "Gere os gráficos de dispersão de anos na empresa versus salário mensal para as mulheres e para os homens. Utilize cores diferentes para cada grupo e gere o gráfico em uma figura única."
   ]
  },
  {
   "cell_type": "code",
   "execution_count": 7,
   "metadata": {},
   "outputs": [
    {
     "data": {
      "image/png": "[encoded data removed]",
      "text/plain": [
       "<Figure size 432x288 with 1 Axes>"
      ]
     },
     "metadata": {
      "needs_background": "light"
     },
     "output_type": "display_data"
    }
   ],
   "source": [
    "sc_fem = dados.loc[dados[\"Sexo\"] == \"fem\", [\"Salario\", \"Anos\"]]\n",
    "sc_masc = dados.loc[dados[\"Sexo\"] == \"masc\", [\"Salario\", \"Anos\"]]\n",
    "plt.scatter(sc_fem[\"Anos\"], sc_fem[\"Salario\"], c=\"blue\", label=\"Mulheres\", alpha=0.5)\n",
    "plt.scatter(sc_masc[\"Anos\"], sc_masc[\"Salario\"], c= \"red\", label=\"Homens\", alpha=0.5)\n",
    "plt.legend()\n",
    "plt.title('Gráficos de dispersão de anos na empresa versus salário mensal para as mulheres e para os homens')\n",
    "plt.xlabel('Salários (Milhares de R$)')\n",
    "plt.ylabel('Anos na empresa')\n",
    "plt.show()"
   ]
  },
  {
   "cell_type": "markdown",
   "metadata": {},
   "source": [
    "<div id=\"ex8\"></div>\n",
    "\n",
    "### EXERCÍCIO 8:\n",
    "\n",
    "Como as informações do gráfico acima se relacionam às suas hipóteses no [exercício 2](#ex2)? Você mudaria a sua opinião quanto à suspeita de discriminação salarial? Explique."
   ]
  },
  {
   "cell_type": "markdown",
   "metadata": {},
   "source": [
    "Com base nas informações do gráfico, pode-se dizer que não há uma significativa divergência no salário entre homens e mulheres. Por isso, creio que a empresa não é suspeita de discriminação salarial"
   ]
  },
  {
   "cell_type": "markdown",
   "metadata": {},
   "source": [
    "<div id=\"ex9\"></div>\n",
    "\n",
    "### EXERCÍCIO 9 [EXTRA]:\n",
    "\n",
    "Vamos analisar os dados divididos por faixas de anos na empresa. Crie uma nova coluna `'Faixa'` em `dados` contendo as faixas de anos na empresa. Divida a variável `Anos` em tantas faixas necessárias necessárias para iniciar em 0 (inclusive) e terminar em 30 (exclusive) com amplitude das faixas de 3 anos. *Dica: use a função `pd.cut` e altere alguns argumentos dessa função*.\n"
   ]
  },
  {
   "cell_type": "code",
   "execution_count": 9,
   "metadata": {},
   "outputs": [
    {
     "data": {
      "text/html": [
       "<div>\n",
       "<style scoped>\n",
       "    .dataframe tbody tr th:only-of-type {\n",
       "        vertical-align: middle;\n",
       "    }\n",
       "\n",
       "    .dataframe tbody tr th {\n",
       "        vertical-align: top;\n",
       "    }\n",
       "\n",
       "    .dataframe thead th {\n",
       "        text-align: right;\n",
       "    }\n",
       "</style>\n",
       "<table border=\"1\" class=\"dataframe\">\n",
       "  <thead>\n",
       "    <tr style=\"text-align: right;\">\n",
       "      <th></th>\n",
       "      <th>Sexo</th>\n",
       "      <th>Anos</th>\n",
       "      <th>Salario</th>\n",
       "      <th>Faixa</th>\n",
       "    </tr>\n",
       "  </thead>\n",
       "  <tbody>\n",
       "    <tr>\n",
       "      <th>0</th>\n",
       "      <td>fem</td>\n",
       "      <td>9</td>\n",
       "      <td>39</td>\n",
       "      <td>(6.0, 9.0]</td>\n",
       "    </tr>\n",
       "    <tr>\n",
       "      <th>1</th>\n",
       "      <td>fem</td>\n",
       "      <td>6</td>\n",
       "      <td>36</td>\n",
       "      <td>(3.0, 6.0]</td>\n",
       "    </tr>\n",
       "    <tr>\n",
       "      <th>2</th>\n",
       "      <td>fem</td>\n",
       "      <td>10</td>\n",
       "      <td>40</td>\n",
       "      <td>(9.0, 12.0]</td>\n",
       "    </tr>\n",
       "    <tr>\n",
       "      <th>3</th>\n",
       "      <td>fem</td>\n",
       "      <td>0</td>\n",
       "      <td>24</td>\n",
       "      <td>(-0.001, 3.0]</td>\n",
       "    </tr>\n",
       "    <tr>\n",
       "      <th>4</th>\n",
       "      <td>fem</td>\n",
       "      <td>9</td>\n",
       "      <td>36</td>\n",
       "      <td>(6.0, 9.0]</td>\n",
       "    </tr>\n",
       "  </tbody>\n",
       "</table>\n",
       "</div>"
      ],
      "text/plain": [
       "  Sexo  Anos  Salario          Faixa\n",
       "0  fem     9       39     (6.0, 9.0]\n",
       "1  fem     6       36     (3.0, 6.0]\n",
       "2  fem    10       40    (9.0, 12.0]\n",
       "3  fem     0       24  (-0.001, 3.0]\n",
       "4  fem     9       36     (6.0, 9.0]"
      ]
     },
     "execution_count": 9,
     "metadata": {},
     "output_type": "execute_result"
    }
   ],
   "source": [
    "dados[\"Faixa\"] = pd.cut(dados[\"Anos\"], list(range(0, 30, 3)), include_lowest=True)\n",
    "dados.head()"
   ]
  },
  {
   "cell_type": "markdown",
   "metadata": {},
   "source": [
    "<div id=\"ex10\"></div>\n",
    "\n",
    "### EXERCÍCIO 10 &#x2605;&#x2605;&#x2605; [EXTRA]:\n",
    "\n",
    "Imprima as mesmas estatísticas do [exercício 1](#ex1) (salários de todas as pessoas da base de dados, salários das mulheres e salários dos homens), mas agora agrupando por `Faixa`. *Dica: use a função `.groupby` de um `DataFrame`.*"
   ]
  },
  {
   "cell_type": "code",
   "execution_count": 16,
   "metadata": {},
   "outputs": [
    {
     "name": "stdout",
     "output_type": "stream",
     "text": [
      "               Anos                                                       \\\n",
      "              count       mean       std   min    25%   50%    75%   max   \n",
      "Faixa                                                                      \n",
      "(-0.001, 3.0]  16.0   1.125000  1.310216   0.0   0.00   0.5   2.25   3.0   \n",
      "(3.0, 6.0]     13.0   5.461538  0.776250   4.0   5.00   6.0   6.00   6.0   \n",
      "(6.0, 9.0]     10.0   8.400000  0.843274   7.0   8.00   9.0   9.00   9.0   \n",
      "(9.0, 12.0]     9.0  11.111111  0.927961  10.0  10.00  11.0  12.00  12.0   \n",
      "(12.0, 15.0]    8.0  14.250000  0.886405  13.0  13.75  14.5  15.00  15.0   \n",
      "(15.0, 18.0]    3.0  17.666667  0.577350  17.0  17.50  18.0  18.00  18.0   \n",
      "(18.0, 21.0]    4.0  20.000000  0.816497  19.0  19.75  20.0  20.25  21.0   \n",
      "(21.0, 24.0]    2.0  22.000000  0.000000  22.0  22.00  22.0  22.00  22.0   \n",
      "(24.0, 27.0]    2.0  26.000000  1.414214  25.0  25.50  26.0  26.50  27.0   \n",
      "\n",
      "              Salario                                                        \n",
      "                count       mean        std   min    25%   50%    75%   max  \n",
      "Faixa                                                                        \n",
      "(-0.001, 3.0]    16.0  30.125000   5.487865  22.0  26.75  29.5  33.50  42.0  \n",
      "(3.0, 6.0]       13.0  34.846154   6.841615  25.0  30.00  36.0  37.00  49.0  \n",
      "(6.0, 9.0]       10.0  35.600000   3.747592  29.0  35.00  35.0  38.25  41.0  \n",
      "(9.0, 12.0]       9.0  41.000000   9.823441  29.0  33.00  40.0  46.00  56.0  \n",
      "(12.0, 15.0]      8.0  44.375000   6.390562  33.0  40.00  45.5  48.75  52.0  \n",
      "(15.0, 18.0]      3.0  44.333333   6.806859  39.0  40.50  42.0  47.00  52.0  \n",
      "(18.0, 21.0]      4.0  44.500000   7.852813  38.0  38.75  42.5  48.25  55.0  \n",
      "(21.0, 24.0]      2.0  55.500000  19.091883  42.0  48.75  55.5  62.25  69.0  \n",
      "(24.0, 27.0]      2.0  66.000000   2.828427  64.0  65.00  66.0  67.00  68.0  \n",
      "\n",
      "\n",
      "               Anos                                                       \\\n",
      "              count       mean       std   min    25%   50%    75%   max   \n",
      "Faixa                                                                      \n",
      "(-0.001, 3.0]   9.0   1.111111  1.269296   0.0   0.00   1.0   2.00   3.0   \n",
      "(3.0, 6.0]      7.0   5.428571  0.786796   4.0   5.00   6.0   6.00   6.0   \n",
      "(6.0, 9.0]      7.0   8.142857  0.899735   7.0   7.50   8.0   9.00   9.0   \n",
      "(9.0, 12.0]     4.0  10.750000  0.957427  10.0  10.00  10.5  11.25  12.0   \n",
      "(12.0, 15.0]    4.0  14.250000  0.957427  13.0  13.75  14.5  15.00  15.0   \n",
      "(15.0, 18.0]    1.0  17.000000       NaN  17.0  17.00  17.0  17.00  17.0   \n",
      "(18.0, 21.0]    0.0        NaN       NaN   NaN    NaN   NaN    NaN   NaN   \n",
      "(21.0, 24.0]    0.0        NaN       NaN   NaN    NaN   NaN    NaN   NaN   \n",
      "(24.0, 27.0]    0.0        NaN       NaN   NaN    NaN   NaN    NaN   NaN   \n",
      "\n",
      "              Salario                                                       \n",
      "                count       mean       std   min    25%   50%    75%   max  \n",
      "Faixa                                                                       \n",
      "(-0.001, 3.0]     9.0  27.777778  3.597839  22.0  26.00  27.0  30.00  33.0  \n",
      "(3.0, 6.0]        7.0  35.714286  5.023753  27.0  34.50  36.0  37.00  44.0  \n",
      "(6.0, 9.0]        7.0  34.285714  3.302236  29.0  33.00  35.0  35.50  39.0  \n",
      "(9.0, 12.0]       4.0  41.250000  3.774917  37.0  39.25  41.0  43.00  46.0  \n",
      "(12.0, 15.0]      4.0  47.000000  5.597619  40.0  43.75  48.0  51.25  52.0  \n",
      "(15.0, 18.0]      1.0  42.000000       NaN  42.0  42.00  42.0  42.00  42.0  \n",
      "(18.0, 21.0]      0.0        NaN       NaN   NaN    NaN   NaN    NaN   NaN  \n",
      "(21.0, 24.0]      0.0        NaN       NaN   NaN    NaN   NaN    NaN   NaN  \n",
      "(24.0, 27.0]      0.0        NaN       NaN   NaN    NaN   NaN    NaN   NaN  \n",
      "\n",
      "\n",
      "               Anos                                                       \\\n",
      "              count       mean       std   min    25%   50%    75%   max   \n",
      "Faixa                                                                      \n",
      "(-0.001, 3.0]   7.0   1.142857  1.463850   0.0   0.00   0.0   2.50   3.0   \n",
      "(3.0, 6.0]      6.0   5.500000  0.836660   4.0   5.25   6.0   6.00   6.0   \n",
      "(6.0, 9.0]      3.0   9.000000  0.000000   9.0   9.00   9.0   9.00   9.0   \n",
      "(9.0, 12.0]     5.0  11.400000  0.894427  10.0  11.00  12.0  12.00  12.0   \n",
      "(12.0, 15.0]    4.0  14.250000  0.957427  13.0  13.75  14.5  15.00  15.0   \n",
      "(15.0, 18.0]    2.0  18.000000  0.000000  18.0  18.00  18.0  18.00  18.0   \n",
      "(18.0, 21.0]    4.0  20.000000  0.816497  19.0  19.75  20.0  20.25  21.0   \n",
      "(21.0, 24.0]    2.0  22.000000  0.000000  22.0  22.00  22.0  22.00  22.0   \n",
      "(24.0, 27.0]    2.0  26.000000  1.414214  25.0  25.50  26.0  26.50  27.0   \n",
      "\n",
      "              Salario                                                        \n",
      "                count       mean        std   min    25%   50%    75%   max  \n",
      "Faixa                                                                        \n",
      "(-0.001, 3.0]     7.0  33.142857   6.256425  24.0  29.00  35.0  36.50  42.0  \n",
      "(3.0, 6.0]        6.0  33.833333   8.931219  25.0  27.00  33.0  36.75  49.0  \n",
      "(6.0, 9.0]        3.0  38.666667   3.214550  35.0  37.50  40.0  40.50  41.0  \n",
      "(9.0, 12.0]       5.0  40.800000  13.498148  29.0  31.00  33.0  55.00  56.0  \n",
      "(12.0, 15.0]      4.0  41.750000   6.751543  33.0  38.25  43.0  46.50  48.0  \n",
      "(15.0, 18.0]      2.0  45.500000   9.192388  39.0  42.25  45.5  48.75  52.0  \n",
      "(18.0, 21.0]      4.0  44.500000   7.852813  38.0  38.75  42.5  48.25  55.0  \n",
      "(21.0, 24.0]      2.0  55.500000  19.091883  42.0  48.75  55.5  62.25  69.0  \n",
      "(24.0, 27.0]      2.0  66.000000   2.828427  64.0  65.00  66.0  67.00  68.0  \n"
     ]
    }
   ],
   "source": [
    "# Escreva seu código aqui\n",
    "print(dados.groupby([\"Faixa\"]).describe())\n",
    "print(\"\\n\")\n",
    "print(dados.loc[dados[\"Sexo\"] == \"fem\", :].groupby([\"Faixa\"]).describe())\n",
    "print(\"\\n\")\n",
    "print(dados.loc[dados[\"Sexo\"] == \"masc\", :].groupby([\"Faixa\"]).describe())\n"
   ]
  },
  {
   "cell_type": "markdown",
   "metadata": {},
   "source": [
    "<div id=\"ex11\"></div>\n",
    "\n",
    "### EXERCÍCIO 11 [EXTRA]:\n",
    "\n",
    "O resultado acima dá indícios para confirmar ou rejeitar a sua hipótese do [exercício 8](#ex8)?"
   ]
  },
  {
   "cell_type": "markdown",
   "metadata": {},
   "source": [
    "ESCREVA AQUI SUA RESPOSTA"
   ]
  }
 ],
 "metadata": {
  "anaconda-cloud": {},
  "kernelspec": {
   "display_name": "Python 3",
   "language": "python",
   "name": "python3"
  },
  "language_info": {
   "codemirror_mode": {
    "name": "ipython",
    "version": 3
   },
   "file_extension": ".py",
   "mimetype": "text/x-python",
   "name": "python",
   "nbconvert_exporter": "python",
   "pygments_lexer": "ipython3",
   "version": "3.7.7"
  }
 },
 "nbformat": 4,
 "nbformat_minor": 4
}
