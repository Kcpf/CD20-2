{
 "cells": [
  {
   "cell_type": "markdown",
   "metadata": {},
   "source": [
    "___\n",
    "# Atividade: Uso da Distribuição Amostral da Média via resultado do TLC\n",
    "___\n",
    "\n",
    "## Aula 18 - Atividade"
   ]
  },
  {
   "cell_type": "markdown",
   "metadata": {},
   "source": [
    "<div id=\"indice\"></div>\n",
    "\n",
    "## Índice\n",
    "\n",
    "- [Teoria](#teoria)\n",
    "- [Simulação](#simulacao)\n",
    "    - [Exercício 1](#ex1)\n",
    "    - [Visualizando os dados gerados](#visualizando)\n",
    "    - [Exercício 2](#ex2)\n",
    "    - [Exercício 3](#ex3)\n",
    "    - [Exercício 4](#ex4)\n",
    "    - [Exercício 5](#ex5)\n",
    "- [Tomando decisões com o TLC](#tomando-decisoes)\n",
    "    - [Exercício 6](#ex6)\n",
    "    - [Exercício 7](#ex7)\n",
    "    - [Exercício 8](#ex8)\n",
    "___"
   ]
  },
  {
   "cell_type": "code",
   "execution_count": 1,
   "metadata": {},
   "outputs": [],
   "source": [
    "%matplotlib inline\n",
    "\n",
    "import matplotlib.pyplot as plt\n",
    "import pandas as pd\n",
    "import numpy as np\n",
    "from scipy import stats"
   ]
  },
  {
   "cell_type": "markdown",
   "metadata": {},
   "source": [
    "<div id=\"teoria\"></div>\n",
    "\n",
    "# Teoria\n",
    "\n",
    "## Estatísticas e distribuições amostrais\n",
    "\n",
    "Uma **estatística** é qualquer função baseada nas observações de uma amostra aleatória. Usamos estatísticas quando, para fins práticos, não é possível ter acesso a toda uma população.\n",
    "\n",
    "A distribuição de probabilidades de uma estatística é chamada de *distribuição amostral*.\n",
    "\n",
    "\n",
    "## Média Amostral $\\overline{X}$\n",
    "\n",
    "Assuma que $X$ seja uma variável aleatória com média $\\mu$ e variância $\\sigma^2$, ou seja, $E(X)=\\mu$ e $Var(X)=\\sigma^2$.\n",
    "\n",
    "Sejam $X_1, X_2, \\ldots, X_n$ amostras aleatórias de $X$ de tamanho $n$, então:\n",
    "\n",
    "$$\\overline{X} = \\frac{X_1 + X_2 + X_3 + \\cdots + X_n}{n}$$\n",
    "\n",
    "É chamada *Média Amostral*!\n",
    "\n",
    "Pode-se caracterizar a média amostral com os seguintes valores:\n",
    "\n",
    "* Média de $\\overline{X}$:\n",
    "\n",
    "$$\\mu_{\\overline{X}} = E(\\overline{X})=\\frac{\\mu + \\mu + \\cdots + \\mu}{n} = \\mu$$\n",
    "\n",
    "* Variância de $\\overline{X}$:\n",
    "\n",
    "\n",
    "$$\\sigma^2_{\\overline{X}} = Var(\\overline{X})=\\frac{\\sigma^2 + \\sigma^2 + \\cdots + \\sigma^2}{n^2} = \\frac{\\sigma^2}{n}$$\n",
    "\n",
    "\n",
    "<br>\n",
    "\n",
    "## Teorema  Central do Limite (TLC)\n",
    "\n",
    "Assuma que $X$ seja uma variável aleatória com média $\\mu$ e variância $\\sigma^2$, ou seja, $E(X)=\\mu$ e $Var(X)=\\sigma^2$.\n",
    "\n",
    "Dado $X_i$ uma variável aleatória *i.i.d.* (independente e identicamente distribuída) a $X$ com distribuição qualquer, tem-se que:\n",
    "\n",
    "$$\\bar{X}=\\frac{X_1+X_2+...+X_n}{n}=\\frac{\\sum_{i=1}^n X_i}{n} \\sim N\\left(\\mu,\\frac{\\sigma^2}{n}\\right),$$\n",
    "\n",
    "quando $n$ for suficientemente grande.\n",
    "\n",
    "*Obs:* Em alguns casos específicos, pode-se considerar $X_i$ com distribuições diferentes ou com certa dependência entre elas.\n",
    "\n",
    "<br> \n",
    "\n",
    "**Resultado adicional:**\n",
    "\n",
    "Se $X_1, X_2, \\cdots, X_n$ é uma amostra aleatória de tamanho $n$ extraída de uma população com média $\\mu$ e variância $\\sigma^2$ e $\\overline{X}$ é a distribuição da média amostral, a forma limite da distribuição:\n",
    "\n",
    "$$Z = \\frac{\\overline{X} - \\mu}{\\sigma/\\sqrt{n}} \\sim N\\left(0,1\\right).$$\n",
    "\n",
    "É a **distribuição normal padrão**, à medida que $n  \\rightarrow \\infty$."
   ]
  },
  {
   "cell_type": "markdown",
   "metadata": {},
   "source": [
    "___\n",
    "<div id=\"simulacao\"></div>\n",
    "\n",
    "# Simulação\n",
    "\n",
    "Vamos tentar entender a intuição do TLC através de uma simulação."
   ]
  },
  {
   "cell_type": "markdown",
   "metadata": {},
   "source": [
    "<div id=\"ex1\"></div>\n",
    "\n",
    "### EXERCÍCIO 1\n",
    "\n",
    "Faça uma função chamada `amostra_uniforme(n)`, que recebe um número inteiro `n` e que retorna uma lista contendo `n` valores gerados aleatoriamente a partir de uma distribuição uniforme com parâmetros $a=10$, $b=20$. \n",
    "\n",
    "Esses `n` valores representam uma amostra aleatória qualquer extraída de $X\\sim \\text{Uniforme}(10;20)$.\n",
    "\n",
    "**Dica:** você provavelmente vai utilizar o método `stats.uniform.rvs` (pesquise a documentação)."
   ]
  },
  {
   "cell_type": "code",
   "execution_count": 2,
   "metadata": {},
   "outputs": [],
   "source": [
    "# ESCREVA SEU CÓDIGO AQUI\n",
    "def amostra_uniforme(n):\n",
    "    return stats.uniform.rvs(loc=10, scale=10, size=n)"
   ]
  },
  {
   "cell_type": "markdown",
   "metadata": {},
   "source": [
    "___\n",
    "<div id=\"visualizando\"></div>\n",
    "\n",
    "## Visualizando os dados gerados\n",
    "\n",
    "Execute a função `amostra_uniforme(n)` criada no exercício anterior considerando `n=20`.\n",
    "\n",
    "O gráfico a seguir contem um histograma com os valores da amostra gerados por sua função.\n",
    "\n",
    "Execute algumas vezes a célula abaixo para perceber que a amostra pode conter valores diferentes."
   ]
  },
  {
   "cell_type": "code",
   "execution_count": 4,
   "metadata": {},
   "outputs": [
    {
     "data": {
      "image/png": "[encoded data removed]",
      "text/plain": [
       "<Figure size 1008x360 with 1 Axes>"
      ]
     },
     "metadata": {
      "needs_background": "light"
     },
     "output_type": "display_data"
    }
   ],
   "source": [
    "# Gera uma amostra aleatória de tamanho n\n",
    "amostra = pd.Series(amostra_uniforme(20))\n",
    "\n",
    "plt.figure(figsize=(14, 5))\n",
    "\n",
    "# Para construir o histograma com amplitude 1 nas faixas\n",
    "faixa = np.arange(10,21,1)\n",
    "plt.hist(amostra, bins=faixa, density=True,\n",
    "         color='skyblue', edgecolor='white', \n",
    "         linewidth=1, alpha=0.8)\n",
    "\n",
    "# Para construir a fdp \n",
    "eixo_x = np.linspace(5, 25, 1000)\n",
    "fx_uniform = stats.uniform.pdf(eixo_x, loc=10, scale=20-10)\n",
    "plt.plot(eixo_x, fx_uniform, color='blue')\n",
    "plt.ylabel('densidade')\n",
    "plt.xlabel('valores de x')\n",
    "plt.title('Uma amostra de X ~ Uniforme(10; 20)')\n",
    "plt.ylim(0,0.2)\n",
    "plt.legend(('fdp','amostra'))\n",
    "\n",
    "plt.show()\n"
   ]
  },
  {
   "cell_type": "markdown",
   "metadata": {},
   "source": [
    "<div id=\"ex2\"></div>\n",
    "\n",
    "### EXERCÍCIO 2\n",
    "\n",
    "Gere um amostra aleatória de tamanho `n=20` utilizando a sua função `amostra_uniforme`.\n",
    "Calcule a média amostral e desvio padrão amostral."
   ]
  },
  {
   "cell_type": "code",
   "execution_count": 24,
   "metadata": {},
   "outputs": [
    {
     "data": {
      "text/plain": [
       "(14.855625407536143, 3.0555436341266606)"
      ]
     },
     "execution_count": 24,
     "metadata": {},
     "output_type": "execute_result"
    }
   ],
   "source": [
    "# ESCREVA SEU CÓDIGO AQUI\n",
    "amostra = amostra_uniforme(20)\n",
    "amostra.mean(), amostra.std()"
   ]
  },
  {
   "cell_type": "markdown",
   "metadata": {},
   "source": [
    "<div id=\"ex3\"></div>\n",
    "\n",
    "### EXERCÍCIO 3\n",
    "\n",
    "**a.** Agora repita o [Exercício 2](#ex2) mil vezes, armazenando as mil médias em uma lista.\n",
    "\n",
    "**b.** Plote um histograma com as médias obtidas. Utilize `bins=20`, por exemplo.\n",
    "\n",
    "**c.** Interprete a distribuição dessas médias amostrais."
   ]
  },
  {
   "cell_type": "code",
   "execution_count": 34,
   "metadata": {},
   "outputs": [
    {
     "data": {
      "image/png": "[encoded data removed]",
      "text/plain": [
       "<Figure size 432x288 with 1 Axes>"
      ]
     },
     "metadata": {
      "needs_background": "light"
     },
     "output_type": "display_data"
    }
   ],
   "source": [
    "medias = [amostra_uniforme(20).mean() for _ in range(1001)]\n",
    "medias = np.array(medias)\n",
    "plt.hist(medias, density=True, bins=20, color=\"r\", alpha=0.4)\n",
    "plt.show()"
   ]
  },
  {
   "cell_type": "markdown",
   "metadata": {},
   "source": [
    "<div id=\"ex4\"></div>\n",
    "\n",
    "### EXERCÍCIO 4\n",
    "\n",
    "No [Exercício 1](#ex1), a sua função `amostra_uniforme(n)` foi constuída para gerar `n` valores para representar uma amostra aleatória qualquer. Ou seja, de forma teórica $X_1, X_2, X_3, \\ldots, X_n$ é uma amostra aleatória de $X\\sim \\text{Uniforme}(10; 20)$.\n",
    "\n",
    "No [Exercício 2](#ex2), calculamos uma única média amostral a partir dos valores $X_1, X_2, X_3, \\ldots, X_n$. Nos nossos exemplos utilizamos `n=20`.\n",
    "\n",
    "No [Exercício 3a](#ex3), geramos 1000 amostras de tamanho `n=20` e, com isso, foram calculadas 1000 médias amostrais, $\\overline{X}$, todas obtidas de forma independente e da mesma distribuição. \n",
    "\n",
    "O que podemos observar no histograma é que essas 1000 médias amostrais se aproximam de uma distribuição simétrica. Seria uma distribuição normal?\n",
    "\n",
    "Faça um *QQPlot* para avaliar, descritivamente, se as médias seguem uma distribuição normal.\n",
    "Consulte [aqui](https://docs.scipy.org/doc/scipy/reference/generated/scipy.stats.probplot.html)."
   ]
  },
  {
   "cell_type": "code",
   "execution_count": 27,
   "metadata": {},
   "outputs": [
    {
     "data": {
      "image/png": "[encoded data removed]",
      "text/plain": [
       "<Figure size 432x288 with 1 Axes>"
      ]
     },
     "metadata": {
      "needs_background": "light"
     },
     "output_type": "display_data"
    }
   ],
   "source": [
    "# ESCREVA SEU CÓDIGO AQUI\n",
    "stats.probplot(medias, plot=plt)\n",
    "plt.show()"
   ]
  },
  {
   "cell_type": "markdown",
   "metadata": {},
   "source": [
    "<div id=\"ex5\"></div>\n",
    "\n",
    "### EXERCÍCIO 5\n",
    "\n",
    "Pelo TLC, as médias amostrais $\\overline{X}$ devem seguir distribuição normal conforme `n` seja grande. Há estudos que mostram que, com `n>30`, $\\overline{X}$ já apresenta boa aproximação de uma normal não importando o formato de $X$.\n",
    "\n",
    "Ainda, pelo TLC, $\\overline{X}$ tem valor médio igual a $\\mu$ (que é a média da distribuição original $X$, no caso da uniforme) e variância $\\sigma^2/n$. Vamos verificar essa afirmação:\n",
    "\n",
    "**a.** Calcule a média e variância teóricas da distribuição de $\\overline{X}$. Para isso, calcule a média e a variância da $\\text{Uniforme}(10; 20)$. Esses dois últimos valores vão representar $\\mu$ e $\\sigma^2$.\n",
    "\n",
    "**b.** Calcule a média e variância das 1000 médias amostrais geradas no [Exercício 3](#ex3).\n",
    "\n",
    "**c.** Compare os resultados e discuta se eles se aproximam do que era esperado pelo TLC."
   ]
  },
  {
   "cell_type": "code",
   "execution_count": 37,
   "metadata": {},
   "outputs": [
    {
     "name": "stdout",
     "output_type": "stream",
     "text": [
      "15.0 0.41666666666666663\n",
      "15.011338771562436 0.39322043635321813\n"
     ]
    }
   ],
   "source": [
    "# ESCREVA SEU CÓDIGO AQUI\n",
    "media_uniforme = stats.uniform.mean(loc=10, scale=10)\n",
    "variancia_uniforme = stats.uniform.var(loc=10, scale=10)\n",
    "\n",
    "print(media_uniforme, variancia_uniforme/20)\n",
    "\n",
    "print(medias.mean(), medias.var())"
   ]
  },
  {
   "cell_type": "markdown",
   "metadata": {},
   "source": [
    "___\n",
    "\n",
    "<div id=\"tomando-decisoes\"></div>\n",
    "\n",
    "# Tomando decisões com o TLC\n",
    "\n",
    "Vamos considerar agora um exemplo (baseado no Exemplo 7-1 Montgomery). \n",
    "\n",
    "Um fabricante de componentes eletrônicos afirma que os resistores produzidos por ele possuem uma resistência média de $100 \\Omega$ e um desvio padrão de $2 \\Omega$. A distribuição da resistência de cada resistor é normal.\n",
    "\n",
    "Antes de fechar uma grande compra com esse fabricante, considerando seus conhecimentos adquiridos ao longo da graduação no Insper, você decidiu solicitar uma pequena amostra de 25 resistores para realizar um teste de qualidade. O objetivo desta parte da atividade é decidir se você confia ou não na palavra do fabricante.\n",
    "\n",
    "O arquivo `resistores.csv` contém as medições dessa única amostra com 25 resistores recebidos."
   ]
  },
  {
   "cell_type": "code",
   "execution_count": 45,
   "metadata": {},
   "outputs": [
    {
     "data": {
      "text/html": [
       "<div>\n",
       "<style scoped>\n",
       "    .dataframe tbody tr th:only-of-type {\n",
       "        vertical-align: middle;\n",
       "    }\n",
       "\n",
       "    .dataframe tbody tr th {\n",
       "        vertical-align: top;\n",
       "    }\n",
       "\n",
       "    .dataframe thead th {\n",
       "        text-align: right;\n",
       "    }\n",
       "</style>\n",
       "<table border=\"1\" class=\"dataframe\">\n",
       "  <thead>\n",
       "    <tr style=\"text-align: right;\">\n",
       "      <th></th>\n",
       "      <th>resistencia</th>\n",
       "    </tr>\n",
       "  </thead>\n",
       "  <tbody>\n",
       "    <tr>\n",
       "      <th>0</th>\n",
       "      <td>99.516603</td>\n",
       "    </tr>\n",
       "    <tr>\n",
       "      <th>1</th>\n",
       "      <td>98.547214</td>\n",
       "    </tr>\n",
       "    <tr>\n",
       "      <th>2</th>\n",
       "      <td>101.540677</td>\n",
       "    </tr>\n",
       "    <tr>\n",
       "      <th>3</th>\n",
       "      <td>100.361623</td>\n",
       "    </tr>\n",
       "    <tr>\n",
       "      <th>4</th>\n",
       "      <td>98.920817</td>\n",
       "    </tr>\n",
       "  </tbody>\n",
       "</table>\n",
       "</div>"
      ],
      "text/plain": [
       "   resistencia\n",
       "0    99.516603\n",
       "1    98.547214\n",
       "2   101.540677\n",
       "3   100.361623\n",
       "4    98.920817"
      ]
     },
     "execution_count": 45,
     "metadata": {},
     "output_type": "execute_result"
    }
   ],
   "source": [
    "# Carregando os dados\n",
    "resistores = pd.read_csv('resistores.csv', header=None)\n",
    "resistores.columns=['resistencia']\n",
    "resistores.head()"
   ]
  },
  {
   "cell_type": "markdown",
   "metadata": {},
   "source": [
    "<div id=\"ex6\"></div>\n",
    "\n",
    "### EXERCÍCIO 6\n",
    "\n",
    "Qual é a média das resistências dessa amostra com 25 resistores? Qual é sua intuição sobre a afirmação do fabricante baseado nesse valor?"
   ]
  },
  {
   "cell_type": "code",
   "execution_count": 46,
   "metadata": {},
   "outputs": [
    {
     "data": {
      "text/plain": [
       "(resistencia    98.906577\n",
       " dtype: float64,\n",
       " resistencia    5.326923\n",
       " dtype: float64)"
      ]
     },
     "execution_count": 46,
     "metadata": {},
     "output_type": "execute_result"
    }
   ],
   "source": [
    "# ESCREVA SEU CÓDIGO AQUI\n",
    "resistores.mean(), resistores.var()"
   ]
  },
  {
   "cell_type": "markdown",
   "metadata": {},
   "source": [
    "<div id=\"ex7\"></div>\n",
    "\n",
    "### EXERCÍCIO 7\n",
    "\n",
    "Seja $\\overline{X}$ a resistência média de uma amostra com 25 resistores selecionados aleatoriamente. De acordo com o TLC, qual é a distribuição de probabilidades de $\\overline{X}$ (qual distribuição e quais os seus respectivos parâmetros)?"
   ]
  },
  {
   "cell_type": "code",
   "execution_count": null,
   "metadata": {},
   "outputs": [],
   "source": [
    "# Distribuição Normal\n",
    "# _X_ ~ N(100, 0.16)"
   ]
  },
  {
   "cell_type": "markdown",
   "metadata": {},
   "source": [
    "<div id=\"ex8\"></div>\n",
    "\n",
    "### EXERCÍCIO 8\n",
    "\n",
    "Considerando a sua amostra de 25 resistores e os parâmetros obtidos no [Exercício 7](#ex7), qual é a probabilidade do fabricante estar dizendo a verdade, ou seja, que os seus resistores estejam de acordo com a especificação fornecida?\n",
    "\n",
    "Considere aqui o valor de $\\sigma=2$ teórica para avaliar afirmação do fabricante."
   ]
  },
  {
   "cell_type": "code",
   "execution_count": 62,
   "metadata": {},
   "outputs": [
    {
     "data": {
      "text/plain": [
       "array([0.15450243])"
      ]
     },
     "execution_count": 62,
     "metadata": {},
     "output_type": "execute_result"
    }
   ],
   "source": [
    "stats.norm.pdf(100, loc=resistores.mean(), scale=resistores.std())"
   ]
  },
  {
   "cell_type": "code",
   "execution_count": null,
   "metadata": {},
   "outputs": [],
   "source": []
  }
 ],
 "metadata": {
  "hide_input": false,
  "kernelspec": {
   "display_name": "Python 3",
   "language": "python",
   "name": "python3"
  },
  "language_info": {
   "codemirror_mode": {
    "name": "ipython",
    "version": 3
   },
   "file_extension": ".py",
   "mimetype": "text/x-python",
   "name": "python",
   "nbconvert_exporter": "python",
   "pygments_lexer": "ipython3",
   "version": "3.7.7"
  },
  "varInspector": {
   "cols": {
    "lenName": 16,
    "lenType": 16,
    "lenVar": 40
   },
   "kernels_config": {
    "python": {
     "delete_cmd_postfix": "",
     "delete_cmd_prefix": "del ",
     "library": "var_list.py",
     "varRefreshCmd": "print(var_dic_list())"
    },
    "r": {
     "delete_cmd_postfix": ") ",
     "delete_cmd_prefix": "rm(",
     "library": "var_list.r",
     "varRefreshCmd": "cat(var_dic_list()) "
    }
   },
   "types_to_exclude": [
    "module",
    "function",
    "builtin_function_or_method",
    "instance",
    "_Feature"
   ],
   "window_display": false
  }
 },
 "nbformat": 4,
 "nbformat_minor": 4
}
