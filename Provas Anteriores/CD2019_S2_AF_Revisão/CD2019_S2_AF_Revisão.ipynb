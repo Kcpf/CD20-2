{
 "cells": [
  {
   "cell_type": "markdown",
   "metadata": {},
   "source": [
    "# Revisão \n",
    "### AF_2019_2 - Ciência dos Dados"
   ]
  },
  {
   "cell_type": "markdown",
   "metadata": {},
   "source": [
    "___"
   ]
  },
  {
   "cell_type": "markdown",
   "metadata": {},
   "source": [
    "# Nome: <font color=red>**G A B A R I T O**</font>"
   ]
  },
  {
   "cell_type": "markdown",
   "metadata": {},
   "source": [
    "___"
   ]
  },
  {
   "cell_type": "code",
   "execution_count": 1,
   "metadata": {},
   "outputs": [],
   "source": [
    "# Imports que podem ser úteis\n",
    "\n",
    "import pandas as pd;\n",
    "import seaborn as sns # evite fazer pairplot! Estoura a memória\n",
    "import statsmodels.api as sm\n",
    "import numpy as np\n",
    "import matplotlib.pyplot as plt\n",
    "from scipy.stats import stats\n",
    "from scipy.stats import expon, binom, t, norm, probplot\n",
    "%matplotlib inline"
   ]
  },
  {
   "cell_type": "markdown",
   "metadata": {},
   "source": [
    "___"
   ]
  },
  {
   "cell_type": "markdown",
   "metadata": {},
   "source": [
    "### PROBLEMA para as Questões 1 e 2\n",
    "\n",
    "A Marvak, uma renomada loja de departamentos, decidiu realizar uma pesquisa para verificar uma possível associação entre algumas características de seus clientes com seus gastos anuais na loja.\n",
    "\n",
    "Dessa forma, foi selecionada aleatoriamente uma amostra aleatória de $1.000$ clientes que já fizeram compra na Marvak em todas as filiais no último ano e foram observadas as seguintes informações:\n",
    "\n",
    "* **IDADE**: idade do cliente, que foi categorizada em jovem (até 30 anos), adulto (de 31 a 55 anos) ou idoso (56 ou mais anos);\n",
    "* **SEXO**: sexo do cliente (feminino ou masculino);\n",
    "* **RESIDENCIA**: tipo de residência do cliente (alugada ou própria);\n",
    "* **EC**: estado civil do cliente (casado ou solteiro);\n",
    "* **SALARIO_ANUAL**: salário anual do cliente (em reais); e\n",
    "* **GASTO_ANUAL**: gasto total anual do cliente em compras realizadas na Marvak (em reais).\n"
   ]
  },
  {
   "cell_type": "code",
   "execution_count": 2,
   "metadata": {},
   "outputs": [],
   "source": [
    "dados = pd.read_excel(\"Marvak.xlsx\")"
   ]
  },
  {
   "cell_type": "code",
   "execution_count": 3,
   "metadata": {},
   "outputs": [
    {
     "data": {
      "text/html": [
       "<div>\n",
       "<style scoped>\n",
       "    .dataframe tbody tr th:only-of-type {\n",
       "        vertical-align: middle;\n",
       "    }\n",
       "\n",
       "    .dataframe tbody tr th {\n",
       "        vertical-align: top;\n",
       "    }\n",
       "\n",
       "    .dataframe thead th {\n",
       "        text-align: right;\n",
       "    }\n",
       "</style>\n",
       "<table border=\"1\" class=\"dataframe\">\n",
       "  <thead>\n",
       "    <tr style=\"text-align: right;\">\n",
       "      <th></th>\n",
       "      <th>ID</th>\n",
       "      <th>IDADE</th>\n",
       "      <th>SEXO</th>\n",
       "      <th>RESIDENCIA</th>\n",
       "      <th>EC</th>\n",
       "      <th>SALARIO_ANUAL</th>\n",
       "      <th>GASTO_ANUAL</th>\n",
       "    </tr>\n",
       "  </thead>\n",
       "  <tbody>\n",
       "    <tr>\n",
       "      <th>0</th>\n",
       "      <td>1</td>\n",
       "      <td>Jovem</td>\n",
       "      <td>Feminino</td>\n",
       "      <td>Alugada</td>\n",
       "      <td>Solteiro</td>\n",
       "      <td>86000.00</td>\n",
       "      <td>1053.00</td>\n",
       "    </tr>\n",
       "    <tr>\n",
       "      <th>1</th>\n",
       "      <td>2</td>\n",
       "      <td>Jovem</td>\n",
       "      <td>Feminino</td>\n",
       "      <td>Propria</td>\n",
       "      <td>Casado</td>\n",
       "      <td>48543.74</td>\n",
       "      <td>321.03</td>\n",
       "    </tr>\n",
       "    <tr>\n",
       "      <th>2</th>\n",
       "      <td>3</td>\n",
       "      <td>Jovem</td>\n",
       "      <td>Feminino</td>\n",
       "      <td>Propria</td>\n",
       "      <td>Solteiro</td>\n",
       "      <td>14760.10</td>\n",
       "      <td>375.03</td>\n",
       "    </tr>\n",
       "    <tr>\n",
       "      <th>3</th>\n",
       "      <td>4</td>\n",
       "      <td>Adulto</td>\n",
       "      <td>Feminino</td>\n",
       "      <td>Alugada</td>\n",
       "      <td>Solteiro</td>\n",
       "      <td>19900.00</td>\n",
       "      <td>262.00</td>\n",
       "    </tr>\n",
       "    <tr>\n",
       "      <th>4</th>\n",
       "      <td>5</td>\n",
       "      <td>Idoso</td>\n",
       "      <td>Masculino</td>\n",
       "      <td>Alugada</td>\n",
       "      <td>Casado</td>\n",
       "      <td>119000.00</td>\n",
       "      <td>278.00</td>\n",
       "    </tr>\n",
       "  </tbody>\n",
       "</table>\n",
       "</div>"
      ],
      "text/plain": [
       "   ID   IDADE       SEXO RESIDENCIA        EC  SALARIO_ANUAL  GASTO_ANUAL\n",
       "0   1   Jovem   Feminino    Alugada  Solteiro       86000.00      1053.00\n",
       "1   2   Jovem   Feminino    Propria    Casado       48543.74       321.03\n",
       "2   3   Jovem   Feminino    Propria  Solteiro       14760.10       375.03\n",
       "3   4  Adulto   Feminino    Alugada  Solteiro       19900.00       262.00\n",
       "4   5   Idoso  Masculino    Alugada    Casado      119000.00       278.00"
      ]
     },
     "execution_count": 3,
     "metadata": {},
     "output_type": "execute_result"
    }
   ],
   "source": [
    "dados.head()"
   ]
  },
  {
   "cell_type": "code",
   "execution_count": 4,
   "metadata": {},
   "outputs": [
    {
     "data": {
      "text/plain": [
       "Index(['ID', 'IDADE', 'SEXO', 'RESIDENCIA', 'EC', 'SALARIO_ANUAL',\n",
       "       'GASTO_ANUAL'],\n",
       "      dtype='object')"
      ]
     },
     "execution_count": 4,
     "metadata": {},
     "output_type": "execute_result"
    }
   ],
   "source": [
    "dados.columns"
   ]
  },
  {
   "cell_type": "code",
   "execution_count": 5,
   "metadata": {},
   "outputs": [],
   "source": [
    "dados.IDADE = dados.IDADE.astype('category')\n",
    "dados.SEXO = dados.SEXO.astype('category')\n",
    "dados.RESIDENCIA = dados.RESIDENCIA.astype('category')\n",
    "dados.EC = dados.EC.astype('category')"
   ]
  },
  {
   "cell_type": "code",
   "execution_count": 6,
   "metadata": {
    "scrolled": true
   },
   "outputs": [
    {
     "data": {
      "text/plain": [
       "ID                  int64\n",
       "IDADE            category\n",
       "SEXO             category\n",
       "RESIDENCIA       category\n",
       "EC               category\n",
       "SALARIO_ANUAL     float64\n",
       "GASTO_ANUAL       float64\n",
       "dtype: object"
      ]
     },
     "execution_count": 6,
     "metadata": {},
     "output_type": "execute_result"
    }
   ],
   "source": [
    "dados.dtypes"
   ]
  },
  {
   "cell_type": "markdown",
   "metadata": {},
   "source": [
    "___"
   ]
  },
  {
   "cell_type": "markdown",
   "metadata": {},
   "source": [
    "### Questão 1 - Teste de Hipóteses"
   ]
  },
  {
   "cell_type": "markdown",
   "metadata": {},
   "source": [
    "O departamento financeiro da Marvak acredita que os clientes de qualquer filial dessa rede gastaram, em média, mais do que $500$ reais no último ano.\n",
    "\n",
    "Levando em consideração a amostra disponível na base de dados, verifique se há evidências suficiente para afirmar que a suspeita do departamento financeiro procede.\n",
    "\n",
    "**Para resolução desta questão, deixe claro:**\n",
    "\n",
    "1) Construção das Hipóteses Nula e Alternativa em termos do problema e do parâmetro. \n",
    "\n",
    "2) Cálculo do valor *p* do teste. \n",
    "\n",
    "3) Conclusão em termos do problema, deixando claro quais resultados foram utilizados para tal decisão. \n",
    "\n",
    "4) Qual ou quais suposições foram feitas para a escolha da distribuição utilizada no item (2) desta questão. Se há suposição para a distribuição de probabilidades da variáveis de interesse, verifique-a de utilizando algum recurso gráfico. "
   ]
  },
  {
   "cell_type": "markdown",
   "metadata": {},
   "source": [
    "**R.:**\n",
    "1)"
   ]
  },
  {
   "cell_type": "markdown",
   "metadata": {},
   "source": [
    "H0 - mu0 = 500 (Suspeita não procede)\n",
    "\n",
    "HA - mu0 > 500 (Suspeita procede)"
   ]
  },
  {
   "cell_type": "markdown",
   "metadata": {},
   "source": [
    "**R.:**\n",
    "2)"
   ]
  },
  {
   "cell_type": "code",
   "execution_count": 19,
   "metadata": {},
   "outputs": [
    {
     "name": "stdout",
     "output_type": "stream",
     "text": [
      "Média Amostral:         528.7877\n",
      "Desvio padrão Amostral: 331.0430\n",
      "Tamanho da amostra:     1000\n",
      "Valor-p:                0.3034%\n"
     ]
    }
   ],
   "source": [
    "x_obs = dados[\"GASTO_ANUAL\"].mean()\n",
    "s = dados[\"GASTO_ANUAL\"].std()\n",
    "mu0 = 500\n",
    "n = len(dados[\"GASTO_ANUAL\"])\n",
    "\n",
    "t_obs=(x_obs-mu0)/(s/np.sqrt(n))\n",
    "valor_p = 1 - t.cdf(t_obs, df=n-1)\n",
    "\n",
    "print(f'Média Amostral:         {x_obs:.4f}')\n",
    "print(f'Desvio padrão Amostral: {s:.4f}')\n",
    "print(f'Tamanho da amostra:     {n:.0f}')\n",
    "print(f'Valor-p:                {valor_p*100:.4f}%')"
   ]
  },
  {
   "cell_type": "markdown",
   "metadata": {},
   "source": [
    "**R.:**\n",
    "3)"
   ]
  },
  {
   "cell_type": "markdown",
   "metadata": {},
   "source": [
    "Com base no dados do valor_p obtido, pode-se afirmar que a hipótese nula é rejeitada com um nível de confiança de, aproximadamente, 99%.\n",
    "Por isso, há evidências suficientes para confirmar a suspeita."
   ]
  },
  {
   "cell_type": "markdown",
   "metadata": {},
   "source": [
    "**R.:**\n",
    "4)"
   ]
  },
  {
   "cell_type": "markdown",
   "metadata": {},
   "source": [
    "As suposições feitas para a escolha da distribuição utilizada no item 2, é que a variável de interesse segue uma distribuição Normal."
   ]
  },
  {
   "cell_type": "code",
   "execution_count": 22,
   "metadata": {},
   "outputs": [
    {
     "data": {
      "image/png": "[encoded data removed]",
      "text/plain": [
       "<Figure size 864x432 with 2 Axes>"
      ]
     },
     "metadata": {
      "needs_background": "light"
     },
     "output_type": "display_data"
    }
   ],
   "source": [
    "plt.figure(figsize=(12, 6))\n",
    "plt.subplot(121)\n",
    "plt.title(\"Histograma do Gasto Anual\")\n",
    "dados[\"GASTO_ANUAL\"].hist(density=True, bins=50)\n",
    "plt.subplot(122)\n",
    "probplot(dados[\"GASTO_ANUAL\"], plot=plt);"
   ]
  },
  {
   "cell_type": "markdown",
   "metadata": {},
   "source": [
    "### Questão 2 - Modelo de predição"
   ]
  },
  {
   "cell_type": "markdown",
   "metadata": {},
   "source": [
    "Assuma que o objetivo da Marvak seja traçar o perfil de clientes com maior potencial de consumo na loja Marvak. Ou seja, considerando as variáveis mensuradas na base de dados, quais as características que melhor definem o segmento de clientes da Marvak.\n",
    "\n",
    "Assim, considere que a variável `GASTO_ANUAL` é a variável-alvo a ser predita e as demais variáveis da base de dados são as variáveis explicativas.\n",
    "\n",
    " \n",
    "**Para resolução desta questão, faça:**\n",
    "\n",
    "1) Gráfico de dispersão do `SALARIO_ANUAL` versus `GASTO_ANUAL` separando os clientes que residem em casa `Alugada` e casa `Propria`. Interprete-o.\n",
    " "
   ]
  },
  {
   "cell_type": "markdown",
   "metadata": {},
   "source": [
    " \n",
    "2) Considerando apenas os clientes que possuem residência `Alugada`, ajuste uma reta para prever `GASTO_ANUAL` de acordo com o `SALARIO_ANUAL` do cliente. Considerando o valor *p* de um ajuste linear, a reta é significante? Qual deve ser o `GASTO_ANUAL` previsto para um cliente que possui residência `Alugada` e `SALARIO_ANUAL` de 130 mil reais? \n",
    " "
   ]
  },
  {
   "cell_type": "markdown",
   "metadata": {},
   "source": [
    " \n",
    "3) Considerando apenas os clientes que possuem residência `Propria`, ajuste uma reta para prever `GASTO_ANUAL` de acordo com o `SALARIO_ANUAL` do cliente. Considerando o valor *p* de um ajuste linear, a reta é significante? Qual deve ser o `GASTO_ANUAL` previsto para um cliente que possui residência `Propria` e `SALARIO_ANUAL` de 130 mil reais? "
   ]
  },
  {
   "cell_type": "markdown",
   "metadata": {},
   "source": [
    "4) As variáveis `RESIDENCIA` e  `SALARIO_ANUAL` poderiam ser consideradas simultaneamente num modelo de regressão para estimar `GASTO_ANUAL` de um cliente da Marvak? Justifique. **Nota:** Aqui não é necessário ajustar um modelo, mas sim explicar se seria possível e como você procederia deixando claro os cuidados que teria para incluir ambas as variáveis no modelo.\n",
    " "
   ]
  },
  {
   "cell_type": "markdown",
   "metadata": {},
   "source": [
    "**R.:**\n",
    "1)"
   ]
  },
  {
   "cell_type": "code",
   "execution_count": 26,
   "metadata": {},
   "outputs": [
    {
     "data": {
      "image/png": "[encoded data removed]",
      "text/plain": [
       "<Figure size 432x288 with 1 Axes>"
      ]
     },
     "metadata": {
      "needs_background": "light"
     },
     "output_type": "display_data"
    }
   ],
   "source": [
    "casa_alugada = dados.loc[dados[\"RESIDENCIA\"] == \"Alugada\", [\"SALARIO_ANUAL\", \"GASTO_ANUAL\"]]\n",
    "casa_propria = dados.loc[dados[\"RESIDENCIA\"] == \"Propria\", [\"SALARIO_ANUAL\", \"GASTO_ANUAL\"]]\n",
    "\n",
    "plt.scatter(casa_alugada[\"SALARIO_ANUAL\"], casa_alugada[\"GASTO_ANUAL\"], label=\"Casa Alugada\", color='b', alpha=.4)\n",
    "plt.scatter(casa_propria[\"SALARIO_ANUAL\"], casa_propria[\"GASTO_ANUAL\"], label=\"Casa Própria\", color='r', alpha=.4)\n",
    "plt.legend()\n",
    "plt.xlabel(\"Salário Anual\")\n",
    "plt.ylabel(\"Gasto Anual\")\n",
    "plt.show()"
   ]
  },
  {
   "cell_type": "markdown",
   "metadata": {},
   "source": [
    "**R.:**\n",
    "2)"
   ]
  },
  {
   "cell_type": "code",
   "execution_count": 30,
   "metadata": {},
   "outputs": [
    {
     "data": {
      "text/html": [
       "<table class=\"simpletable\">\n",
       "<caption>OLS Regression Results</caption>\n",
       "<tr>\n",
       "  <th>Dep. Variable:</th>       <td>GASTO_ANUAL</td>   <th>  R-squared:         </th> <td>   0.001</td>\n",
       "</tr>\n",
       "<tr>\n",
       "  <th>Model:</th>                   <td>OLS</td>       <th>  Adj. R-squared:    </th> <td>  -0.001</td>\n",
       "</tr>\n",
       "<tr>\n",
       "  <th>Method:</th>             <td>Least Squares</td>  <th>  F-statistic:       </th> <td>  0.4290</td>\n",
       "</tr>\n",
       "<tr>\n",
       "  <th>Date:</th>             <td>Mon, 30 Nov 2020</td> <th>  Prob (F-statistic):</th>  <td> 0.513</td> \n",
       "</tr>\n",
       "<tr>\n",
       "  <th>Time:</th>                 <td>12:13:21</td>     <th>  Log-Likelihood:    </th> <td> -4370.1</td>\n",
       "</tr>\n",
       "<tr>\n",
       "  <th>No. Observations:</th>      <td>   622</td>      <th>  AIC:               </th> <td>   8744.</td>\n",
       "</tr>\n",
       "<tr>\n",
       "  <th>Df Residuals:</th>          <td>   620</td>      <th>  BIC:               </th> <td>   8753.</td>\n",
       "</tr>\n",
       "<tr>\n",
       "  <th>Df Model:</th>              <td>     1</td>      <th>                     </th>     <td> </td>   \n",
       "</tr>\n",
       "<tr>\n",
       "  <th>Covariance Type:</th>      <td>nonrobust</td>    <th>                     </th>     <td> </td>   \n",
       "</tr>\n",
       "</table>\n",
       "<table class=\"simpletable\">\n",
       "<tr>\n",
       "        <td></td>           <th>coef</th>     <th>std err</th>      <th>t</th>      <th>P>|t|</th>  <th>[0.025</th>    <th>0.975]</th>  \n",
       "</tr>\n",
       "<tr>\n",
       "  <th>const</th>         <td>  411.2357</td> <td>   21.137</td> <td>   19.456</td> <td> 0.000</td> <td>  369.727</td> <td>  452.745</td>\n",
       "</tr>\n",
       "<tr>\n",
       "  <th>SALARIO_ANUAL</th> <td>   -0.0002</td> <td>    0.000</td> <td>   -0.655</td> <td> 0.513</td> <td>   -0.001</td> <td>    0.000</td>\n",
       "</tr>\n",
       "</table>\n",
       "<table class=\"simpletable\">\n",
       "<tr>\n",
       "  <th>Omnibus:</th>       <td>127.098</td> <th>  Durbin-Watson:     </th> <td>   2.078</td>\n",
       "</tr>\n",
       "<tr>\n",
       "  <th>Prob(Omnibus):</th> <td> 0.000</td>  <th>  Jarque-Bera (JB):  </th> <td> 209.269</td>\n",
       "</tr>\n",
       "<tr>\n",
       "  <th>Skew:</th>          <td> 1.293</td>  <th>  Prob(JB):          </th> <td>3.61e-46</td>\n",
       "</tr>\n",
       "<tr>\n",
       "  <th>Kurtosis:</th>      <td> 4.178</td>  <th>  Cond. No.          </th> <td>1.35e+05</td>\n",
       "</tr>\n",
       "</table><br/><br/>Warnings:<br/>[1] Standard Errors assume that the covariance matrix of the errors is correctly specified.<br/>[2] The condition number is large, 1.35e+05. This might indicate that there are<br/>strong multicollinearity or other numerical problems."
      ],
      "text/plain": [
       "<class 'statsmodels.iolib.summary.Summary'>\n",
       "\"\"\"\n",
       "                            OLS Regression Results                            \n",
       "==============================================================================\n",
       "Dep. Variable:            GASTO_ANUAL   R-squared:                       0.001\n",
       "Model:                            OLS   Adj. R-squared:                 -0.001\n",
       "Method:                 Least Squares   F-statistic:                    0.4290\n",
       "Date:                Mon, 30 Nov 2020   Prob (F-statistic):              0.513\n",
       "Time:                        12:13:21   Log-Likelihood:                -4370.1\n",
       "No. Observations:                 622   AIC:                             8744.\n",
       "Df Residuals:                     620   BIC:                             8753.\n",
       "Df Model:                           1                                         \n",
       "Covariance Type:            nonrobust                                         \n",
       "=================================================================================\n",
       "                    coef    std err          t      P>|t|      [0.025      0.975]\n",
       "---------------------------------------------------------------------------------\n",
       "const           411.2357     21.137     19.456      0.000     369.727     452.745\n",
       "SALARIO_ANUAL    -0.0002      0.000     -0.655      0.513      -0.001       0.000\n",
       "==============================================================================\n",
       "Omnibus:                      127.098   Durbin-Watson:                   2.078\n",
       "Prob(Omnibus):                  0.000   Jarque-Bera (JB):              209.269\n",
       "Skew:                           1.293   Prob(JB):                     3.61e-46\n",
       "Kurtosis:                       4.178   Cond. No.                     1.35e+05\n",
       "==============================================================================\n",
       "\n",
       "Warnings:\n",
       "[1] Standard Errors assume that the covariance matrix of the errors is correctly specified.\n",
       "[2] The condition number is large, 1.35e+05. This might indicate that there are\n",
       "strong multicollinearity or other numerical problems.\n",
       "\"\"\""
      ]
     },
     "execution_count": 30,
     "metadata": {},
     "output_type": "execute_result"
    }
   ],
   "source": [
    "x_alugada = casa_alugada[\"SALARIO_ANUAL\"]\n",
    "y_alugada = casa_alugada[\"GASTO_ANUAL\"]\n",
    "\n",
    "X_alugada = sm.add_constant(x_alugada)\n",
    "\n",
    "modelo_alugada = sm.OLS(y_alugada, X_alugada)    \n",
    "resultado_alugada = modelo_alugada.fit()   \n",
    "\n",
    "resultado_alugada.summary()   "
   ]
  },
  {
   "cell_type": "markdown",
   "metadata": {},
   "source": [
    "#### Como o valor P encontrado para a varíavel SALARIO_ANUAL é muito alto (para um nível de significância de pelo menos 10%), não podemos rejeitar a hipótese nula de que Beta = 0. Por esse motivo, podemos afirmar que a reta não é significante."
   ]
  },
  {
   "cell_type": "code",
   "execution_count": 46,
   "metadata": {},
   "outputs": [
    {
     "data": {
      "image/png": "[encoded data removed]",
      "text/plain": [
       "<Figure size 432x288 with 1 Axes>"
      ]
     },
     "metadata": {
      "needs_background": "light"
     },
     "output_type": "display_data"
    }
   ],
   "source": [
    "plt.scatter(casa_alugada[\"SALARIO_ANUAL\"], casa_alugada[\"GASTO_ANUAL\"], label=\"Casa Alugada\", color='b', alpha=.4)\n",
    "plt.plot(x_alugada, resultado_alugada.predict(), color=\"r\")\n",
    "plt.legend()\n",
    "plt.xlabel(\"Salário Anual\")\n",
    "plt.ylabel(\"Gasto Anual\")\n",
    "plt.show()"
   ]
  },
  {
   "cell_type": "code",
   "execution_count": 42,
   "metadata": {},
   "outputs": [
    {
     "data": {
      "text/plain": [
       "array([385.51494615])"
      ]
     },
     "execution_count": 42,
     "metadata": {},
     "output_type": "execute_result"
    }
   ],
   "source": [
    "resultado_alugada.predict((1,130000))"
   ]
  },
  {
   "cell_type": "markdown",
   "metadata": {},
   "source": [
    "**R.:**\n",
    "3)"
   ]
  },
  {
   "cell_type": "code",
   "execution_count": 48,
   "metadata": {},
   "outputs": [
    {
     "data": {
      "text/html": [
       "<table class=\"simpletable\">\n",
       "<caption>OLS Regression Results</caption>\n",
       "<tr>\n",
       "  <th>Dep. Variable:</th>       <td>GASTO_ANUAL</td>   <th>  R-squared:         </th> <td>   0.475</td>\n",
       "</tr>\n",
       "<tr>\n",
       "  <th>Model:</th>                   <td>OLS</td>       <th>  Adj. R-squared:    </th> <td>   0.474</td>\n",
       "</tr>\n",
       "<tr>\n",
       "  <th>Method:</th>             <td>Least Squares</td>  <th>  F-statistic:       </th> <td>   340.8</td>\n",
       "</tr>\n",
       "<tr>\n",
       "  <th>Date:</th>             <td>Mon, 30 Nov 2020</td> <th>  Prob (F-statistic):</th> <td>1.24e-54</td>\n",
       "</tr>\n",
       "<tr>\n",
       "  <th>Time:</th>                 <td>13:33:19</td>     <th>  Log-Likelihood:    </th> <td> -2580.0</td>\n",
       "</tr>\n",
       "<tr>\n",
       "  <th>No. Observations:</th>      <td>   378</td>      <th>  AIC:               </th> <td>   5164.</td>\n",
       "</tr>\n",
       "<tr>\n",
       "  <th>Df Residuals:</th>          <td>   376</td>      <th>  BIC:               </th> <td>   5172.</td>\n",
       "</tr>\n",
       "<tr>\n",
       "  <th>Df Model:</th>              <td>     1</td>      <th>                     </th>     <td> </td>   \n",
       "</tr>\n",
       "<tr>\n",
       "  <th>Covariance Type:</th>      <td>nonrobust</td>    <th>                     </th>     <td> </td>   \n",
       "</tr>\n",
       "</table>\n",
       "<table class=\"simpletable\">\n",
       "<tr>\n",
       "        <td></td>           <th>coef</th>     <th>std err</th>      <th>t</th>      <th>P>|t|</th>  <th>[0.025</th>    <th>0.975]</th>  \n",
       "</tr>\n",
       "<tr>\n",
       "  <th>const</th>         <td>  350.9599</td> <td>   24.084</td> <td>   14.572</td> <td> 0.000</td> <td>  303.603</td> <td>  398.316</td>\n",
       "</tr>\n",
       "<tr>\n",
       "  <th>SALARIO_ANUAL</th> <td>    0.0065</td> <td>    0.000</td> <td>   18.461</td> <td> 0.000</td> <td>    0.006</td> <td>    0.007</td>\n",
       "</tr>\n",
       "</table>\n",
       "<table class=\"simpletable\">\n",
       "<tr>\n",
       "  <th>Omnibus:</th>       <td> 0.049</td> <th>  Durbin-Watson:     </th> <td>   2.061</td>\n",
       "</tr>\n",
       "<tr>\n",
       "  <th>Prob(Omnibus):</th> <td> 0.976</td> <th>  Jarque-Bera (JB):  </th> <td>   0.005</td>\n",
       "</tr>\n",
       "<tr>\n",
       "  <th>Skew:</th>          <td> 0.009</td> <th>  Prob(JB):          </th> <td>   0.997</td>\n",
       "</tr>\n",
       "<tr>\n",
       "  <th>Kurtosis:</th>      <td> 3.007</td> <th>  Cond. No.          </th> <td>1.44e+05</td>\n",
       "</tr>\n",
       "</table><br/><br/>Warnings:<br/>[1] Standard Errors assume that the covariance matrix of the errors is correctly specified.<br/>[2] The condition number is large, 1.44e+05. This might indicate that there are<br/>strong multicollinearity or other numerical problems."
      ],
      "text/plain": [
       "<class 'statsmodels.iolib.summary.Summary'>\n",
       "\"\"\"\n",
       "                            OLS Regression Results                            \n",
       "==============================================================================\n",
       "Dep. Variable:            GASTO_ANUAL   R-squared:                       0.475\n",
       "Model:                            OLS   Adj. R-squared:                  0.474\n",
       "Method:                 Least Squares   F-statistic:                     340.8\n",
       "Date:                Mon, 30 Nov 2020   Prob (F-statistic):           1.24e-54\n",
       "Time:                        13:33:19   Log-Likelihood:                -2580.0\n",
       "No. Observations:                 378   AIC:                             5164.\n",
       "Df Residuals:                     376   BIC:                             5172.\n",
       "Df Model:                           1                                         \n",
       "Covariance Type:            nonrobust                                         \n",
       "=================================================================================\n",
       "                    coef    std err          t      P>|t|      [0.025      0.975]\n",
       "---------------------------------------------------------------------------------\n",
       "const           350.9599     24.084     14.572      0.000     303.603     398.316\n",
       "SALARIO_ANUAL     0.0065      0.000     18.461      0.000       0.006       0.007\n",
       "==============================================================================\n",
       "Omnibus:                        0.049   Durbin-Watson:                   2.061\n",
       "Prob(Omnibus):                  0.976   Jarque-Bera (JB):                0.005\n",
       "Skew:                           0.009   Prob(JB):                        0.997\n",
       "Kurtosis:                       3.007   Cond. No.                     1.44e+05\n",
       "==============================================================================\n",
       "\n",
       "Warnings:\n",
       "[1] Standard Errors assume that the covariance matrix of the errors is correctly specified.\n",
       "[2] The condition number is large, 1.44e+05. This might indicate that there are\n",
       "strong multicollinearity or other numerical problems.\n",
       "\"\"\""
      ]
     },
     "execution_count": 48,
     "metadata": {},
     "output_type": "execute_result"
    }
   ],
   "source": [
    "x_propria = casa_propria[\"SALARIO_ANUAL\"]\n",
    "y_propria = casa_propria[\"GASTO_ANUAL\"]\n",
    "\n",
    "X_propria = sm.add_constant(x_propria)\n",
    "\n",
    "modelo_propria = sm.OLS(y_propria, X_propria)    \n",
    "resultado_propria = modelo_propria.fit()   \n",
    "\n",
    "resultado_propria.summary()   "
   ]
  },
  {
   "cell_type": "markdown",
   "metadata": {},
   "source": [
    "#### Como o valor P encontrado para a varíavel SALARIO_ANUAL é baixo (para um nível de significância de pelo menos 10%), podemos rejeitar a hipótese nula de que Beta = 0. Por esse motivo, podemos afirmar que a reta é significante."
   ]
  },
  {
   "cell_type": "code",
   "execution_count": 50,
   "metadata": {},
   "outputs": [
    {
     "data": {
      "image/png": "[encoded data removed]",
      "text/plain": [
       "<Figure size 432x288 with 1 Axes>"
      ]
     },
     "metadata": {
      "needs_background": "light"
     },
     "output_type": "display_data"
    }
   ],
   "source": [
    "plt.scatter(casa_propria[\"SALARIO_ANUAL\"], casa_propria[\"GASTO_ANUAL\"], label=\"Casa Própria\", color='b', alpha=.4)\n",
    "plt.plot(x_propria, resultado_propria.predict(), color=\"r\")\n",
    "plt.legend()\n",
    "plt.xlabel(\"Salário Anual\")\n",
    "plt.ylabel(\"Gasto Anual\")\n",
    "plt.show()"
   ]
  },
  {
   "cell_type": "code",
   "execution_count": 51,
   "metadata": {},
   "outputs": [
    {
     "data": {
      "text/plain": [
       "array([1194.4832804])"
      ]
     },
     "execution_count": 51,
     "metadata": {},
     "output_type": "execute_result"
    }
   ],
   "source": [
    "resultado_propria.predict((1,130000))"
   ]
  },
  {
   "cell_type": "markdown",
   "metadata": {},
   "source": [
    "**R.:**\n",
    "4)"
   ]
  },
  {
   "cell_type": "markdown",
   "metadata": {},
   "source": [
    "As variáveis RESIDENCIA e SALARIO_ANUAL poderiam ser consideradas simultaneamente num modelo de regressão múltipla para estimar GASTO_ANUAL de um cliente da Marvak. O cuidado que deveria ser feito antes da criação do modelo, seria a transformação da variável qualitativa RESIDENCIA em uma variável quantitativa binária."
   ]
  },
  {
   "cell_type": "markdown",
   "metadata": {},
   "source": [
    "___"
   ]
  },
  {
   "cell_type": "markdown",
   "metadata": {},
   "source": [
    "### Questão 3 - Variáveis aleatórias"
   ]
  },
  {
   "cell_type": "markdown",
   "metadata": {},
   "source": [
    "**(Questão extraída do ENADE 2017) **\n",
    "\n",
    "Suponha que determinado programa de computador seja executado por meio de 13 etapas, com tempo médio de 50 segundos ao todo e dispersão relativa de 10% em torno da média.\n",
    "\n",
    "Considere que uma equipe de engenharia propõe um novo algoritmo que reduz em 30% o tempo de execução de todas as 13 etapas desse programa.\n",
    "\n",
    "Nesse contexto, avalie as afirmações a seguir, a respeito do tempo de execução do novo algoritmo.\n",
    "\n",
    "    I.\tO tempo médio por etapa será 32,5 segundos.\n",
    "    II.\tO desvio-padrão permanecerá inalterado.\n",
    "    III.\tA dispersão relativa em torno da média permanecerá inalterada.\n",
    "\n",
    "É correto o que se afirma em: \n",
    "    \n",
    "    A)\tI, apenas\n",
    "    B)\tIII, apenas\n",
    "    C)\tI e II, apenas\n",
    "    D)\tII e III, apenas\n",
    "    E)\tI, II e III\n",
    "\n",
    "Deixe aqui seu RACIOCÍNIO feito para A ESCOLHA DA ALTERNATIVA ASSINALADA!! "
   ]
  },
  {
   "cell_type": "markdown",
   "metadata": {},
   "source": [
    "(ESTE EXERCÍCIO SERÁ ANULADO SE NÃO HOUVER DESENVOLVIMENTO DE RACIOCÍNIO PARA A ESCOLHA DA ALTERNATIVA, MESMO SE ASSINALADA A RESPOSTA CORRETA)"
   ]
  },
  {
   "cell_type": "markdown",
   "metadata": {},
   "source": [
    "É útil saber que **dispersão relativa** é dada pela seguinte fórmula:\n",
    "\n",
    "$$DR = \\frac{\\sigma}{\\mu}$$"
   ]
  },
  {
   "cell_type": "markdown",
   "metadata": {},
   "source": [
    "**R.**\n",
    "\n"
   ]
  },
  {
   "cell_type": "code",
   "execution_count": 62,
   "metadata": {},
   "outputs": [
    {
     "name": "stdout",
     "output_type": "stream",
     "text": [
      "Tempo médio de cada etapa: 2.6923076923076925\n",
      "Desvio-padrão novo: 3.4999999999999996\n",
      "Disperção relativa novo: 0.09999999999999999\n"
     ]
    }
   ],
   "source": [
    "etapas = 13\n",
    "mu_total = 50\n",
    "std_total = 0.1*50\n",
    "var_total = std_total**2\n",
    "\n",
    "# 1\n",
    "mu_total_novo = mu_total*0.7\n",
    "var_total_novo = (0.7**2)*var_total\n",
    "std_total_novo = var_total_novo**0.5\n",
    "dispercao_relativa = std_total_novo/mu_total_novo\n",
    "print(f\"Tempo médio de cada etapa: {mu_total_novo/etapas}\")\n",
    "print(f\"Desvio-padrão novo: {std_total_novo}\")\n",
    "print(f\"Disperção relativa novo: {dispercao_relativa}\")"
   ]
  },
  {
   "cell_type": "markdown",
   "metadata": {},
   "source": [
    "Alternativa B"
   ]
  }
 ],
 "metadata": {
  "kernelspec": {
   "display_name": "Python 3",
   "language": "python",
   "name": "python3"
  },
  "language_info": {
   "codemirror_mode": {
    "name": "ipython",
    "version": 3
   },
   "file_extension": ".py",
   "mimetype": "text/x-python",
   "name": "python",
   "nbconvert_exporter": "python",
   "pygments_lexer": "ipython3",
   "version": "3.7.7"
  }
 },
 "nbformat": 4,
 "nbformat_minor": 4
}
