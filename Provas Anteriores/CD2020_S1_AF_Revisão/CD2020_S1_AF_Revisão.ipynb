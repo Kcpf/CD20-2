{
 "cells": [
  {
   "cell_type": "markdown",
   "metadata": {},
   "source": [
    "# Revisão \n",
    "### AF_2020_1 - Ciência dos Dados"
   ]
  },
  {
   "cell_type": "markdown",
   "metadata": {},
   "source": [
    "___"
   ]
  },
  {
   "cell_type": "markdown",
   "metadata": {},
   "source": [
    "# Nome: <font color=red>**PARA ESTUDAR**</font>"
   ]
  },
  {
   "cell_type": "markdown",
   "metadata": {},
   "source": [
    "___\n",
    "## Índice\n",
    "\n",
    "- [Questão 1](#q1)\n",
    "    - [Item a (0,50 ponto)](#q1a)\n",
    "    - [Item b (1,00 ponto)](#q1b)\n",
    "    - [Item c (1,00 ponto)](#q1c)\n",
    "- [Conjunto de dados: Mercado de Peixes](#dataset)\n",
    "  * [Questão 2](#q2)\n",
    "    - [Item a (1,00 ponto)](#q2a)\n",
    "    - [Item b (1,00 ponto)](#q2b)\n",
    "    - [Item c (0,50 ponto)](#q2c)\n",
    "  * [Questão 3](#q3)\n",
    "    - [Item a (0,75 ponto)](#q3a)\n",
    "    - [Item b (1,00 ponto)](#q3b)\n",
    "    - [Item c (2,00 ponto)](#q3c)\n",
    "    - [Item d (0,75 ponto)](#q3d)\n",
    "    - [Item e (0,50 ponto)](#q3e)\n",
    "  \n"
   ]
  },
  {
   "cell_type": "markdown",
   "metadata": {},
   "source": [
    "___\n",
    "Carregando algumas bibliotecas:"
   ]
  },
  {
   "cell_type": "code",
   "execution_count": 50,
   "metadata": {},
   "outputs": [],
   "source": [
    "%matplotlib inline\n",
    "import pandas as pd\n",
    "import matplotlib.pyplot as plt\n",
    "from scipy import stats\n",
    "import statsmodels.api as sm\n",
    "import numpy as np\n",
    "import os\n",
    "import random"
   ]
  },
  {
   "cell_type": "code",
   "execution_count": 2,
   "metadata": {},
   "outputs": [
    {
     "name": "stdout",
     "output_type": "stream",
     "text": [
      "Esperamos trabalhar no diretório\n",
      "C:\\Users\\Fernando\\Documents\\Insper\\2 semestre\\Ciência dos Dados\\Extra\\CD20-2\\Provas Anteriores\\CD2020_S1_AF_Revisão\n"
     ]
    }
   ],
   "source": [
    "print('Esperamos trabalhar no diretório')\n",
    "print(os.getcwd())"
   ]
  },
  {
   "cell_type": "markdown",
   "metadata": {},
   "source": [
    "<div id=\"q1\"></div>\n",
    "\n",
    "___\n",
    "\n",
    "## Questão 1 - 2,5 pontos\n",
    "\n",
    "<img src=\"./grocery.jpg\" width=33% alt=\"Fonte: https://live.staticflickr.com/3290/2808759067_30eed726d9_o.jpg\"> </img>\n",
    "\n",
    "Uma empresa de transporte de alimentos está interessada em modelar o peso das entregas para realizar estimativas de custo. O peso de uma entrega pode ser separado em duas componentes: o peso de uma caixa de madeira e o peso dos alimentos. Após alguns estudos concluiu-se que o peso da caixa de madeira ($M$) e o peso de **cada** alimento ($A$) podem ser modelados pelas seguintes distribuições (valores em quilogramas):\n",
    "\n",
    "- $M\\sim Normal(10, 0.5^2)$, ou seja, $\\mu=10$ e $\\sigma=0.5$;\n",
    "- $A\\sim Uniforme(40, 60)$, ou seja, $a=40$ e $b=60$.\n",
    "\n",
    "Admitindo que os pesos dos alimentos e das caixas são independentes, responda as perguntas a seguir:"
   ]
  },
  {
   "cell_type": "markdown",
   "metadata": {},
   "source": [
    "<div id=\"q1a\"></div>\n",
    "\n",
    "**a) [0,5 PONTO]** Qual é a probabilidade do peso de uma caixa de madeira exceder 11 kg?"
   ]
  },
  {
   "cell_type": "code",
   "execution_count": 8,
   "metadata": {},
   "outputs": [
    {
     "data": {
      "text/plain": [
       "0.02275013194817921"
      ]
     },
     "execution_count": 8,
     "metadata": {},
     "output_type": "execute_result"
    }
   ],
   "source": [
    "1 - stats.norm.cdf(11, loc=10, scale=0.5)"
   ]
  },
  {
   "cell_type": "markdown",
   "metadata": {},
   "source": [
    "<div id=\"q1b\"></div>\n",
    "\n",
    "**b) [1,0 PONTO]** Qual é a esperança e variância do peso de uma caixa contendo três alimentos iguais?"
   ]
  },
  {
   "cell_type": "code",
   "execution_count": 17,
   "metadata": {},
   "outputs": [
    {
     "name": "stdout",
     "output_type": "stream",
     "text": [
      "Esperança = 160.0\n",
      "Variância = 300.24999999999994\n"
     ]
    }
   ],
   "source": [
    "# 3*A + M\n",
    "esperanca = 3*stats.uniform.mean(loc=40, scale=60-40) + 10\n",
    "variancia = 9*(stats.uniform.var(loc=40, scale=60-40)) + 0.5**2\n",
    "print(f\"Esperança = {esperanca}\")\n",
    "print(f\"Variância = {variancia}\")"
   ]
  },
  {
   "cell_type": "markdown",
   "metadata": {},
   "source": [
    "<div id=\"q1c\"></div>\n",
    "\n",
    "**c) [1,0 PONTO]** Se amostrarmos 100 alimentos aleatoriamente, qual é a probabilidade da média amostral do peso ser superior a 51 kg?"
   ]
  },
  {
   "cell_type": "code",
   "execution_count": 29,
   "metadata": {},
   "outputs": [
    {
     "data": {
      "text/plain": [
       "0.041632258331775196"
      ]
     },
     "execution_count": 29,
     "metadata": {},
     "output_type": "execute_result"
    }
   ],
   "source": [
    "n = 100\n",
    "esperanca_media = stats.uniform.mean(loc=40, scale=60-40)\n",
    "desvio_medio = (stats.uniform.var(loc=40, scale=60-40)/n)**0.5\n",
    "1 - stats.norm.cdf(51, loc=esperanca_media, scale=desvio_medio)"
   ]
  },
  {
   "cell_type": "markdown",
   "metadata": {},
   "source": [
    "<div id=\"dataset\"></div>\n",
    "\n",
    "___\n",
    "## Conjunto de dados: Mercado de Peixes"
   ]
  },
  {
   "cell_type": "markdown",
   "metadata": {},
   "source": [
    "<div id=\"enuncq2\"></div>\n",
    "\n",
    "<img src=\"./fishing.png\" width=33% alt=\"Fonte: https://upload.wikimedia.org/wikipedia/commons/thumb/b/ba/Fishing.svg/1024px-Fishing.svg.png\"> </img>\n",
    "\n",
    "Os dados a seguir serão utilizados para as Questões 2 e 3.\n",
    "\n",
    "O arquivo `Fish.csv` possui dados de 7 espécies de peixes vendidas em mercados de peixes. Esta base foi disponibilizada por [Aung Pyae](https://www.kaggle.com/aungpyaeap/fish-market)** no Kaggle.\n",
    "\n",
    "As variáveis contidas no *dataset* são:\n",
    "\n",
    "- `Species`: espécie do peixe;\n",
    "- `Weight`: peso do peixe, em gramas (g);\n",
    "- `Length1`: comprimento vertical, em centímetros (cm);\n",
    "- `Length2`: comprimento diagonal, em centímetros (cm);\n",
    "- `Length3`: comprimento transversal, em centímetros (cm);\n",
    "- `Height`: altura, em centímetros (cm);\n",
    "- `Width`: largura diagnoal, em centímetros (cm).\n",
    "\n",
    "As 7 espécies presentes no dataset são:\n",
    "\n",
    "- *Perch*\n",
    "- *Bream*\n",
    "- *Roach*\n",
    "- *Pike*\n",
    "- *Smelt*\n",
    "- *Parkki*\n",
    "- *Whitefish*\n",
    "\n",
    "Vamos começar carregando os dados."
   ]
  },
  {
   "cell_type": "code",
   "execution_count": 30,
   "metadata": {},
   "outputs": [
    {
     "data": {
      "text/html": [
       "<div>\n",
       "<style scoped>\n",
       "    .dataframe tbody tr th:only-of-type {\n",
       "        vertical-align: middle;\n",
       "    }\n",
       "\n",
       "    .dataframe tbody tr th {\n",
       "        vertical-align: top;\n",
       "    }\n",
       "\n",
       "    .dataframe thead th {\n",
       "        text-align: right;\n",
       "    }\n",
       "</style>\n",
       "<table border=\"1\" class=\"dataframe\">\n",
       "  <thead>\n",
       "    <tr style=\"text-align: right;\">\n",
       "      <th></th>\n",
       "      <th>Species</th>\n",
       "      <th>Weight</th>\n",
       "      <th>Length1</th>\n",
       "      <th>Length2</th>\n",
       "      <th>Length3</th>\n",
       "      <th>Height</th>\n",
       "      <th>Width</th>\n",
       "    </tr>\n",
       "  </thead>\n",
       "  <tbody>\n",
       "    <tr>\n",
       "      <th>0</th>\n",
       "      <td>Bream</td>\n",
       "      <td>242.0</td>\n",
       "      <td>23.2</td>\n",
       "      <td>25.4</td>\n",
       "      <td>30.0</td>\n",
       "      <td>11.5200</td>\n",
       "      <td>4.0200</td>\n",
       "    </tr>\n",
       "    <tr>\n",
       "      <th>1</th>\n",
       "      <td>Bream</td>\n",
       "      <td>290.0</td>\n",
       "      <td>24.0</td>\n",
       "      <td>26.3</td>\n",
       "      <td>31.2</td>\n",
       "      <td>12.4800</td>\n",
       "      <td>4.3056</td>\n",
       "    </tr>\n",
       "    <tr>\n",
       "      <th>2</th>\n",
       "      <td>Bream</td>\n",
       "      <td>340.0</td>\n",
       "      <td>23.9</td>\n",
       "      <td>26.5</td>\n",
       "      <td>31.1</td>\n",
       "      <td>12.3778</td>\n",
       "      <td>4.6961</td>\n",
       "    </tr>\n",
       "    <tr>\n",
       "      <th>3</th>\n",
       "      <td>Bream</td>\n",
       "      <td>363.0</td>\n",
       "      <td>26.3</td>\n",
       "      <td>29.0</td>\n",
       "      <td>33.5</td>\n",
       "      <td>12.7300</td>\n",
       "      <td>4.4555</td>\n",
       "    </tr>\n",
       "    <tr>\n",
       "      <th>4</th>\n",
       "      <td>Bream</td>\n",
       "      <td>430.0</td>\n",
       "      <td>26.5</td>\n",
       "      <td>29.0</td>\n",
       "      <td>34.0</td>\n",
       "      <td>12.4440</td>\n",
       "      <td>5.1340</td>\n",
       "    </tr>\n",
       "  </tbody>\n",
       "</table>\n",
       "</div>"
      ],
      "text/plain": [
       "  Species  Weight  Length1  Length2  Length3   Height   Width\n",
       "0   Bream   242.0     23.2     25.4     30.0  11.5200  4.0200\n",
       "1   Bream   290.0     24.0     26.3     31.2  12.4800  4.3056\n",
       "2   Bream   340.0     23.9     26.5     31.1  12.3778  4.6961\n",
       "3   Bream   363.0     26.3     29.0     33.5  12.7300  4.4555\n",
       "4   Bream   430.0     26.5     29.0     34.0  12.4440  5.1340"
      ]
     },
     "execution_count": 30,
     "metadata": {},
     "output_type": "execute_result"
    }
   ],
   "source": [
    "peixes = pd.read_csv('Fish.csv')\n",
    "peixes.head()"
   ]
  },
  {
   "cell_type": "markdown",
   "metadata": {},
   "source": [
    "<div id=\"q2\"></div>\n",
    "\n",
    "___\n",
    "## Questão 2 - 2,5 pontos\n",
    "\n",
    "Suspeita-se que o carregamento atual de peixes do tipo *Bream* veio de um cardume mais pesado do que o habitual. Baseado em dados históricos, o peso médio desse tipo de peixe é 545.0 gramas.\n",
    "\n",
    "Formulando as hipóteses em termos do problema e em termos estatísticos:\n",
    "\n",
    "- $H_0:$ O peso médio de um peixe no atual cardume é igual ao habitual $\\Rightarrow H_0: \\mu=545$\n",
    "- $H_1:$ O peso médio de um peixe no atual cardume é maior do que o habitual $\\Rightarrow H_1: \\mu>545$"
   ]
  },
  {
   "cell_type": "markdown",
   "metadata": {},
   "source": [
    "<div id=\"q2a\"></div>\n",
    "\n",
    "**a) [1,0 PONTO]** Faça o teste de hipóteses utilizando uma técnica adequada. Considere nível de significância de 5%. Tome a decisão via região crítica."
   ]
  },
  {
   "cell_type": "code",
   "execution_count": 34,
   "metadata": {},
   "outputs": [
    {
     "name": "stdout",
     "output_type": "stream",
     "text": [
      "Rejeitamos H0 se 2.0595023034773465 > 1.6909242507706543\n",
      "Portanto, o peso médio no atual cardume é maior do que o habitual\n"
     ]
    }
   ],
   "source": [
    "x_obs = peixes.loc[peixes[\"Species\"] == \"Bream\", \"Weight\"].mean()\n",
    "s = peixes.loc[peixes[\"Species\"] == \"Bream\", \"Weight\"].std()\n",
    "n = len(peixes.loc[peixes[\"Species\"] == \"Bream\", \"Weight\"])\n",
    "mu0 = 545\n",
    "alpha = 0.05\n",
    "\n",
    "t_obs=(x_obs-mu0)/(s/np.sqrt(n))\n",
    "t_c = stats.t.ppf(1-alpha, df=n-1)\n",
    "\n",
    "print(f\"Rejeitamos H0 se {t_obs} > {t_c}\")\n",
    "print(\"Portanto, o peso médio no atual cardume é maior do que o habitual\")"
   ]
  },
  {
   "cell_type": "markdown",
   "metadata": {},
   "source": [
    "<div id=\"q2b\"></div>\n",
    "\n",
    "**b) [1,0 PONTO]** Repita o teste de hipóteses, agora tomando a decisão via valor-*p*."
   ]
  },
  {
   "cell_type": "code",
   "execution_count": 37,
   "metadata": {},
   "outputs": [
    {
     "name": "stdout",
     "output_type": "stream",
     "text": [
      "Rejeitamos H0 se 0.02358458543415287 < 0.05\n",
      "Portanto, o peso médio no atual cardume é maior do que o habitual\n"
     ]
    }
   ],
   "source": [
    "valor_p = 1 - stats.t.cdf(t_obs, df=n-1)\n",
    "print(f\"Rejeitamos H0 se {valor_p} < {alpha}\")\n",
    "print(\"Portanto, o peso médio no atual cardume é maior do que o habitual\")"
   ]
  },
  {
   "cell_type": "markdown",
   "metadata": {},
   "source": [
    "<div id=\"q2c\"></div>\n",
    "\n",
    "**c) [0,5 PONTO]** Verifique graficamente se a distribuição dos dados é normal."
   ]
  },
  {
   "cell_type": "code",
   "execution_count": 43,
   "metadata": {},
   "outputs": [
    {
     "data": {
      "image/png": "[encoded data removed]",
      "text/plain": [
       "<Figure size 432x288 with 1 Axes>"
      ]
     },
     "metadata": {
      "needs_background": "light"
     },
     "output_type": "display_data"
    }
   ],
   "source": [
    "stats.probplot(peixes.loc[peixes[\"Species\"] == \"Bream\", \"Weight\"], plot=plt);"
   ]
  },
  {
   "cell_type": "markdown",
   "metadata": {},
   "source": [
    "<div id=\"q3\"></div>\n",
    "\n",
    "___\n",
    "## Questão 3 - 5,0 pontos\n",
    "\n",
    "<img src=\"./taking-photo.jpg\" width=33% alt=\"Fonte: https://p2.piqsels.com/preview/267/181/187/flatlay-food-photography-taking-photo.jpg\"> </img>\n",
    "\n",
    "Uma startup está desenvolvendo um aplicativo baseado em visão computacional para estimar o peso de um peixe utilizando apenas uma imagem. O aplicativo já é capaz de estimar todas as 5 medidas (`Length1`, `Length2`, `Length3`, `Height` e `Width`), mas agora precisam encontrar uma maneira de estimar o peso do peixe.\n",
    "\n",
    "Sua tarefa é encontrar a variável **(apenas uma)** que seja mais relevante para explicar o peso do peixe utilizando um modelo linear. **Vamos considerar apenas os peixes da espécie *Bream***."
   ]
  },
  {
   "cell_type": "markdown",
   "metadata": {},
   "source": [
    "<div id=\"q3a\"></div>\n",
    "\n",
    "**a) [0,75 PONTOS]** Construa 5 gráficos de dispersão para analisar a relação de cada uma das 5 medidas (`Length1`, `Length2`, `Length3`, `Height` e `Width`) com o peso do peixe da espécie *Bream*. Deve ser possível identificar o que cada gráfico representa sem consultar o código, ou seja, os gráficos devem possuir títulos, no mínimo."
   ]
  },
  {
   "cell_type": "code",
   "execution_count": 62,
   "metadata": {},
   "outputs": [
    {
     "data": {
      "image/png": "[encoded data removed]",
      "text/plain": [
       "<Figure size 1080x720 with 5 Axes>"
      ]
     },
     "metadata": {
      "needs_background": "light"
     },
     "output_type": "display_data"
    }
   ],
   "source": [
    "def plot_graph(y, ylabel):\n",
    "    plt.scatter(peixes.loc[peixes[\"Species\"] == \"Bream\", \"Weight\"], peixes.loc[peixes[\"Species\"] == \"Bream\", y], color=random.choice([\"r\", \"g\", \"b\"]), alpha=0.4)\n",
    "    plt.xlabel(\"Peso\")\n",
    "    plt.ylabel(ylabel)\n",
    "    plt.title(f\"{ylabel} x Peso\")\n",
    "\n",
    "plt.figure(figsize=(15, 10))\n",
    "\n",
    "plt.subplot(231)\n",
    "plot_graph(\"Length1\", \"Comprimento Vertical\")\n",
    "plt.subplot(232)\n",
    "plot_graph(\"Length2\", \"Comprimento Diagonal\")\n",
    "plt.subplot(233)\n",
    "plot_graph(\"Length3\", \"Comprimento Transversal\")\n",
    "plt.subplot(234)\n",
    "plot_graph(\"Height\", \"Altura\")\n",
    "plt.subplot(235)\n",
    "plot_graph(\"Width\", \"Largura Diagonal\")\n",
    "plt.show()"
   ]
  },
  {
   "cell_type": "markdown",
   "metadata": {},
   "source": [
    "<div id=\"q3b\"></div>\n",
    "\n",
    "**b) [1,0 PONTO]** Ajuste um modelo linear **múltiplo** utilizando as 5 medidas para explicar a variável `Weight`. Neste item, **mostre** apenas os resultados desse ajuste."
   ]
  },
  {
   "cell_type": "code",
   "execution_count": 63,
   "metadata": {},
   "outputs": [
    {
     "data": {
      "text/html": [
       "<table class=\"simpletable\">\n",
       "<caption>OLS Regression Results</caption>\n",
       "<tr>\n",
       "  <th>Dep. Variable:</th>         <td>Weight</td>      <th>  R-squared:         </th> <td>   0.943</td>\n",
       "</tr>\n",
       "<tr>\n",
       "  <th>Model:</th>                   <td>OLS</td>       <th>  Adj. R-squared:    </th> <td>   0.933</td>\n",
       "</tr>\n",
       "<tr>\n",
       "  <th>Method:</th>             <td>Least Squares</td>  <th>  F-statistic:       </th> <td>   96.42</td>\n",
       "</tr>\n",
       "<tr>\n",
       "  <th>Date:</th>             <td>Mon, 30 Nov 2020</td> <th>  Prob (F-statistic):</th> <td>3.70e-17</td>\n",
       "</tr>\n",
       "<tr>\n",
       "  <th>Time:</th>                 <td>15:08:56</td>     <th>  Log-Likelihood:    </th> <td> -185.96</td>\n",
       "</tr>\n",
       "<tr>\n",
       "  <th>No. Observations:</th>      <td>    35</td>      <th>  AIC:               </th> <td>   383.9</td>\n",
       "</tr>\n",
       "<tr>\n",
       "  <th>Df Residuals:</th>          <td>    29</td>      <th>  BIC:               </th> <td>   393.3</td>\n",
       "</tr>\n",
       "<tr>\n",
       "  <th>Df Model:</th>              <td>     5</td>      <th>                     </th>     <td> </td>   \n",
       "</tr>\n",
       "<tr>\n",
       "  <th>Covariance Type:</th>      <td>nonrobust</td>    <th>                     </th>     <td> </td>   \n",
       "</tr>\n",
       "</table>\n",
       "<table class=\"simpletable\">\n",
       "<tr>\n",
       "     <td></td>        <th>coef</th>     <th>std err</th>      <th>t</th>      <th>P>|t|</th>  <th>[0.025</th>    <th>0.975]</th>  \n",
       "</tr>\n",
       "<tr>\n",
       "  <th>const</th>   <td> -939.4375</td> <td>  162.617</td> <td>   -5.777</td> <td> 0.000</td> <td>-1272.026</td> <td> -606.849</td>\n",
       "</tr>\n",
       "<tr>\n",
       "  <th>Length1</th> <td>   16.1878</td> <td>   49.401</td> <td>    0.328</td> <td> 0.746</td> <td>  -84.849</td> <td>  117.225</td>\n",
       "</tr>\n",
       "<tr>\n",
       "  <th>Length2</th> <td>   17.9695</td> <td>   53.705</td> <td>    0.335</td> <td> 0.740</td> <td>  -91.869</td> <td>  127.808</td>\n",
       "</tr>\n",
       "<tr>\n",
       "  <th>Length3</th> <td>  -21.1881</td> <td>   42.259</td> <td>   -0.501</td> <td> 0.620</td> <td> -107.617</td> <td>   65.241</td>\n",
       "</tr>\n",
       "<tr>\n",
       "  <th>Height</th>  <td>   64.1981</td> <td>   17.841</td> <td>    3.598</td> <td> 0.001</td> <td>   27.709</td> <td>  100.687</td>\n",
       "</tr>\n",
       "<tr>\n",
       "  <th>Width</th>   <td>   57.0522</td> <td>   42.139</td> <td>    1.354</td> <td> 0.186</td> <td>  -29.131</td> <td>  143.235</td>\n",
       "</tr>\n",
       "</table>\n",
       "<table class=\"simpletable\">\n",
       "<tr>\n",
       "  <th>Omnibus:</th>       <td> 7.792</td> <th>  Durbin-Watson:     </th> <td>   2.209</td>\n",
       "</tr>\n",
       "<tr>\n",
       "  <th>Prob(Omnibus):</th> <td> 0.020</td> <th>  Jarque-Bera (JB):  </th> <td>  10.614</td>\n",
       "</tr>\n",
       "<tr>\n",
       "  <th>Skew:</th>          <td>-0.407</td> <th>  Prob(JB):          </th> <td> 0.00496</td>\n",
       "</tr>\n",
       "<tr>\n",
       "  <th>Kurtosis:</th>      <td> 5.572</td> <th>  Cond. No.          </th> <td>1.14e+03</td>\n",
       "</tr>\n",
       "</table><br/><br/>Warnings:<br/>[1] Standard Errors assume that the covariance matrix of the errors is correctly specified.<br/>[2] The condition number is large, 1.14e+03. This might indicate that there are<br/>strong multicollinearity or other numerical problems."
      ],
      "text/plain": [
       "<class 'statsmodels.iolib.summary.Summary'>\n",
       "\"\"\"\n",
       "                            OLS Regression Results                            \n",
       "==============================================================================\n",
       "Dep. Variable:                 Weight   R-squared:                       0.943\n",
       "Model:                            OLS   Adj. R-squared:                  0.933\n",
       "Method:                 Least Squares   F-statistic:                     96.42\n",
       "Date:                Mon, 30 Nov 2020   Prob (F-statistic):           3.70e-17\n",
       "Time:                        15:08:56   Log-Likelihood:                -185.96\n",
       "No. Observations:                  35   AIC:                             383.9\n",
       "Df Residuals:                      29   BIC:                             393.3\n",
       "Df Model:                           5                                         \n",
       "Covariance Type:            nonrobust                                         \n",
       "==============================================================================\n",
       "                 coef    std err          t      P>|t|      [0.025      0.975]\n",
       "------------------------------------------------------------------------------\n",
       "const       -939.4375    162.617     -5.777      0.000   -1272.026    -606.849\n",
       "Length1       16.1878     49.401      0.328      0.746     -84.849     117.225\n",
       "Length2       17.9695     53.705      0.335      0.740     -91.869     127.808\n",
       "Length3      -21.1881     42.259     -0.501      0.620    -107.617      65.241\n",
       "Height        64.1981     17.841      3.598      0.001      27.709     100.687\n",
       "Width         57.0522     42.139      1.354      0.186     -29.131     143.235\n",
       "==============================================================================\n",
       "Omnibus:                        7.792   Durbin-Watson:                   2.209\n",
       "Prob(Omnibus):                  0.020   Jarque-Bera (JB):               10.614\n",
       "Skew:                          -0.407   Prob(JB):                      0.00496\n",
       "Kurtosis:                       5.572   Cond. No.                     1.14e+03\n",
       "==============================================================================\n",
       "\n",
       "Warnings:\n",
       "[1] Standard Errors assume that the covariance matrix of the errors is correctly specified.\n",
       "[2] The condition number is large, 1.14e+03. This might indicate that there are\n",
       "strong multicollinearity or other numerical problems.\n",
       "\"\"\""
      ]
     },
     "execution_count": 63,
     "metadata": {},
     "output_type": "execute_result"
    }
   ],
   "source": [
    "x = peixes.loc[peixes[\"Species\"] == \"Bream\", :].drop([\"Species\", \"Weight\"], axis=1)\n",
    "y = peixes.loc[peixes[\"Species\"] == \"Bream\", \"Weight\"]\n",
    "\n",
    "X = sm.add_constant(x)\n",
    "\n",
    "modelo = sm.OLS(y, X)    \n",
    "resultados = modelo.fit()   \n",
    "\n",
    "resultados.summary()   "
   ]
  },
  {
   "cell_type": "markdown",
   "metadata": {},
   "source": [
    "<div id=\"q3c\"></div>\n",
    "\n",
    "**c) [2,0 PONTOS]** Baseado no resultado do item *b*, quais das afirmações a seguir são verdadeiras? Indique sua resposta no Blackboard.\n",
    "\n",
    "- A variável `Length2` é mais relevante para explicar a variável `Weight` do que a variável `Height`; **`Falso`**\n",
    "- Coeficientes negativos indicam que a variável não é relevante para explicar `Weight`; **`Falso`**\n",
    "- O valor-p associado ao coeficiente de `Height` indica que essa variável é significativa para explicar `Weight` (considere nível de significância 0,5%); **`Verdadeiro`**\n",
    "- De acordo com o resultado do teste Jarque-Bera podemos afirmar, com nível de significância de 1%, que a variável `Weight` segue uma distribuição normal; **`Falso`**\n",
    "- De acordo com o resultado do teste Omnibus podemos afirmar, com nível de significância de 5%, que os resíduos não seguem uma distribuição normal. **`Verdadeiro`**"
   ]
  },
  {
   "cell_type": "markdown",
   "metadata": {},
   "source": [
    "<div id=\"q3d\"></div>\n",
    "\n",
    "**d) [0,75 PONTOS]** Remova as variáveis menos relevantes até que reste apenas a mais relevante. Ajuste um novo modelo linear utilizando apenas essa variável. É suficiente se você apresentar apenas o resultado final do ajuste com a variável mais relevante."
   ]
  },
  {
   "cell_type": "code",
   "execution_count": 70,
   "metadata": {},
   "outputs": [
    {
     "data": {
      "text/html": [
       "<table class=\"simpletable\">\n",
       "<caption>OLS Regression Results</caption>\n",
       "<tr>\n",
       "  <th>Dep. Variable:</th>         <td>Weight</td>      <th>  R-squared:         </th> <td>   0.930</td>\n",
       "</tr>\n",
       "<tr>\n",
       "  <th>Model:</th>                   <td>OLS</td>       <th>  Adj. R-squared:    </th> <td>   0.928</td>\n",
       "</tr>\n",
       "<tr>\n",
       "  <th>Method:</th>             <td>Least Squares</td>  <th>  F-statistic:       </th> <td>   440.5</td>\n",
       "</tr>\n",
       "<tr>\n",
       "  <th>Date:</th>             <td>Mon, 30 Nov 2020</td> <th>  Prob (F-statistic):</th> <td>1.16e-20</td>\n",
       "</tr>\n",
       "<tr>\n",
       "  <th>Time:</th>                 <td>15:15:53</td>     <th>  Log-Likelihood:    </th> <td> -189.56</td>\n",
       "</tr>\n",
       "<tr>\n",
       "  <th>No. Observations:</th>      <td>    35</td>      <th>  AIC:               </th> <td>   383.1</td>\n",
       "</tr>\n",
       "<tr>\n",
       "  <th>Df Residuals:</th>          <td>    33</td>      <th>  BIC:               </th> <td>   386.2</td>\n",
       "</tr>\n",
       "<tr>\n",
       "  <th>Df Model:</th>              <td>     1</td>      <th>                     </th>     <td> </td>   \n",
       "</tr>\n",
       "<tr>\n",
       "  <th>Covariance Type:</th>      <td>nonrobust</td>    <th>                     </th>     <td> </td>   \n",
       "</tr>\n",
       "</table>\n",
       "<table class=\"simpletable\">\n",
       "<tr>\n",
       "     <td></td>       <th>coef</th>     <th>std err</th>      <th>t</th>      <th>P>|t|</th>  <th>[0.025</th>    <th>0.975]</th>  \n",
       "</tr>\n",
       "<tr>\n",
       "  <th>const</th>  <td> -941.5590</td> <td>   74.896</td> <td>  -12.571</td> <td> 0.000</td> <td>-1093.937</td> <td> -789.181</td>\n",
       "</tr>\n",
       "<tr>\n",
       "  <th>Height</th> <td>  102.7047</td> <td>    4.893</td> <td>   20.989</td> <td> 0.000</td> <td>   92.749</td> <td>  112.660</td>\n",
       "</tr>\n",
       "</table>\n",
       "<table class=\"simpletable\">\n",
       "<tr>\n",
       "  <th>Omnibus:</th>       <td> 1.780</td> <th>  Durbin-Watson:     </th> <td>   2.282</td>\n",
       "</tr>\n",
       "<tr>\n",
       "  <th>Prob(Omnibus):</th> <td> 0.411</td> <th>  Jarque-Bera (JB):  </th> <td>   0.784</td>\n",
       "</tr>\n",
       "<tr>\n",
       "  <th>Skew:</th>          <td> 0.246</td> <th>  Prob(JB):          </th> <td>   0.676</td>\n",
       "</tr>\n",
       "<tr>\n",
       "  <th>Kurtosis:</th>      <td> 3.544</td> <th>  Cond. No.          </th> <td>    121.</td>\n",
       "</tr>\n",
       "</table><br/><br/>Warnings:<br/>[1] Standard Errors assume that the covariance matrix of the errors is correctly specified."
      ],
      "text/plain": [
       "<class 'statsmodels.iolib.summary.Summary'>\n",
       "\"\"\"\n",
       "                            OLS Regression Results                            \n",
       "==============================================================================\n",
       "Dep. Variable:                 Weight   R-squared:                       0.930\n",
       "Model:                            OLS   Adj. R-squared:                  0.928\n",
       "Method:                 Least Squares   F-statistic:                     440.5\n",
       "Date:                Mon, 30 Nov 2020   Prob (F-statistic):           1.16e-20\n",
       "Time:                        15:15:53   Log-Likelihood:                -189.56\n",
       "No. Observations:                  35   AIC:                             383.1\n",
       "Df Residuals:                      33   BIC:                             386.2\n",
       "Df Model:                           1                                         \n",
       "Covariance Type:            nonrobust                                         \n",
       "==============================================================================\n",
       "                 coef    std err          t      P>|t|      [0.025      0.975]\n",
       "------------------------------------------------------------------------------\n",
       "const       -941.5590     74.896    -12.571      0.000   -1093.937    -789.181\n",
       "Height       102.7047      4.893     20.989      0.000      92.749     112.660\n",
       "==============================================================================\n",
       "Omnibus:                        1.780   Durbin-Watson:                   2.282\n",
       "Prob(Omnibus):                  0.411   Jarque-Bera (JB):                0.784\n",
       "Skew:                           0.246   Prob(JB):                        0.676\n",
       "Kurtosis:                       3.544   Cond. No.                         121.\n",
       "==============================================================================\n",
       "\n",
       "Warnings:\n",
       "[1] Standard Errors assume that the covariance matrix of the errors is correctly specified.\n",
       "\"\"\""
      ]
     },
     "execution_count": 70,
     "metadata": {},
     "output_type": "execute_result"
    }
   ],
   "source": [
    "x = peixes.loc[peixes[\"Species\"] == \"Bream\", :].drop([\"Species\", \"Weight\", \"Length1\", \"Length3\", \"Width\", \"Length2\"], axis=1)\n",
    "y = peixes.loc[peixes[\"Species\"] == \"Bream\", \"Weight\"]\n",
    "\n",
    "X = sm.add_constant(x)\n",
    "\n",
    "modelo = sm.OLS(y, X)    \n",
    "resultados = modelo.fit()   \n",
    "\n",
    "resultados.summary()   "
   ]
  },
  {
   "cell_type": "code",
   "execution_count": 74,
   "metadata": {},
   "outputs": [
    {
     "data": {
      "image/png": "[encoded data removed]",
      "text/plain": [
       "<Figure size 432x288 with 1 Axes>"
      ]
     },
     "metadata": {
      "needs_background": "light"
     },
     "output_type": "display_data"
    }
   ],
   "source": [
    "plt.scatter(x, y, color=\"b\", alpha=0.4)\n",
    "plt.plot(x, resultados.predict(), color=\"r\");\n",
    "plt.ylabel(\"Altura\")\n",
    "plt.xlabel(\"Peso\")\n",
    "plt.title(\"Altura x Peso\")\n",
    "plt.show()"
   ]
  },
  {
   "cell_type": "markdown",
   "metadata": {},
   "source": [
    "<div id=\"q3e\"></div>\n",
    "\n",
    "**e) [0,5 PONTO]** Qual seria o peso, em gramas, de um peixe com as seguintes especificações utilizando o modelo ajustado no item *d*?\n",
    "\n",
    "- `Length1`: 28\n",
    "- `Length2`: 30\n",
    "- `Length3`: 36\n",
    "- `Height`: 16\n",
    "- `Width`: 5"
   ]
  },
  {
   "cell_type": "code",
   "execution_count": 69,
   "metadata": {},
   "outputs": [
    {
     "data": {
      "text/plain": [
       "array([701.7166182])"
      ]
     },
     "execution_count": 69,
     "metadata": {},
     "output_type": "execute_result"
    }
   ],
   "source": [
    "resultados.predict((1,16))"
   ]
  }
 ],
 "metadata": {
  "hide_input": false,
  "kernelspec": {
   "display_name": "Python 3",
   "language": "python",
   "name": "python3"
  },
  "language_info": {
   "codemirror_mode": {
    "name": "ipython",
    "version": 3
   },
   "file_extension": ".py",
   "mimetype": "text/x-python",
   "name": "python",
   "nbconvert_exporter": "python",
   "pygments_lexer": "ipython3",
   "version": "3.7.7"
  }
 },
 "nbformat": 4,
 "nbformat_minor": 4
}
